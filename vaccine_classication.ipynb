{
  "nbformat": 4,
  "nbformat_minor": 0,
  "metadata": {
    "colab": {
      "provenance": [],
      "include_colab_link": true
    },
    "kernelspec": {
      "name": "python3",
      "display_name": "Python 3"
    },
    "language_info": {
      "name": "python"
    },
    "widgets": {
      "application/vnd.jupyter.widget-state+json": {
        "0c0bb8f1699348179c779dd12da82dfb": {
          "model_module": "@jupyter-widgets/controls",
          "model_name": "TextModel",
          "model_module_version": "1.5.0",
          "state": {
            "_view_name": "TextView",
            "style": "IPY_MODEL_1e4ead8e329c475ba6ae465047399628",
            "_dom_classes": [],
            "description": "",
            "_model_name": "TextModel",
            "placeholder": "​",
            "_view_module": "@jupyter-widgets/controls",
            "_model_module_version": "1.5.0",
            "value": "Following data types have been inferred automatically, if they are correct press enter to continue or type 'quit' otherwise.",
            "_view_count": null,
            "disabled": false,
            "_view_module_version": "1.5.0",
            "continuous_update": true,
            "description_tooltip": null,
            "_model_module": "@jupyter-widgets/controls",
            "layout": "IPY_MODEL_250a2059905c4e50aaf473cc3a2a8b51"
          }
        },
        "1e4ead8e329c475ba6ae465047399628": {
          "model_module": "@jupyter-widgets/controls",
          "model_name": "DescriptionStyleModel",
          "model_module_version": "1.5.0",
          "state": {
            "_view_name": "StyleView",
            "_model_name": "DescriptionStyleModel",
            "description_width": "",
            "_view_module": "@jupyter-widgets/base",
            "_model_module_version": "1.5.0",
            "_view_count": null,
            "_view_module_version": "1.2.0",
            "_model_module": "@jupyter-widgets/controls"
          }
        },
        "250a2059905c4e50aaf473cc3a2a8b51": {
          "model_module": "@jupyter-widgets/base",
          "model_name": "LayoutModel",
          "model_module_version": "1.2.0",
          "state": {
            "_view_name": "LayoutView",
            "grid_template_rows": null,
            "right": null,
            "justify_content": null,
            "_view_module": "@jupyter-widgets/base",
            "overflow": null,
            "_model_module_version": "1.2.0",
            "_view_count": null,
            "flex_flow": null,
            "width": "100%",
            "min_width": null,
            "border": null,
            "align_items": null,
            "bottom": null,
            "_model_module": "@jupyter-widgets/base",
            "top": null,
            "grid_column": null,
            "overflow_y": null,
            "overflow_x": null,
            "grid_auto_flow": null,
            "grid_area": null,
            "grid_template_columns": null,
            "flex": null,
            "_model_name": "LayoutModel",
            "justify_items": null,
            "grid_row": null,
            "max_height": null,
            "align_content": null,
            "visibility": null,
            "align_self": null,
            "height": null,
            "min_height": null,
            "padding": null,
            "grid_auto_rows": null,
            "grid_gap": null,
            "max_width": null,
            "order": null,
            "_view_module_version": "1.2.0",
            "grid_template_areas": null,
            "object_position": null,
            "object_fit": null,
            "grid_auto_columns": null,
            "margin": null,
            "display": null,
            "left": null
          }
        },
        "37ab7fd0d2ca46569792ef8a4a0999fe": {
          "model_module": "@jupyter-widgets/controls",
          "model_name": "IntProgressModel",
          "model_module_version": "1.5.0",
          "state": {
            "_view_name": "ProgressView",
            "style": "IPY_MODEL_0bd2af8e5a61462d8d96f5b4f1af061d",
            "_dom_classes": [],
            "description": "Processing: ",
            "_model_name": "IntProgressModel",
            "bar_style": "",
            "max": 9,
            "_view_module": "@jupyter-widgets/controls",
            "_model_module_version": "1.5.0",
            "value": 9,
            "_view_count": null,
            "_view_module_version": "1.5.0",
            "orientation": "horizontal",
            "min": 0,
            "description_tooltip": null,
            "_model_module": "@jupyter-widgets/controls",
            "layout": "IPY_MODEL_83bdc8bff630489b89dfb0720764c3a4"
          }
        },
        "0bd2af8e5a61462d8d96f5b4f1af061d": {
          "model_module": "@jupyter-widgets/controls",
          "model_name": "ProgressStyleModel",
          "model_module_version": "1.5.0",
          "state": {
            "_view_name": "StyleView",
            "_model_name": "ProgressStyleModel",
            "description_width": "",
            "_view_module": "@jupyter-widgets/base",
            "_model_module_version": "1.5.0",
            "_view_count": null,
            "_view_module_version": "1.2.0",
            "bar_color": null,
            "_model_module": "@jupyter-widgets/controls"
          }
        },
        "83bdc8bff630489b89dfb0720764c3a4": {
          "model_module": "@jupyter-widgets/base",
          "model_name": "LayoutModel",
          "model_module_version": "1.2.0",
          "state": {
            "_view_name": "LayoutView",
            "grid_template_rows": null,
            "right": null,
            "justify_content": null,
            "_view_module": "@jupyter-widgets/base",
            "overflow": null,
            "_model_module_version": "1.2.0",
            "_view_count": null,
            "flex_flow": null,
            "width": null,
            "min_width": null,
            "border": null,
            "align_items": null,
            "bottom": null,
            "_model_module": "@jupyter-widgets/base",
            "top": null,
            "grid_column": null,
            "overflow_y": null,
            "overflow_x": null,
            "grid_auto_flow": null,
            "grid_area": null,
            "grid_template_columns": null,
            "flex": null,
            "_model_name": "LayoutModel",
            "justify_items": null,
            "grid_row": null,
            "max_height": null,
            "align_content": null,
            "visibility": null,
            "align_self": null,
            "height": null,
            "min_height": null,
            "padding": null,
            "grid_auto_rows": null,
            "grid_gap": null,
            "max_width": null,
            "order": null,
            "_view_module_version": "1.2.0",
            "grid_template_areas": null,
            "object_position": null,
            "object_fit": null,
            "grid_auto_columns": null,
            "margin": null,
            "display": null,
            "left": null
          }
        },
        "e4dafc5c31d8438a9d24de07782461d1": {
          "model_module": "@jupyter-widgets/controls",
          "model_name": "IntProgressModel",
          "model_module_version": "1.5.0",
          "state": {
            "_view_name": "ProgressView",
            "style": "IPY_MODEL_46e52d482c9f4b0ba45a0429bf3e81a3",
            "_dom_classes": [],
            "description": "Processing: ",
            "_model_name": "IntProgressModel",
            "bar_style": "",
            "max": 7,
            "_view_module": "@jupyter-widgets/controls",
            "_model_module_version": "1.5.0",
            "value": 2,
            "_view_count": null,
            "_view_module_version": "1.5.0",
            "orientation": "horizontal",
            "min": 0,
            "description_tooltip": null,
            "_model_module": "@jupyter-widgets/controls",
            "layout": "IPY_MODEL_a68389b597e046abb641b45b434f98d5"
          }
        },
        "46e52d482c9f4b0ba45a0429bf3e81a3": {
          "model_module": "@jupyter-widgets/controls",
          "model_name": "ProgressStyleModel",
          "model_module_version": "1.5.0",
          "state": {
            "_view_name": "StyleView",
            "_model_name": "ProgressStyleModel",
            "description_width": "",
            "_view_module": "@jupyter-widgets/base",
            "_model_module_version": "1.5.0",
            "_view_count": null,
            "_view_module_version": "1.2.0",
            "bar_color": null,
            "_model_module": "@jupyter-widgets/controls"
          }
        },
        "a68389b597e046abb641b45b434f98d5": {
          "model_module": "@jupyter-widgets/base",
          "model_name": "LayoutModel",
          "model_module_version": "1.2.0",
          "state": {
            "_view_name": "LayoutView",
            "grid_template_rows": null,
            "right": null,
            "justify_content": null,
            "_view_module": "@jupyter-widgets/base",
            "overflow": null,
            "_model_module_version": "1.2.0",
            "_view_count": null,
            "flex_flow": null,
            "width": null,
            "min_width": null,
            "border": null,
            "align_items": null,
            "bottom": null,
            "_model_module": "@jupyter-widgets/base",
            "top": null,
            "grid_column": null,
            "overflow_y": null,
            "overflow_x": null,
            "grid_auto_flow": null,
            "grid_area": null,
            "grid_template_columns": null,
            "flex": null,
            "_model_name": "LayoutModel",
            "justify_items": null,
            "grid_row": null,
            "max_height": null,
            "align_content": null,
            "visibility": null,
            "align_self": null,
            "height": null,
            "min_height": null,
            "padding": null,
            "grid_auto_rows": null,
            "grid_gap": null,
            "max_width": null,
            "order": null,
            "_view_module_version": "1.2.0",
            "grid_template_areas": null,
            "object_position": null,
            "object_fit": null,
            "grid_auto_columns": null,
            "margin": null,
            "display": null,
            "left": null
          }
        },
        "ff7e271ba91b4636b03e549be42b4d0f": {
          "model_module": "@jupyter-widgets/controls",
          "model_name": "IntProgressModel",
          "model_module_version": "1.5.0",
          "state": {
            "_view_name": "ProgressView",
            "style": "IPY_MODEL_d09692647e884431bef879c5d339c82b",
            "_dom_classes": [],
            "description": "Processing: ",
            "_model_name": "IntProgressModel",
            "bar_style": "",
            "max": 7,
            "_view_module": "@jupyter-widgets/controls",
            "_model_module_version": "1.5.0",
            "value": 7,
            "_view_count": null,
            "_view_module_version": "1.5.0",
            "orientation": "horizontal",
            "min": 0,
            "description_tooltip": null,
            "_model_module": "@jupyter-widgets/controls",
            "layout": "IPY_MODEL_2584ec06282942aebb6feffd4b65a6ad"
          }
        },
        "d09692647e884431bef879c5d339c82b": {
          "model_module": "@jupyter-widgets/controls",
          "model_name": "ProgressStyleModel",
          "model_module_version": "1.5.0",
          "state": {
            "_view_name": "StyleView",
            "_model_name": "ProgressStyleModel",
            "description_width": "",
            "_view_module": "@jupyter-widgets/base",
            "_model_module_version": "1.5.0",
            "_view_count": null,
            "_view_module_version": "1.2.0",
            "bar_color": null,
            "_model_module": "@jupyter-widgets/controls"
          }
        },
        "2584ec06282942aebb6feffd4b65a6ad": {
          "model_module": "@jupyter-widgets/base",
          "model_name": "LayoutModel",
          "model_module_version": "1.2.0",
          "state": {
            "_view_name": "LayoutView",
            "grid_template_rows": null,
            "right": null,
            "justify_content": null,
            "_view_module": "@jupyter-widgets/base",
            "overflow": null,
            "_model_module_version": "1.2.0",
            "_view_count": null,
            "flex_flow": null,
            "width": null,
            "min_width": null,
            "border": null,
            "align_items": null,
            "bottom": null,
            "_model_module": "@jupyter-widgets/base",
            "top": null,
            "grid_column": null,
            "overflow_y": null,
            "overflow_x": null,
            "grid_auto_flow": null,
            "grid_area": null,
            "grid_template_columns": null,
            "flex": null,
            "_model_name": "LayoutModel",
            "justify_items": null,
            "grid_row": null,
            "max_height": null,
            "align_content": null,
            "visibility": null,
            "align_self": null,
            "height": null,
            "min_height": null,
            "padding": null,
            "grid_auto_rows": null,
            "grid_gap": null,
            "max_width": null,
            "order": null,
            "_view_module_version": "1.2.0",
            "grid_template_areas": null,
            "object_position": null,
            "object_fit": null,
            "grid_auto_columns": null,
            "margin": null,
            "display": null,
            "left": null
          }
        },
        "fd3f8b47e908472fa4ce9a18e1c8b404": {
          "model_module": "@jupyter-widgets/controls",
          "model_name": "IntProgressModel",
          "model_module_version": "1.5.0",
          "state": {
            "_view_name": "ProgressView",
            "style": "IPY_MODEL_1f29e022e62843df93eb54b43f855e3e",
            "_dom_classes": [],
            "description": "Processing: ",
            "_model_name": "IntProgressModel",
            "bar_style": "",
            "max": 7,
            "_view_module": "@jupyter-widgets/controls",
            "_model_module_version": "1.5.0",
            "value": 7,
            "_view_count": null,
            "_view_module_version": "1.5.0",
            "orientation": "horizontal",
            "min": 0,
            "description_tooltip": null,
            "_model_module": "@jupyter-widgets/controls",
            "layout": "IPY_MODEL_333a1cc43e3848e1b8ab399512d5ede5"
          }
        },
        "1f29e022e62843df93eb54b43f855e3e": {
          "model_module": "@jupyter-widgets/controls",
          "model_name": "ProgressStyleModel",
          "model_module_version": "1.5.0",
          "state": {
            "_view_name": "StyleView",
            "_model_name": "ProgressStyleModel",
            "description_width": "",
            "_view_module": "@jupyter-widgets/base",
            "_model_module_version": "1.5.0",
            "_view_count": null,
            "_view_module_version": "1.2.0",
            "bar_color": null,
            "_model_module": "@jupyter-widgets/controls"
          }
        },
        "333a1cc43e3848e1b8ab399512d5ede5": {
          "model_module": "@jupyter-widgets/base",
          "model_name": "LayoutModel",
          "model_module_version": "1.2.0",
          "state": {
            "_view_name": "LayoutView",
            "grid_template_rows": null,
            "right": null,
            "justify_content": null,
            "_view_module": "@jupyter-widgets/base",
            "overflow": null,
            "_model_module_version": "1.2.0",
            "_view_count": null,
            "flex_flow": null,
            "width": null,
            "min_width": null,
            "border": null,
            "align_items": null,
            "bottom": null,
            "_model_module": "@jupyter-widgets/base",
            "top": null,
            "grid_column": null,
            "overflow_y": null,
            "overflow_x": null,
            "grid_auto_flow": null,
            "grid_area": null,
            "grid_template_columns": null,
            "flex": null,
            "_model_name": "LayoutModel",
            "justify_items": null,
            "grid_row": null,
            "max_height": null,
            "align_content": null,
            "visibility": null,
            "align_self": null,
            "height": null,
            "min_height": null,
            "padding": null,
            "grid_auto_rows": null,
            "grid_gap": null,
            "max_width": null,
            "order": null,
            "_view_module_version": "1.2.0",
            "grid_template_areas": null,
            "object_position": null,
            "object_fit": null,
            "grid_auto_columns": null,
            "margin": null,
            "display": null,
            "left": null
          }
        },
        "c9563d7a3d6448ebbb3aac6c66e52f36": {
          "model_module": "@jupyter-widgets/controls",
          "model_name": "IntProgressModel",
          "model_module_version": "1.5.0",
          "state": {
            "_view_name": "ProgressView",
            "style": "IPY_MODEL_1973a5698703466da4ab4e789588408c",
            "_dom_classes": [],
            "description": "Processing: ",
            "_model_name": "IntProgressModel",
            "bar_style": "",
            "max": 5,
            "_view_module": "@jupyter-widgets/controls",
            "_model_module_version": "1.5.0",
            "value": 5,
            "_view_count": null,
            "_view_module_version": "1.5.0",
            "orientation": "horizontal",
            "min": 0,
            "description_tooltip": null,
            "_model_module": "@jupyter-widgets/controls",
            "layout": "IPY_MODEL_36deaa7a708947ae9dd7a589a0437cf0"
          }
        },
        "9a07f37fb82a4571bbcd45b31f0767ba": {
          "model_module": "@jupyter-widgets/controls",
          "model_name": "IntProgressModel",
          "model_module_version": "1.5.0",
          "state": {
            "_view_name": "ProgressView",
            "style": "IPY_MODEL_b8a39149fd5f4cc2bfcae2b1468bdd6b",
            "_dom_classes": [],
            "description": "Processing: ",
            "_model_name": "IntProgressModel",
            "bar_style": "",
            "max": 6,
            "_view_module": "@jupyter-widgets/controls",
            "_model_module_version": "1.5.0",
            "value": 6,
            "_view_count": null,
            "_view_module_version": "1.5.0",
            "orientation": "horizontal",
            "min": 0,
            "description_tooltip": null,
            "_model_module": "@jupyter-widgets/controls",
            "layout": "IPY_MODEL_5d38132b800d465db8837bac596d8a39"
          }
        },
        "b8a39149fd5f4cc2bfcae2b1468bdd6b": {
          "model_module": "@jupyter-widgets/controls",
          "model_name": "ProgressStyleModel",
          "model_module_version": "1.5.0",
          "state": {
            "_view_name": "StyleView",
            "_model_name": "ProgressStyleModel",
            "description_width": "",
            "_view_module": "@jupyter-widgets/base",
            "_model_module_version": "1.5.0",
            "_view_count": null,
            "_view_module_version": "1.2.0",
            "bar_color": null,
            "_model_module": "@jupyter-widgets/controls"
          }
        },
        "5d38132b800d465db8837bac596d8a39": {
          "model_module": "@jupyter-widgets/base",
          "model_name": "LayoutModel",
          "model_module_version": "1.2.0",
          "state": {
            "_view_name": "LayoutView",
            "grid_template_rows": null,
            "right": null,
            "justify_content": null,
            "_view_module": "@jupyter-widgets/base",
            "overflow": null,
            "_model_module_version": "1.2.0",
            "_view_count": null,
            "flex_flow": null,
            "width": null,
            "min_width": null,
            "border": null,
            "align_items": null,
            "bottom": null,
            "_model_module": "@jupyter-widgets/base",
            "top": null,
            "grid_column": null,
            "overflow_y": null,
            "overflow_x": null,
            "grid_auto_flow": null,
            "grid_area": null,
            "grid_template_columns": null,
            "flex": null,
            "_model_name": "LayoutModel",
            "justify_items": null,
            "grid_row": null,
            "max_height": null,
            "align_content": null,
            "visibility": null,
            "align_self": null,
            "height": null,
            "min_height": null,
            "padding": null,
            "grid_auto_rows": null,
            "grid_gap": null,
            "max_width": null,
            "order": null,
            "_view_module_version": "1.2.0",
            "grid_template_areas": null,
            "object_position": null,
            "object_fit": null,
            "grid_auto_columns": null,
            "margin": null,
            "display": null,
            "left": null
          }
        },
        "1524c4131b49428fb55e60341c49277e": {
          "model_module": "@jupyter-widgets/controls",
          "model_name": "IntProgressModel",
          "model_module_version": "1.5.0",
          "state": {
            "_view_name": "ProgressView",
            "style": "IPY_MODEL_83b26e3c8aca4356b8bc3247c550d081",
            "_dom_classes": [],
            "description": "Processing: ",
            "_model_name": "IntProgressModel",
            "bar_style": "",
            "max": 6,
            "_view_module": "@jupyter-widgets/controls",
            "_model_module_version": "1.5.0",
            "value": 6,
            "_view_count": null,
            "_view_module_version": "1.5.0",
            "orientation": "horizontal",
            "min": 0,
            "description_tooltip": null,
            "_model_module": "@jupyter-widgets/controls",
            "layout": "IPY_MODEL_6afa3743797d401fb8b552e605dca621"
          }
        },
        "83b26e3c8aca4356b8bc3247c550d081": {
          "model_module": "@jupyter-widgets/controls",
          "model_name": "ProgressStyleModel",
          "model_module_version": "1.5.0",
          "state": {
            "_view_name": "StyleView",
            "_model_name": "ProgressStyleModel",
            "description_width": "",
            "_view_module": "@jupyter-widgets/base",
            "_model_module_version": "1.5.0",
            "_view_count": null,
            "_view_module_version": "1.2.0",
            "bar_color": null,
            "_model_module": "@jupyter-widgets/controls"
          }
        },
        "6afa3743797d401fb8b552e605dca621": {
          "model_module": "@jupyter-widgets/base",
          "model_name": "LayoutModel",
          "model_module_version": "1.2.0",
          "state": {
            "_view_name": "LayoutView",
            "grid_template_rows": null,
            "right": null,
            "justify_content": null,
            "_view_module": "@jupyter-widgets/base",
            "overflow": null,
            "_model_module_version": "1.2.0",
            "_view_count": null,
            "flex_flow": null,
            "width": null,
            "min_width": null,
            "border": null,
            "align_items": null,
            "bottom": null,
            "_model_module": "@jupyter-widgets/base",
            "top": null,
            "grid_column": null,
            "overflow_y": null,
            "overflow_x": null,
            "grid_auto_flow": null,
            "grid_area": null,
            "grid_template_columns": null,
            "flex": null,
            "_model_name": "LayoutModel",
            "justify_items": null,
            "grid_row": null,
            "max_height": null,
            "align_content": null,
            "visibility": null,
            "align_self": null,
            "height": null,
            "min_height": null,
            "padding": null,
            "grid_auto_rows": null,
            "grid_gap": null,
            "max_width": null,
            "order": null,
            "_view_module_version": "1.2.0",
            "grid_template_areas": null,
            "object_position": null,
            "object_fit": null,
            "grid_auto_columns": null,
            "margin": null,
            "display": null,
            "left": null
          }
        },
        "b7fc800460624be69140e7fae5641b8a": {
          "model_module": "@jupyter-widgets/controls",
          "model_name": "TextModel",
          "model_module_version": "1.5.0",
          "state": {
            "_view_name": "TextView",
            "style": "IPY_MODEL_113a02e0b1594bbfb1fa223f3bc2649d",
            "_dom_classes": [],
            "description": "",
            "_model_name": "TextModel",
            "placeholder": "​",
            "_view_module": "@jupyter-widgets/controls",
            "_model_module_version": "1.5.0",
            "value": "Following data types have been inferred automatically, if they are correct press enter to continue or type 'quit' otherwise.",
            "_view_count": null,
            "disabled": false,
            "_view_module_version": "1.5.0",
            "continuous_update": true,
            "description_tooltip": null,
            "_model_module": "@jupyter-widgets/controls",
            "layout": "IPY_MODEL_6f9e6a9fdd3c4dbaa37039a02bd2ded0"
          }
        },
        "113a02e0b1594bbfb1fa223f3bc2649d": {
          "model_module": "@jupyter-widgets/controls",
          "model_name": "DescriptionStyleModel",
          "model_module_version": "1.5.0",
          "state": {
            "_view_name": "StyleView",
            "_model_name": "DescriptionStyleModel",
            "description_width": "",
            "_view_module": "@jupyter-widgets/base",
            "_model_module_version": "1.5.0",
            "_view_count": null,
            "_view_module_version": "1.2.0",
            "_model_module": "@jupyter-widgets/controls"
          }
        },
        "6f9e6a9fdd3c4dbaa37039a02bd2ded0": {
          "model_module": "@jupyter-widgets/base",
          "model_name": "LayoutModel",
          "model_module_version": "1.2.0",
          "state": {
            "_view_name": "LayoutView",
            "grid_template_rows": null,
            "right": null,
            "justify_content": null,
            "_view_module": "@jupyter-widgets/base",
            "overflow": null,
            "_model_module_version": "1.2.0",
            "_view_count": null,
            "flex_flow": null,
            "width": "100%",
            "min_width": null,
            "border": null,
            "align_items": null,
            "bottom": null,
            "_model_module": "@jupyter-widgets/base",
            "top": null,
            "grid_column": null,
            "overflow_y": null,
            "overflow_x": null,
            "grid_auto_flow": null,
            "grid_area": null,
            "grid_template_columns": null,
            "flex": null,
            "_model_name": "LayoutModel",
            "justify_items": null,
            "grid_row": null,
            "max_height": null,
            "align_content": null,
            "visibility": null,
            "align_self": null,
            "height": null,
            "min_height": null,
            "padding": null,
            "grid_auto_rows": null,
            "grid_gap": null,
            "max_width": null,
            "order": null,
            "_view_module_version": "1.2.0",
            "grid_template_areas": null,
            "object_position": null,
            "object_fit": null,
            "grid_auto_columns": null,
            "margin": null,
            "display": null,
            "left": null
          }
        },
        "eed2d4e60a80460f806dc47454fd754e": {
          "model_module": "@jupyter-widgets/controls",
          "model_name": "IntProgressModel",
          "model_module_version": "1.5.0",
          "state": {
            "_view_name": "ProgressView",
            "style": "IPY_MODEL_c94aeebdaf744d67bc6713f66d47c9d6",
            "_dom_classes": [],
            "description": "Processing: ",
            "_model_name": "IntProgressModel",
            "bar_style": "",
            "max": 9,
            "_view_module": "@jupyter-widgets/controls",
            "_model_module_version": "1.5.0",
            "value": 9,
            "_view_count": null,
            "_view_module_version": "1.5.0",
            "orientation": "horizontal",
            "min": 0,
            "description_tooltip": null,
            "_model_module": "@jupyter-widgets/controls",
            "layout": "IPY_MODEL_2dbd1f6587574cdc956ebc2036b2b29e"
          }
        },
        "c94aeebdaf744d67bc6713f66d47c9d6": {
          "model_module": "@jupyter-widgets/controls",
          "model_name": "ProgressStyleModel",
          "model_module_version": "1.5.0",
          "state": {
            "_view_name": "StyleView",
            "_model_name": "ProgressStyleModel",
            "description_width": "",
            "_view_module": "@jupyter-widgets/base",
            "_model_module_version": "1.5.0",
            "_view_count": null,
            "_view_module_version": "1.2.0",
            "bar_color": null,
            "_model_module": "@jupyter-widgets/controls"
          }
        },
        "2dbd1f6587574cdc956ebc2036b2b29e": {
          "model_module": "@jupyter-widgets/base",
          "model_name": "LayoutModel",
          "model_module_version": "1.2.0",
          "state": {
            "_view_name": "LayoutView",
            "grid_template_rows": null,
            "right": null,
            "justify_content": null,
            "_view_module": "@jupyter-widgets/base",
            "overflow": null,
            "_model_module_version": "1.2.0",
            "_view_count": null,
            "flex_flow": null,
            "width": null,
            "min_width": null,
            "border": null,
            "align_items": null,
            "bottom": null,
            "_model_module": "@jupyter-widgets/base",
            "top": null,
            "grid_column": null,
            "overflow_y": null,
            "overflow_x": null,
            "grid_auto_flow": null,
            "grid_area": null,
            "grid_template_columns": null,
            "flex": null,
            "_model_name": "LayoutModel",
            "justify_items": null,
            "grid_row": null,
            "max_height": null,
            "align_content": null,
            "visibility": null,
            "align_self": null,
            "height": null,
            "min_height": null,
            "padding": null,
            "grid_auto_rows": null,
            "grid_gap": null,
            "max_width": null,
            "order": null,
            "_view_module_version": "1.2.0",
            "grid_template_areas": null,
            "object_position": null,
            "object_fit": null,
            "grid_auto_columns": null,
            "margin": null,
            "display": null,
            "left": null
          }
        },
        "79f2cc68524f4355b6a2accf5addff50": {
          "model_module": "@jupyter-widgets/controls",
          "model_name": "IntProgressModel",
          "model_module_version": "1.5.0",
          "state": {
            "_view_name": "ProgressView",
            "style": "IPY_MODEL_56e783fb025a42098da03a55dc1f9e7b",
            "_dom_classes": [],
            "description": "Processing: ",
            "_model_name": "IntProgressModel",
            "bar_style": "",
            "max": 7,
            "_view_module": "@jupyter-widgets/controls",
            "_model_module_version": "1.5.0",
            "value": 7,
            "_view_count": null,
            "_view_module_version": "1.5.0",
            "orientation": "horizontal",
            "min": 0,
            "description_tooltip": null,
            "_model_module": "@jupyter-widgets/controls",
            "layout": "IPY_MODEL_884e55b90fa349bf89c717b43bceb017"
          }
        },
        "56e783fb025a42098da03a55dc1f9e7b": {
          "model_module": "@jupyter-widgets/controls",
          "model_name": "ProgressStyleModel",
          "model_module_version": "1.5.0",
          "state": {
            "_view_name": "StyleView",
            "_model_name": "ProgressStyleModel",
            "description_width": "",
            "_view_module": "@jupyter-widgets/base",
            "_model_module_version": "1.5.0",
            "_view_count": null,
            "_view_module_version": "1.2.0",
            "bar_color": null,
            "_model_module": "@jupyter-widgets/controls"
          }
        },
        "884e55b90fa349bf89c717b43bceb017": {
          "model_module": "@jupyter-widgets/base",
          "model_name": "LayoutModel",
          "model_module_version": "1.2.0",
          "state": {
            "_view_name": "LayoutView",
            "grid_template_rows": null,
            "right": null,
            "justify_content": null,
            "_view_module": "@jupyter-widgets/base",
            "overflow": null,
            "_model_module_version": "1.2.0",
            "_view_count": null,
            "flex_flow": null,
            "width": null,
            "min_width": null,
            "border": null,
            "align_items": null,
            "bottom": null,
            "_model_module": "@jupyter-widgets/base",
            "top": null,
            "grid_column": null,
            "overflow_y": null,
            "overflow_x": null,
            "grid_auto_flow": null,
            "grid_area": null,
            "grid_template_columns": null,
            "flex": null,
            "_model_name": "LayoutModel",
            "justify_items": null,
            "grid_row": null,
            "max_height": null,
            "align_content": null,
            "visibility": null,
            "align_self": null,
            "height": null,
            "min_height": null,
            "padding": null,
            "grid_auto_rows": null,
            "grid_gap": null,
            "max_width": null,
            "order": null,
            "_view_module_version": "1.2.0",
            "grid_template_areas": null,
            "object_position": null,
            "object_fit": null,
            "grid_auto_columns": null,
            "margin": null,
            "display": null,
            "left": null
          }
        },
        "f3b277a33c81417fbc8b5082e4cca88c": {
          "model_module": "@jupyter-widgets/controls",
          "model_name": "IntProgressModel",
          "model_module_version": "1.5.0",
          "state": {
            "_view_name": "ProgressView",
            "style": "IPY_MODEL_9ae5809d7aa344e598426407f38edf69",
            "_dom_classes": [],
            "description": "Processing: ",
            "_model_name": "IntProgressModel",
            "bar_style": "",
            "max": 7,
            "_view_module": "@jupyter-widgets/controls",
            "_model_module_version": "1.5.0",
            "value": 7,
            "_view_count": null,
            "_view_module_version": "1.5.0",
            "orientation": "horizontal",
            "min": 0,
            "description_tooltip": null,
            "_model_module": "@jupyter-widgets/controls",
            "layout": "IPY_MODEL_05db4cf1d4e441a5a4727e09f5a0f517"
          }
        },
        "9ae5809d7aa344e598426407f38edf69": {
          "model_module": "@jupyter-widgets/controls",
          "model_name": "ProgressStyleModel",
          "model_module_version": "1.5.0",
          "state": {
            "_view_name": "StyleView",
            "_model_name": "ProgressStyleModel",
            "description_width": "",
            "_view_module": "@jupyter-widgets/base",
            "_model_module_version": "1.5.0",
            "_view_count": null,
            "_view_module_version": "1.2.0",
            "bar_color": null,
            "_model_module": "@jupyter-widgets/controls"
          }
        },
        "05db4cf1d4e441a5a4727e09f5a0f517": {
          "model_module": "@jupyter-widgets/base",
          "model_name": "LayoutModel",
          "model_module_version": "1.2.0",
          "state": {
            "_view_name": "LayoutView",
            "grid_template_rows": null,
            "right": null,
            "justify_content": null,
            "_view_module": "@jupyter-widgets/base",
            "overflow": null,
            "_model_module_version": "1.2.0",
            "_view_count": null,
            "flex_flow": null,
            "width": null,
            "min_width": null,
            "border": null,
            "align_items": null,
            "bottom": null,
            "_model_module": "@jupyter-widgets/base",
            "top": null,
            "grid_column": null,
            "overflow_y": null,
            "overflow_x": null,
            "grid_auto_flow": null,
            "grid_area": null,
            "grid_template_columns": null,
            "flex": null,
            "_model_name": "LayoutModel",
            "justify_items": null,
            "grid_row": null,
            "max_height": null,
            "align_content": null,
            "visibility": null,
            "align_self": null,
            "height": null,
            "min_height": null,
            "padding": null,
            "grid_auto_rows": null,
            "grid_gap": null,
            "max_width": null,
            "order": null,
            "_view_module_version": "1.2.0",
            "grid_template_areas": null,
            "object_position": null,
            "object_fit": null,
            "grid_auto_columns": null,
            "margin": null,
            "display": null,
            "left": null
          }
        },
        "a174fd2ba67943eba7bc4562a090f69a": {
          "model_module": "@jupyter-widgets/controls",
          "model_name": "IntProgressModel",
          "model_module_version": "1.5.0",
          "state": {
            "_view_name": "ProgressView",
            "style": "IPY_MODEL_be50030792fa4920a4517224d1ce7538",
            "_dom_classes": [],
            "description": "Processing: ",
            "_model_name": "IntProgressModel",
            "bar_style": "",
            "max": 7,
            "_view_module": "@jupyter-widgets/controls",
            "_model_module_version": "1.5.0",
            "value": 7,
            "_view_count": null,
            "_view_module_version": "1.5.0",
            "orientation": "horizontal",
            "min": 0,
            "description_tooltip": null,
            "_model_module": "@jupyter-widgets/controls",
            "layout": "IPY_MODEL_c6cfa59077c649a8b224b35bdd58b8f6"
          }
        },
        "be50030792fa4920a4517224d1ce7538": {
          "model_module": "@jupyter-widgets/controls",
          "model_name": "ProgressStyleModel",
          "model_module_version": "1.5.0",
          "state": {
            "_view_name": "StyleView",
            "_model_name": "ProgressStyleModel",
            "description_width": "",
            "_view_module": "@jupyter-widgets/base",
            "_model_module_version": "1.5.0",
            "_view_count": null,
            "_view_module_version": "1.2.0",
            "bar_color": null,
            "_model_module": "@jupyter-widgets/controls"
          }
        },
        "c6cfa59077c649a8b224b35bdd58b8f6": {
          "model_module": "@jupyter-widgets/base",
          "model_name": "LayoutModel",
          "model_module_version": "1.2.0",
          "state": {
            "_view_name": "LayoutView",
            "grid_template_rows": null,
            "right": null,
            "justify_content": null,
            "_view_module": "@jupyter-widgets/base",
            "overflow": null,
            "_model_module_version": "1.2.0",
            "_view_count": null,
            "flex_flow": null,
            "width": null,
            "min_width": null,
            "border": null,
            "align_items": null,
            "bottom": null,
            "_model_module": "@jupyter-widgets/base",
            "top": null,
            "grid_column": null,
            "overflow_y": null,
            "overflow_x": null,
            "grid_auto_flow": null,
            "grid_area": null,
            "grid_template_columns": null,
            "flex": null,
            "_model_name": "LayoutModel",
            "justify_items": null,
            "grid_row": null,
            "max_height": null,
            "align_content": null,
            "visibility": null,
            "align_self": null,
            "height": null,
            "min_height": null,
            "padding": null,
            "grid_auto_rows": null,
            "grid_gap": null,
            "max_width": null,
            "order": null,
            "_view_module_version": "1.2.0",
            "grid_template_areas": null,
            "object_position": null,
            "object_fit": null,
            "grid_auto_columns": null,
            "margin": null,
            "display": null,
            "left": null
          }
        },
        "d9ca7a2809174ffeb22b929dbd0238e9": {
          "model_module": "@jupyter-widgets/controls",
          "model_name": "IntProgressModel",
          "model_module_version": "1.5.0",
          "state": {
            "_view_name": "ProgressView",
            "style": "IPY_MODEL_5287fcb09dc3468b8aafd832a06cacaa",
            "_dom_classes": [],
            "description": "Processing: ",
            "_model_name": "IntProgressModel",
            "bar_style": "",
            "max": 5,
            "_view_module": "@jupyter-widgets/controls",
            "_model_module_version": "1.5.0",
            "value": 5,
            "_view_count": null,
            "_view_module_version": "1.5.0",
            "orientation": "horizontal",
            "min": 0,
            "description_tooltip": null,
            "_model_module": "@jupyter-widgets/controls",
            "layout": "IPY_MODEL_358835a4c11a42e8a749830b7e8bb1e0"
          }
        },
        "5287fcb09dc3468b8aafd832a06cacaa": {
          "model_module": "@jupyter-widgets/controls",
          "model_name": "ProgressStyleModel",
          "model_module_version": "1.5.0",
          "state": {
            "_view_name": "StyleView",
            "_model_name": "ProgressStyleModel",
            "description_width": "",
            "_view_module": "@jupyter-widgets/base",
            "_model_module_version": "1.5.0",
            "_view_count": null,
            "_view_module_version": "1.2.0",
            "bar_color": null,
            "_model_module": "@jupyter-widgets/controls"
          }
        },
        "358835a4c11a42e8a749830b7e8bb1e0": {
          "model_module": "@jupyter-widgets/base",
          "model_name": "LayoutModel",
          "model_module_version": "1.2.0",
          "state": {
            "_view_name": "LayoutView",
            "grid_template_rows": null,
            "right": null,
            "justify_content": null,
            "_view_module": "@jupyter-widgets/base",
            "overflow": null,
            "_model_module_version": "1.2.0",
            "_view_count": null,
            "flex_flow": null,
            "width": null,
            "min_width": null,
            "border": null,
            "align_items": null,
            "bottom": null,
            "_model_module": "@jupyter-widgets/base",
            "top": null,
            "grid_column": null,
            "overflow_y": null,
            "overflow_x": null,
            "grid_auto_flow": null,
            "grid_area": null,
            "grid_template_columns": null,
            "flex": null,
            "_model_name": "LayoutModel",
            "justify_items": null,
            "grid_row": null,
            "max_height": null,
            "align_content": null,
            "visibility": null,
            "align_self": null,
            "height": null,
            "min_height": null,
            "padding": null,
            "grid_auto_rows": null,
            "grid_gap": null,
            "max_width": null,
            "order": null,
            "_view_module_version": "1.2.0",
            "grid_template_areas": null,
            "object_position": null,
            "object_fit": null,
            "grid_auto_columns": null,
            "margin": null,
            "display": null,
            "left": null
          }
        },
        "2cb76bcab9604687a4db47c0b6e4cb58": {
          "model_module": "@jupyter-widgets/controls",
          "model_name": "IntProgressModel",
          "model_module_version": "1.5.0",
          "state": {
            "_view_name": "ProgressView",
            "style": "IPY_MODEL_c9f0734739364d2b8af991740cc1b785",
            "_dom_classes": [],
            "description": "Processing: ",
            "_model_name": "IntProgressModel",
            "bar_style": "",
            "max": 6,
            "_view_module": "@jupyter-widgets/controls",
            "_model_module_version": "1.5.0",
            "value": 6,
            "_view_count": null,
            "_view_module_version": "1.5.0",
            "orientation": "horizontal",
            "min": 0,
            "description_tooltip": null,
            "_model_module": "@jupyter-widgets/controls",
            "layout": "IPY_MODEL_0d3356e6a6924f1cbedf89e3b86dd681"
          }
        },
        "c9f0734739364d2b8af991740cc1b785": {
          "model_module": "@jupyter-widgets/controls",
          "model_name": "ProgressStyleModel",
          "model_module_version": "1.5.0",
          "state": {
            "_view_name": "StyleView",
            "_model_name": "ProgressStyleModel",
            "description_width": "",
            "_view_module": "@jupyter-widgets/base",
            "_model_module_version": "1.5.0",
            "_view_count": null,
            "_view_module_version": "1.2.0",
            "bar_color": null,
            "_model_module": "@jupyter-widgets/controls"
          }
        },
        "0d3356e6a6924f1cbedf89e3b86dd681": {
          "model_module": "@jupyter-widgets/base",
          "model_name": "LayoutModel",
          "model_module_version": "1.2.0",
          "state": {
            "_view_name": "LayoutView",
            "grid_template_rows": null,
            "right": null,
            "justify_content": null,
            "_view_module": "@jupyter-widgets/base",
            "overflow": null,
            "_model_module_version": "1.2.0",
            "_view_count": null,
            "flex_flow": null,
            "width": null,
            "min_width": null,
            "border": null,
            "align_items": null,
            "bottom": null,
            "_model_module": "@jupyter-widgets/base",
            "top": null,
            "grid_column": null,
            "overflow_y": null,
            "overflow_x": null,
            "grid_auto_flow": null,
            "grid_area": null,
            "grid_template_columns": null,
            "flex": null,
            "_model_name": "LayoutModel",
            "justify_items": null,
            "grid_row": null,
            "max_height": null,
            "align_content": null,
            "visibility": null,
            "align_self": null,
            "height": null,
            "min_height": null,
            "padding": null,
            "grid_auto_rows": null,
            "grid_gap": null,
            "max_width": null,
            "order": null,
            "_view_module_version": "1.2.0",
            "grid_template_areas": null,
            "object_position": null,
            "object_fit": null,
            "grid_auto_columns": null,
            "margin": null,
            "display": null,
            "left": null
          }
        },
        "41bd4bec632445b893666e5fa54eb0d8": {
          "model_module": "@jupyter-widgets/controls",
          "model_name": "IntProgressModel",
          "model_module_version": "1.5.0",
          "state": {
            "_view_name": "ProgressView",
            "style": "IPY_MODEL_fb38eafb012a4d80bf4c29597a200f3b",
            "_dom_classes": [],
            "description": "Processing: ",
            "_model_name": "IntProgressModel",
            "bar_style": "",
            "max": 6,
            "_view_module": "@jupyter-widgets/controls",
            "_model_module_version": "1.5.0",
            "value": 6,
            "_view_count": null,
            "_view_module_version": "1.5.0",
            "orientation": "horizontal",
            "min": 0,
            "description_tooltip": null,
            "_model_module": "@jupyter-widgets/controls",
            "layout": "IPY_MODEL_3a19b7d9018c4f1190053d9763e05bb6"
          }
        },
        "fb38eafb012a4d80bf4c29597a200f3b": {
          "model_module": "@jupyter-widgets/controls",
          "model_name": "ProgressStyleModel",
          "model_module_version": "1.5.0",
          "state": {
            "_view_name": "StyleView",
            "_model_name": "ProgressStyleModel",
            "description_width": "",
            "_view_module": "@jupyter-widgets/base",
            "_model_module_version": "1.5.0",
            "_view_count": null,
            "_view_module_version": "1.2.0",
            "bar_color": null,
            "_model_module": "@jupyter-widgets/controls"
          }
        },
        "3a19b7d9018c4f1190053d9763e05bb6": {
          "model_module": "@jupyter-widgets/base",
          "model_name": "LayoutModel",
          "model_module_version": "1.2.0",
          "state": {
            "_view_name": "LayoutView",
            "grid_template_rows": null,
            "right": null,
            "justify_content": null,
            "_view_module": "@jupyter-widgets/base",
            "overflow": null,
            "_model_module_version": "1.2.0",
            "_view_count": null,
            "flex_flow": null,
            "width": null,
            "min_width": null,
            "border": null,
            "align_items": null,
            "bottom": null,
            "_model_module": "@jupyter-widgets/base",
            "top": null,
            "grid_column": null,
            "overflow_y": null,
            "overflow_x": null,
            "grid_auto_flow": null,
            "grid_area": null,
            "grid_template_columns": null,
            "flex": null,
            "_model_name": "LayoutModel",
            "justify_items": null,
            "grid_row": null,
            "max_height": null,
            "align_content": null,
            "visibility": null,
            "align_self": null,
            "height": null,
            "min_height": null,
            "padding": null,
            "grid_auto_rows": null,
            "grid_gap": null,
            "max_width": null,
            "order": null,
            "_view_module_version": "1.2.0",
            "grid_template_areas": null,
            "object_position": null,
            "object_fit": null,
            "grid_auto_columns": null,
            "margin": null,
            "display": null,
            "left": null
          }
        }
      }
    }
  },
  "cells": [
    {
      "cell_type": "markdown",
      "metadata": {
        "id": "view-in-github",
        "colab_type": "text"
      },
      "source": [
        "<a href=\"https://colab.research.google.com/github/HwangJae-won/Vaccine_Classification/blob/main/vaccine_classication.ipynb\" target=\"_parent\"><img src=\"https://colab.research.google.com/assets/colab-badge.svg\" alt=\"Open In Colab\"/></a>"
      ]
    },
    {
      "cell_type": "markdown",
      "metadata": {
        "id": "kWNtsa1z9118"
      },
      "source": [
        "# Import Libraries"
      ]
    },
    {
      "cell_type": "code",
      "metadata": {
        "id": "ILRQRNgUUl9I"
      },
      "source": [
        "# !pip install pycaret[full]\n",
        "# !pip install pyyaml==5.4.1\n",
        "# # !pip install autoviz\n",
        "# # !pip install xlrd"
      ],
      "execution_count": null,
      "outputs": []
    },
    {
      "cell_type": "code",
      "metadata": {
        "id": "qX5DfvjtlXhg"
      },
      "source": [
        "import pandas as pd\n",
        "import numpy as np\n",
        "import matplotlib.pyplot as plt\n",
        "import seaborn as sns\n",
        "from sklearn.preprocessing import OneHotEncoder\n",
        "from sklearn.cluster import KMeans\n",
        "# from category_encoders import OrdinalEncoder\n",
        "# from sklearn.impute import SimpleImputer"
      ],
      "execution_count": null,
      "outputs": []
    },
    {
      "cell_type": "code",
      "metadata": {
        "id": "8hWXBZvbP1O9"
      },
      "source": [
        "#from autoviz.AutoViz_Class import AutoViz_Class\n",
        "import matplotlib.pyplot as plt\n",
        "%matplotlib inline\n",
        "import seaborn as sns"
      ],
      "execution_count": null,
      "outputs": []
    },
    {
      "cell_type": "markdown",
      "metadata": {
        "id": "hGUjv1Vvcpv3"
      },
      "source": [
        "# Data description"
      ]
    },
    {
      "cell_type": "markdown",
      "metadata": {
        "id": "IiA15283csxZ"
      },
      "source": [
        "1. labels (백신 접종 여부 yes=1, no=0)\n",
        "- h1n1_vaccine\n",
        "- seasonal_vaccine\n",
        "\n",
        "2. binary_categorical_features\n",
        "- behavioral_antiviral_meds(항바이러스제 복용 여부)\n",
        "- behavioral_avoidance (접촉 회피 여부)\n",
        "- behavioral_face_mask(마스크 구매 여부)\n",
        "- behavioral_wash_hands(손 자주 씻는지 여부)\n",
        "- behavioral_large_gatherings(단체 모임 시간 단축 여부)\n",
        "- behavioral_outside_home(집 밖의 사람들과의 접촉이 줄었는지 여부)\n",
        "- behavioral_touch_face(얼굴을 만지는 횟수 줄었는지 여부)\n",
        "- doctor_recc_h1n1(의사한테 H1N1 백신 추천 받았는지 여부)\n",
        "- doctor_recc_seasonal(의사한테 Seasonal flu 백신 추천 받았는지 여부)\n",
        "- chronic_med_condition(만성 질환 여부)\n",
        "- child_under_6_months(6개월 미만 자녀와 밀접 접촉 여부)\n",
        "- health_worker(healthcare worker 여부)\n",
        "- health_insurance(건강 보험 여부)\n",
        "\n",
        "\n",
        "\n",
        "3. multi_categorical_features\n",
        "- h1n1_concern (0, 1, 2, 3)\n",
        "- h1n1_knowledge (0, 1, 2)\n",
        "- opinion_h1n1_vacc_effective(1, 2, 3, 4, 5)\n",
        "- opinion_h1n1_risk(1, 2, 3, 4, 5)\n",
        "- opinion_h1n1_sick_from_vacc(1, 2, 3, 4, 5)\n",
        "- opinion_seas_vacc_effective(1, 2, 3, 4, 5)\n",
        "- opinion_seas_risk(1, 2, 3, 4, 5)\n",
        "- opinion_seas_sick_from_vacc(1, 2, 3, 4, 5)\n",
        "\n",
        "\n",
        "4. character_categorical_features\n",
        "- age_group\n",
        "- education\n",
        "- race\n",
        "- sex\n",
        "- income_poverty\n",
        "- marital_status\n",
        "- rent_or_own\n",
        "- employment_status\n",
        "- hhs_geo_region\n",
        "- census_msa\n",
        "- employment_industry\n",
        "- employment_occupation\n",
        "\n",
        "5. numerical_features\n",
        "- household_adults\n",
        "- household_children"
      ]
    },
    {
      "cell_type": "markdown",
      "metadata": {
        "id": "mR0k9bYy91Ql"
      },
      "source": [
        "# Load Data"
      ]
    },
    {
      "cell_type": "code",
      "metadata": {
        "colab": {
          "base_uri": "https://localhost:8080/"
        },
        "id": "xC2_I2E4wkRi",
        "outputId": "9741f2d8-a3f7-4bc4-eaed-330ceb44d2d7"
      },
      "source": [
        "from google.colab import drive\n",
        "drive.mount('/content/drive')"
      ],
      "execution_count": null,
      "outputs": [
        {
          "output_type": "stream",
          "name": "stdout",
          "text": [
            "Drive already mounted at /content/drive; to attempt to forcibly remount, call drive.mount(\"/content/drive\", force_remount=True).\n"
          ]
        }
      ]
    },
    {
      "cell_type": "code",
      "metadata": {
        "id": "BUSjlMxIlbQr"
      },
      "source": [
        "path = \"/content/drive/MyDrive/데이터마이닝_3조/Data/\""
      ],
      "execution_count": null,
      "outputs": []
    },
    {
      "cell_type": "code",
      "metadata": {
        "id": "1avT0S_nlr8I"
      },
      "source": [
        "train_features=pd.read_csv(path+'training_set_features.csv')\n",
        "train_labels=pd.read_csv(path+'training_set_labels.csv')\n",
        "test_features=pd.read_csv(path+'test_set_features.csv')\n",
        "sample=pd.read_csv(path+'submission_format.csv')"
      ],
      "execution_count": null,
      "outputs": []
    },
    {
      "cell_type": "code",
      "metadata": {
        "id": "zxPNxZAf89E6"
      },
      "source": [
        "# set index as respondent_id\n",
        "train_features = train_features.drop('respondent_id',axis=1)\n",
        "test_features = test_features.drop('respondent_id',axis=1)"
      ],
      "execution_count": null,
      "outputs": []
    },
    {
      "cell_type": "code",
      "metadata": {
        "id": "SmpqYlBYl0eO",
        "colab": {
          "base_uri": "https://localhost:8080/"
        },
        "outputId": "71a5df6c-d06a-4528-e681-f291e1a32c27"
      },
      "source": [
        "train_features.info()"
      ],
      "execution_count": null,
      "outputs": [
        {
          "output_type": "stream",
          "name": "stdout",
          "text": [
            "<class 'pandas.core.frame.DataFrame'>\n",
            "RangeIndex: 26707 entries, 0 to 26706\n",
            "Data columns (total 35 columns):\n",
            " #   Column                       Non-Null Count  Dtype  \n",
            "---  ------                       --------------  -----  \n",
            " 0   h1n1_concern                 26615 non-null  float64\n",
            " 1   h1n1_knowledge               26591 non-null  float64\n",
            " 2   behavioral_antiviral_meds    26636 non-null  float64\n",
            " 3   behavioral_avoidance         26499 non-null  float64\n",
            " 4   behavioral_face_mask         26688 non-null  float64\n",
            " 5   behavioral_wash_hands        26665 non-null  float64\n",
            " 6   behavioral_large_gatherings  26620 non-null  float64\n",
            " 7   behavioral_outside_home      26625 non-null  float64\n",
            " 8   behavioral_touch_face        26579 non-null  float64\n",
            " 9   doctor_recc_h1n1             24547 non-null  float64\n",
            " 10  doctor_recc_seasonal         24547 non-null  float64\n",
            " 11  chronic_med_condition        25736 non-null  float64\n",
            " 12  child_under_6_months         25887 non-null  float64\n",
            " 13  health_worker                25903 non-null  float64\n",
            " 14  health_insurance             14433 non-null  float64\n",
            " 15  opinion_h1n1_vacc_effective  26316 non-null  float64\n",
            " 16  opinion_h1n1_risk            26319 non-null  float64\n",
            " 17  opinion_h1n1_sick_from_vacc  26312 non-null  float64\n",
            " 18  opinion_seas_vacc_effective  26245 non-null  float64\n",
            " 19  opinion_seas_risk            26193 non-null  float64\n",
            " 20  opinion_seas_sick_from_vacc  26170 non-null  float64\n",
            " 21  age_group                    26707 non-null  object \n",
            " 22  education                    25300 non-null  object \n",
            " 23  race                         26707 non-null  object \n",
            " 24  sex                          26707 non-null  object \n",
            " 25  income_poverty               22284 non-null  object \n",
            " 26  marital_status               25299 non-null  object \n",
            " 27  rent_or_own                  24665 non-null  object \n",
            " 28  employment_status            25244 non-null  object \n",
            " 29  hhs_geo_region               26707 non-null  object \n",
            " 30  census_msa                   26707 non-null  object \n",
            " 31  household_adults             26458 non-null  float64\n",
            " 32  household_children           26458 non-null  float64\n",
            " 33  employment_industry          13377 non-null  object \n",
            " 34  employment_occupation        13237 non-null  object \n",
            "dtypes: float64(23), object(12)\n",
            "memory usage: 7.1+ MB\n"
          ]
        }
      ]
    },
    {
      "cell_type": "code",
      "metadata": {
        "id": "H1oqHtgol1y3",
        "colab": {
          "base_uri": "https://localhost:8080/"
        },
        "outputId": "07756835-e4d3-4cb3-ad9f-9a8e4cd98b48"
      },
      "source": [
        "train_labels.info()"
      ],
      "execution_count": null,
      "outputs": [
        {
          "output_type": "stream",
          "name": "stdout",
          "text": [
            "<class 'pandas.core.frame.DataFrame'>\n",
            "RangeIndex: 26707 entries, 0 to 26706\n",
            "Data columns (total 3 columns):\n",
            " #   Column            Non-Null Count  Dtype\n",
            "---  ------            --------------  -----\n",
            " 0   respondent_id     26707 non-null  int64\n",
            " 1   h1n1_vaccine      26707 non-null  int64\n",
            " 2   seasonal_vaccine  26707 non-null  int64\n",
            "dtypes: int64(3)\n",
            "memory usage: 626.1 KB\n"
          ]
        }
      ]
    },
    {
      "cell_type": "code",
      "metadata": {
        "id": "1mC8_FPfpPj3",
        "colab": {
          "base_uri": "https://localhost:8080/"
        },
        "outputId": "f2d4a02d-ca13-491b-9951-776640053775"
      },
      "source": [
        "test_features.info()"
      ],
      "execution_count": null,
      "outputs": [
        {
          "output_type": "stream",
          "name": "stdout",
          "text": [
            "<class 'pandas.core.frame.DataFrame'>\n",
            "RangeIndex: 26708 entries, 0 to 26707\n",
            "Data columns (total 35 columns):\n",
            " #   Column                       Non-Null Count  Dtype  \n",
            "---  ------                       --------------  -----  \n",
            " 0   h1n1_concern                 26623 non-null  float64\n",
            " 1   h1n1_knowledge               26586 non-null  float64\n",
            " 2   behavioral_antiviral_meds    26629 non-null  float64\n",
            " 3   behavioral_avoidance         26495 non-null  float64\n",
            " 4   behavioral_face_mask         26689 non-null  float64\n",
            " 5   behavioral_wash_hands        26668 non-null  float64\n",
            " 6   behavioral_large_gatherings  26636 non-null  float64\n",
            " 7   behavioral_outside_home      26626 non-null  float64\n",
            " 8   behavioral_touch_face        26580 non-null  float64\n",
            " 9   doctor_recc_h1n1             24548 non-null  float64\n",
            " 10  doctor_recc_seasonal         24548 non-null  float64\n",
            " 11  chronic_med_condition        25776 non-null  float64\n",
            " 12  child_under_6_months         25895 non-null  float64\n",
            " 13  health_worker                25919 non-null  float64\n",
            " 14  health_insurance             14480 non-null  float64\n",
            " 15  opinion_h1n1_vacc_effective  26310 non-null  float64\n",
            " 16  opinion_h1n1_risk            26328 non-null  float64\n",
            " 17  opinion_h1n1_sick_from_vacc  26333 non-null  float64\n",
            " 18  opinion_seas_vacc_effective  26256 non-null  float64\n",
            " 19  opinion_seas_risk            26209 non-null  float64\n",
            " 20  opinion_seas_sick_from_vacc  26187 non-null  float64\n",
            " 21  age_group                    26708 non-null  object \n",
            " 22  education                    25301 non-null  object \n",
            " 23  race                         26708 non-null  object \n",
            " 24  sex                          26708 non-null  object \n",
            " 25  income_poverty               22211 non-null  object \n",
            " 26  marital_status               25266 non-null  object \n",
            " 27  rent_or_own                  24672 non-null  object \n",
            " 28  employment_status            25237 non-null  object \n",
            " 29  hhs_geo_region               26708 non-null  object \n",
            " 30  census_msa                   26708 non-null  object \n",
            " 31  household_adults             26483 non-null  float64\n",
            " 32  household_children           26483 non-null  float64\n",
            " 33  employment_industry          13433 non-null  object \n",
            " 34  employment_occupation        13282 non-null  object \n",
            "dtypes: float64(23), object(12)\n",
            "memory usage: 7.1+ MB\n"
          ]
        }
      ]
    },
    {
      "cell_type": "code",
      "metadata": {
        "id": "rw79cos29_9t"
      },
      "source": [
        "train=pd.concat([train_features,train_labels], axis=1)\n",
        "train.drop(train.columns[36], axis=1, inplace=True)"
      ],
      "execution_count": null,
      "outputs": []
    },
    {
      "cell_type": "code",
      "metadata": {
        "id": "hiDJFBxg-Hxs",
        "colab": {
          "base_uri": "https://localhost:8080/",
          "height": 313
        },
        "outputId": "18c12612-7a45-44a2-8fbc-c3248f81a731"
      },
      "source": [
        "train.head()"
      ],
      "execution_count": null,
      "outputs": [
        {
          "output_type": "execute_result",
          "data": {
            "text/html": [
              "<div>\n",
              "<style scoped>\n",
              "    .dataframe tbody tr th:only-of-type {\n",
              "        vertical-align: middle;\n",
              "    }\n",
              "\n",
              "    .dataframe tbody tr th {\n",
              "        vertical-align: top;\n",
              "    }\n",
              "\n",
              "    .dataframe thead th {\n",
              "        text-align: right;\n",
              "    }\n",
              "</style>\n",
              "<table border=\"1\" class=\"dataframe\">\n",
              "  <thead>\n",
              "    <tr style=\"text-align: right;\">\n",
              "      <th></th>\n",
              "      <th>h1n1_concern</th>\n",
              "      <th>h1n1_knowledge</th>\n",
              "      <th>behavioral_antiviral_meds</th>\n",
              "      <th>behavioral_avoidance</th>\n",
              "      <th>behavioral_face_mask</th>\n",
              "      <th>behavioral_wash_hands</th>\n",
              "      <th>behavioral_large_gatherings</th>\n",
              "      <th>behavioral_outside_home</th>\n",
              "      <th>behavioral_touch_face</th>\n",
              "      <th>doctor_recc_h1n1</th>\n",
              "      <th>doctor_recc_seasonal</th>\n",
              "      <th>chronic_med_condition</th>\n",
              "      <th>child_under_6_months</th>\n",
              "      <th>health_worker</th>\n",
              "      <th>health_insurance</th>\n",
              "      <th>opinion_h1n1_vacc_effective</th>\n",
              "      <th>opinion_h1n1_risk</th>\n",
              "      <th>opinion_h1n1_sick_from_vacc</th>\n",
              "      <th>opinion_seas_vacc_effective</th>\n",
              "      <th>opinion_seas_risk</th>\n",
              "      <th>opinion_seas_sick_from_vacc</th>\n",
              "      <th>age_group</th>\n",
              "      <th>education</th>\n",
              "      <th>race</th>\n",
              "      <th>sex</th>\n",
              "      <th>income_poverty</th>\n",
              "      <th>marital_status</th>\n",
              "      <th>rent_or_own</th>\n",
              "      <th>employment_status</th>\n",
              "      <th>hhs_geo_region</th>\n",
              "      <th>census_msa</th>\n",
              "      <th>household_adults</th>\n",
              "      <th>household_children</th>\n",
              "      <th>employment_industry</th>\n",
              "      <th>employment_occupation</th>\n",
              "      <th>respondent_id</th>\n",
              "      <th>seasonal_vaccine</th>\n",
              "    </tr>\n",
              "  </thead>\n",
              "  <tbody>\n",
              "    <tr>\n",
              "      <th>0</th>\n",
              "      <td>1.0</td>\n",
              "      <td>0.0</td>\n",
              "      <td>0.0</td>\n",
              "      <td>0.0</td>\n",
              "      <td>0.0</td>\n",
              "      <td>0.0</td>\n",
              "      <td>0.0</td>\n",
              "      <td>1.0</td>\n",
              "      <td>1.0</td>\n",
              "      <td>0.0</td>\n",
              "      <td>0.0</td>\n",
              "      <td>0.0</td>\n",
              "      <td>0.0</td>\n",
              "      <td>0.0</td>\n",
              "      <td>1.0</td>\n",
              "      <td>3.0</td>\n",
              "      <td>1.0</td>\n",
              "      <td>2.0</td>\n",
              "      <td>2.0</td>\n",
              "      <td>1.0</td>\n",
              "      <td>2.0</td>\n",
              "      <td>55 - 64 Years</td>\n",
              "      <td>&lt; 12 Years</td>\n",
              "      <td>White</td>\n",
              "      <td>Female</td>\n",
              "      <td>Below Poverty</td>\n",
              "      <td>Not Married</td>\n",
              "      <td>Own</td>\n",
              "      <td>Not in Labor Force</td>\n",
              "      <td>oxchjgsf</td>\n",
              "      <td>Non-MSA</td>\n",
              "      <td>0.0</td>\n",
              "      <td>0.0</td>\n",
              "      <td>NaN</td>\n",
              "      <td>NaN</td>\n",
              "      <td>0</td>\n",
              "      <td>0</td>\n",
              "    </tr>\n",
              "    <tr>\n",
              "      <th>1</th>\n",
              "      <td>3.0</td>\n",
              "      <td>2.0</td>\n",
              "      <td>0.0</td>\n",
              "      <td>1.0</td>\n",
              "      <td>0.0</td>\n",
              "      <td>1.0</td>\n",
              "      <td>0.0</td>\n",
              "      <td>1.0</td>\n",
              "      <td>1.0</td>\n",
              "      <td>0.0</td>\n",
              "      <td>0.0</td>\n",
              "      <td>0.0</td>\n",
              "      <td>0.0</td>\n",
              "      <td>0.0</td>\n",
              "      <td>1.0</td>\n",
              "      <td>5.0</td>\n",
              "      <td>4.0</td>\n",
              "      <td>4.0</td>\n",
              "      <td>4.0</td>\n",
              "      <td>2.0</td>\n",
              "      <td>4.0</td>\n",
              "      <td>35 - 44 Years</td>\n",
              "      <td>12 Years</td>\n",
              "      <td>White</td>\n",
              "      <td>Male</td>\n",
              "      <td>Below Poverty</td>\n",
              "      <td>Not Married</td>\n",
              "      <td>Rent</td>\n",
              "      <td>Employed</td>\n",
              "      <td>bhuqouqj</td>\n",
              "      <td>MSA, Not Principle  City</td>\n",
              "      <td>0.0</td>\n",
              "      <td>0.0</td>\n",
              "      <td>pxcmvdjn</td>\n",
              "      <td>xgwztkwe</td>\n",
              "      <td>1</td>\n",
              "      <td>1</td>\n",
              "    </tr>\n",
              "    <tr>\n",
              "      <th>2</th>\n",
              "      <td>1.0</td>\n",
              "      <td>1.0</td>\n",
              "      <td>0.0</td>\n",
              "      <td>1.0</td>\n",
              "      <td>0.0</td>\n",
              "      <td>0.0</td>\n",
              "      <td>0.0</td>\n",
              "      <td>0.0</td>\n",
              "      <td>0.0</td>\n",
              "      <td>NaN</td>\n",
              "      <td>NaN</td>\n",
              "      <td>1.0</td>\n",
              "      <td>0.0</td>\n",
              "      <td>0.0</td>\n",
              "      <td>NaN</td>\n",
              "      <td>3.0</td>\n",
              "      <td>1.0</td>\n",
              "      <td>1.0</td>\n",
              "      <td>4.0</td>\n",
              "      <td>1.0</td>\n",
              "      <td>2.0</td>\n",
              "      <td>18 - 34 Years</td>\n",
              "      <td>College Graduate</td>\n",
              "      <td>White</td>\n",
              "      <td>Male</td>\n",
              "      <td>&lt;= $75,000, Above Poverty</td>\n",
              "      <td>Not Married</td>\n",
              "      <td>Own</td>\n",
              "      <td>Employed</td>\n",
              "      <td>qufhixun</td>\n",
              "      <td>MSA, Not Principle  City</td>\n",
              "      <td>2.0</td>\n",
              "      <td>0.0</td>\n",
              "      <td>rucpziij</td>\n",
              "      <td>xtkaffoo</td>\n",
              "      <td>2</td>\n",
              "      <td>0</td>\n",
              "    </tr>\n",
              "    <tr>\n",
              "      <th>3</th>\n",
              "      <td>1.0</td>\n",
              "      <td>1.0</td>\n",
              "      <td>0.0</td>\n",
              "      <td>1.0</td>\n",
              "      <td>0.0</td>\n",
              "      <td>1.0</td>\n",
              "      <td>1.0</td>\n",
              "      <td>0.0</td>\n",
              "      <td>0.0</td>\n",
              "      <td>0.0</td>\n",
              "      <td>1.0</td>\n",
              "      <td>1.0</td>\n",
              "      <td>0.0</td>\n",
              "      <td>0.0</td>\n",
              "      <td>NaN</td>\n",
              "      <td>3.0</td>\n",
              "      <td>3.0</td>\n",
              "      <td>5.0</td>\n",
              "      <td>5.0</td>\n",
              "      <td>4.0</td>\n",
              "      <td>1.0</td>\n",
              "      <td>65+ Years</td>\n",
              "      <td>12 Years</td>\n",
              "      <td>White</td>\n",
              "      <td>Female</td>\n",
              "      <td>Below Poverty</td>\n",
              "      <td>Not Married</td>\n",
              "      <td>Rent</td>\n",
              "      <td>Not in Labor Force</td>\n",
              "      <td>lrircsnp</td>\n",
              "      <td>MSA, Principle City</td>\n",
              "      <td>0.0</td>\n",
              "      <td>0.0</td>\n",
              "      <td>NaN</td>\n",
              "      <td>NaN</td>\n",
              "      <td>3</td>\n",
              "      <td>1</td>\n",
              "    </tr>\n",
              "    <tr>\n",
              "      <th>4</th>\n",
              "      <td>2.0</td>\n",
              "      <td>1.0</td>\n",
              "      <td>0.0</td>\n",
              "      <td>1.0</td>\n",
              "      <td>0.0</td>\n",
              "      <td>1.0</td>\n",
              "      <td>1.0</td>\n",
              "      <td>0.0</td>\n",
              "      <td>1.0</td>\n",
              "      <td>0.0</td>\n",
              "      <td>0.0</td>\n",
              "      <td>0.0</td>\n",
              "      <td>0.0</td>\n",
              "      <td>0.0</td>\n",
              "      <td>NaN</td>\n",
              "      <td>3.0</td>\n",
              "      <td>3.0</td>\n",
              "      <td>2.0</td>\n",
              "      <td>3.0</td>\n",
              "      <td>1.0</td>\n",
              "      <td>4.0</td>\n",
              "      <td>45 - 54 Years</td>\n",
              "      <td>Some College</td>\n",
              "      <td>White</td>\n",
              "      <td>Female</td>\n",
              "      <td>&lt;= $75,000, Above Poverty</td>\n",
              "      <td>Married</td>\n",
              "      <td>Own</td>\n",
              "      <td>Employed</td>\n",
              "      <td>qufhixun</td>\n",
              "      <td>MSA, Not Principle  City</td>\n",
              "      <td>1.0</td>\n",
              "      <td>0.0</td>\n",
              "      <td>wxleyezf</td>\n",
              "      <td>emcorrxb</td>\n",
              "      <td>4</td>\n",
              "      <td>0</td>\n",
              "    </tr>\n",
              "  </tbody>\n",
              "</table>\n",
              "</div>"
            ],
            "text/plain": [
              "   h1n1_concern  h1n1_knowledge  ...  respondent_id  seasonal_vaccine\n",
              "0           1.0             0.0  ...              0                 0\n",
              "1           3.0             2.0  ...              1                 1\n",
              "2           1.0             1.0  ...              2                 0\n",
              "3           1.0             1.0  ...              3                 1\n",
              "4           2.0             1.0  ...              4                 0\n",
              "\n",
              "[5 rows x 37 columns]"
            ]
          },
          "metadata": {},
          "execution_count": 12
        }
      ]
    },
    {
      "cell_type": "markdown",
      "metadata": {
        "id": "RewdXg0KjO_h"
      },
      "source": [
        "# Feature Engineering"
      ]
    },
    {
      "cell_type": "code",
      "metadata": {
        "id": "0jcokaTnjjBA",
        "colab": {
          "base_uri": "https://localhost:8080/",
          "height": 313
        },
        "outputId": "f2ed69a6-c7e4-4c65-dae3-4bee5016f0d6"
      },
      "source": [
        "train_features.head()"
      ],
      "execution_count": null,
      "outputs": [
        {
          "output_type": "execute_result",
          "data": {
            "text/html": [
              "<div>\n",
              "<style scoped>\n",
              "    .dataframe tbody tr th:only-of-type {\n",
              "        vertical-align: middle;\n",
              "    }\n",
              "\n",
              "    .dataframe tbody tr th {\n",
              "        vertical-align: top;\n",
              "    }\n",
              "\n",
              "    .dataframe thead th {\n",
              "        text-align: right;\n",
              "    }\n",
              "</style>\n",
              "<table border=\"1\" class=\"dataframe\">\n",
              "  <thead>\n",
              "    <tr style=\"text-align: right;\">\n",
              "      <th></th>\n",
              "      <th>h1n1_concern</th>\n",
              "      <th>h1n1_knowledge</th>\n",
              "      <th>behavioral_antiviral_meds</th>\n",
              "      <th>behavioral_avoidance</th>\n",
              "      <th>behavioral_face_mask</th>\n",
              "      <th>behavioral_wash_hands</th>\n",
              "      <th>behavioral_large_gatherings</th>\n",
              "      <th>behavioral_outside_home</th>\n",
              "      <th>behavioral_touch_face</th>\n",
              "      <th>doctor_recc_h1n1</th>\n",
              "      <th>doctor_recc_seasonal</th>\n",
              "      <th>chronic_med_condition</th>\n",
              "      <th>child_under_6_months</th>\n",
              "      <th>health_worker</th>\n",
              "      <th>health_insurance</th>\n",
              "      <th>opinion_h1n1_vacc_effective</th>\n",
              "      <th>opinion_h1n1_risk</th>\n",
              "      <th>opinion_h1n1_sick_from_vacc</th>\n",
              "      <th>opinion_seas_vacc_effective</th>\n",
              "      <th>opinion_seas_risk</th>\n",
              "      <th>opinion_seas_sick_from_vacc</th>\n",
              "      <th>age_group</th>\n",
              "      <th>education</th>\n",
              "      <th>race</th>\n",
              "      <th>sex</th>\n",
              "      <th>income_poverty</th>\n",
              "      <th>marital_status</th>\n",
              "      <th>rent_or_own</th>\n",
              "      <th>employment_status</th>\n",
              "      <th>hhs_geo_region</th>\n",
              "      <th>census_msa</th>\n",
              "      <th>household_adults</th>\n",
              "      <th>household_children</th>\n",
              "      <th>employment_industry</th>\n",
              "      <th>employment_occupation</th>\n",
              "    </tr>\n",
              "  </thead>\n",
              "  <tbody>\n",
              "    <tr>\n",
              "      <th>0</th>\n",
              "      <td>1.0</td>\n",
              "      <td>0.0</td>\n",
              "      <td>0.0</td>\n",
              "      <td>0.0</td>\n",
              "      <td>0.0</td>\n",
              "      <td>0.0</td>\n",
              "      <td>0.0</td>\n",
              "      <td>1.0</td>\n",
              "      <td>1.0</td>\n",
              "      <td>0.0</td>\n",
              "      <td>0.0</td>\n",
              "      <td>0.0</td>\n",
              "      <td>0.0</td>\n",
              "      <td>0.0</td>\n",
              "      <td>1.0</td>\n",
              "      <td>3.0</td>\n",
              "      <td>1.0</td>\n",
              "      <td>2.0</td>\n",
              "      <td>2.0</td>\n",
              "      <td>1.0</td>\n",
              "      <td>2.0</td>\n",
              "      <td>55 - 64 Years</td>\n",
              "      <td>&lt; 12 Years</td>\n",
              "      <td>White</td>\n",
              "      <td>Female</td>\n",
              "      <td>Below Poverty</td>\n",
              "      <td>Not Married</td>\n",
              "      <td>Own</td>\n",
              "      <td>Not in Labor Force</td>\n",
              "      <td>oxchjgsf</td>\n",
              "      <td>Non-MSA</td>\n",
              "      <td>0.0</td>\n",
              "      <td>0.0</td>\n",
              "      <td>NaN</td>\n",
              "      <td>NaN</td>\n",
              "    </tr>\n",
              "    <tr>\n",
              "      <th>1</th>\n",
              "      <td>3.0</td>\n",
              "      <td>2.0</td>\n",
              "      <td>0.0</td>\n",
              "      <td>1.0</td>\n",
              "      <td>0.0</td>\n",
              "      <td>1.0</td>\n",
              "      <td>0.0</td>\n",
              "      <td>1.0</td>\n",
              "      <td>1.0</td>\n",
              "      <td>0.0</td>\n",
              "      <td>0.0</td>\n",
              "      <td>0.0</td>\n",
              "      <td>0.0</td>\n",
              "      <td>0.0</td>\n",
              "      <td>1.0</td>\n",
              "      <td>5.0</td>\n",
              "      <td>4.0</td>\n",
              "      <td>4.0</td>\n",
              "      <td>4.0</td>\n",
              "      <td>2.0</td>\n",
              "      <td>4.0</td>\n",
              "      <td>35 - 44 Years</td>\n",
              "      <td>12 Years</td>\n",
              "      <td>White</td>\n",
              "      <td>Male</td>\n",
              "      <td>Below Poverty</td>\n",
              "      <td>Not Married</td>\n",
              "      <td>Rent</td>\n",
              "      <td>Employed</td>\n",
              "      <td>bhuqouqj</td>\n",
              "      <td>MSA, Not Principle  City</td>\n",
              "      <td>0.0</td>\n",
              "      <td>0.0</td>\n",
              "      <td>pxcmvdjn</td>\n",
              "      <td>xgwztkwe</td>\n",
              "    </tr>\n",
              "    <tr>\n",
              "      <th>2</th>\n",
              "      <td>1.0</td>\n",
              "      <td>1.0</td>\n",
              "      <td>0.0</td>\n",
              "      <td>1.0</td>\n",
              "      <td>0.0</td>\n",
              "      <td>0.0</td>\n",
              "      <td>0.0</td>\n",
              "      <td>0.0</td>\n",
              "      <td>0.0</td>\n",
              "      <td>NaN</td>\n",
              "      <td>NaN</td>\n",
              "      <td>1.0</td>\n",
              "      <td>0.0</td>\n",
              "      <td>0.0</td>\n",
              "      <td>NaN</td>\n",
              "      <td>3.0</td>\n",
              "      <td>1.0</td>\n",
              "      <td>1.0</td>\n",
              "      <td>4.0</td>\n",
              "      <td>1.0</td>\n",
              "      <td>2.0</td>\n",
              "      <td>18 - 34 Years</td>\n",
              "      <td>College Graduate</td>\n",
              "      <td>White</td>\n",
              "      <td>Male</td>\n",
              "      <td>&lt;= $75,000, Above Poverty</td>\n",
              "      <td>Not Married</td>\n",
              "      <td>Own</td>\n",
              "      <td>Employed</td>\n",
              "      <td>qufhixun</td>\n",
              "      <td>MSA, Not Principle  City</td>\n",
              "      <td>2.0</td>\n",
              "      <td>0.0</td>\n",
              "      <td>rucpziij</td>\n",
              "      <td>xtkaffoo</td>\n",
              "    </tr>\n",
              "    <tr>\n",
              "      <th>3</th>\n",
              "      <td>1.0</td>\n",
              "      <td>1.0</td>\n",
              "      <td>0.0</td>\n",
              "      <td>1.0</td>\n",
              "      <td>0.0</td>\n",
              "      <td>1.0</td>\n",
              "      <td>1.0</td>\n",
              "      <td>0.0</td>\n",
              "      <td>0.0</td>\n",
              "      <td>0.0</td>\n",
              "      <td>1.0</td>\n",
              "      <td>1.0</td>\n",
              "      <td>0.0</td>\n",
              "      <td>0.0</td>\n",
              "      <td>NaN</td>\n",
              "      <td>3.0</td>\n",
              "      <td>3.0</td>\n",
              "      <td>5.0</td>\n",
              "      <td>5.0</td>\n",
              "      <td>4.0</td>\n",
              "      <td>1.0</td>\n",
              "      <td>65+ Years</td>\n",
              "      <td>12 Years</td>\n",
              "      <td>White</td>\n",
              "      <td>Female</td>\n",
              "      <td>Below Poverty</td>\n",
              "      <td>Not Married</td>\n",
              "      <td>Rent</td>\n",
              "      <td>Not in Labor Force</td>\n",
              "      <td>lrircsnp</td>\n",
              "      <td>MSA, Principle City</td>\n",
              "      <td>0.0</td>\n",
              "      <td>0.0</td>\n",
              "      <td>NaN</td>\n",
              "      <td>NaN</td>\n",
              "    </tr>\n",
              "    <tr>\n",
              "      <th>4</th>\n",
              "      <td>2.0</td>\n",
              "      <td>1.0</td>\n",
              "      <td>0.0</td>\n",
              "      <td>1.0</td>\n",
              "      <td>0.0</td>\n",
              "      <td>1.0</td>\n",
              "      <td>1.0</td>\n",
              "      <td>0.0</td>\n",
              "      <td>1.0</td>\n",
              "      <td>0.0</td>\n",
              "      <td>0.0</td>\n",
              "      <td>0.0</td>\n",
              "      <td>0.0</td>\n",
              "      <td>0.0</td>\n",
              "      <td>NaN</td>\n",
              "      <td>3.0</td>\n",
              "      <td>3.0</td>\n",
              "      <td>2.0</td>\n",
              "      <td>3.0</td>\n",
              "      <td>1.0</td>\n",
              "      <td>4.0</td>\n",
              "      <td>45 - 54 Years</td>\n",
              "      <td>Some College</td>\n",
              "      <td>White</td>\n",
              "      <td>Female</td>\n",
              "      <td>&lt;= $75,000, Above Poverty</td>\n",
              "      <td>Married</td>\n",
              "      <td>Own</td>\n",
              "      <td>Employed</td>\n",
              "      <td>qufhixun</td>\n",
              "      <td>MSA, Not Principle  City</td>\n",
              "      <td>1.0</td>\n",
              "      <td>0.0</td>\n",
              "      <td>wxleyezf</td>\n",
              "      <td>emcorrxb</td>\n",
              "    </tr>\n",
              "  </tbody>\n",
              "</table>\n",
              "</div>"
            ],
            "text/plain": [
              "   h1n1_concern  h1n1_knowledge  ...  employment_industry  employment_occupation\n",
              "0           1.0             0.0  ...                  NaN                    NaN\n",
              "1           3.0             2.0  ...             pxcmvdjn               xgwztkwe\n",
              "2           1.0             1.0  ...             rucpziij               xtkaffoo\n",
              "3           1.0             1.0  ...                  NaN                    NaN\n",
              "4           2.0             1.0  ...             wxleyezf               emcorrxb\n",
              "\n",
              "[5 rows x 35 columns]"
            ]
          },
          "metadata": {},
          "execution_count": 13
        }
      ]
    },
    {
      "cell_type": "code",
      "metadata": {
        "colab": {
          "base_uri": "https://localhost:8080/",
          "height": 313
        },
        "id": "VFGDwDRs0qn6",
        "outputId": "61167990-451a-466d-b375-d3c033b0b9a7"
      },
      "source": [
        "test_features.head()"
      ],
      "execution_count": null,
      "outputs": [
        {
          "output_type": "execute_result",
          "data": {
            "text/html": [
              "<div>\n",
              "<style scoped>\n",
              "    .dataframe tbody tr th:only-of-type {\n",
              "        vertical-align: middle;\n",
              "    }\n",
              "\n",
              "    .dataframe tbody tr th {\n",
              "        vertical-align: top;\n",
              "    }\n",
              "\n",
              "    .dataframe thead th {\n",
              "        text-align: right;\n",
              "    }\n",
              "</style>\n",
              "<table border=\"1\" class=\"dataframe\">\n",
              "  <thead>\n",
              "    <tr style=\"text-align: right;\">\n",
              "      <th></th>\n",
              "      <th>h1n1_concern</th>\n",
              "      <th>h1n1_knowledge</th>\n",
              "      <th>behavioral_antiviral_meds</th>\n",
              "      <th>behavioral_avoidance</th>\n",
              "      <th>behavioral_face_mask</th>\n",
              "      <th>behavioral_wash_hands</th>\n",
              "      <th>behavioral_large_gatherings</th>\n",
              "      <th>behavioral_outside_home</th>\n",
              "      <th>behavioral_touch_face</th>\n",
              "      <th>doctor_recc_h1n1</th>\n",
              "      <th>doctor_recc_seasonal</th>\n",
              "      <th>chronic_med_condition</th>\n",
              "      <th>child_under_6_months</th>\n",
              "      <th>health_worker</th>\n",
              "      <th>health_insurance</th>\n",
              "      <th>opinion_h1n1_vacc_effective</th>\n",
              "      <th>opinion_h1n1_risk</th>\n",
              "      <th>opinion_h1n1_sick_from_vacc</th>\n",
              "      <th>opinion_seas_vacc_effective</th>\n",
              "      <th>opinion_seas_risk</th>\n",
              "      <th>opinion_seas_sick_from_vacc</th>\n",
              "      <th>age_group</th>\n",
              "      <th>education</th>\n",
              "      <th>race</th>\n",
              "      <th>sex</th>\n",
              "      <th>income_poverty</th>\n",
              "      <th>marital_status</th>\n",
              "      <th>rent_or_own</th>\n",
              "      <th>employment_status</th>\n",
              "      <th>hhs_geo_region</th>\n",
              "      <th>census_msa</th>\n",
              "      <th>household_adults</th>\n",
              "      <th>household_children</th>\n",
              "      <th>employment_industry</th>\n",
              "      <th>employment_occupation</th>\n",
              "    </tr>\n",
              "  </thead>\n",
              "  <tbody>\n",
              "    <tr>\n",
              "      <th>0</th>\n",
              "      <td>2.0</td>\n",
              "      <td>2.0</td>\n",
              "      <td>0.0</td>\n",
              "      <td>1.0</td>\n",
              "      <td>0.0</td>\n",
              "      <td>1.0</td>\n",
              "      <td>1.0</td>\n",
              "      <td>0.0</td>\n",
              "      <td>1.0</td>\n",
              "      <td>0.0</td>\n",
              "      <td>0.0</td>\n",
              "      <td>0.0</td>\n",
              "      <td>0.0</td>\n",
              "      <td>0.0</td>\n",
              "      <td>1.0</td>\n",
              "      <td>5.0</td>\n",
              "      <td>1.0</td>\n",
              "      <td>1.0</td>\n",
              "      <td>5.0</td>\n",
              "      <td>1.0</td>\n",
              "      <td>1.0</td>\n",
              "      <td>35 - 44 Years</td>\n",
              "      <td>College Graduate</td>\n",
              "      <td>Hispanic</td>\n",
              "      <td>Female</td>\n",
              "      <td>&gt; $75,000</td>\n",
              "      <td>Not Married</td>\n",
              "      <td>Rent</td>\n",
              "      <td>Employed</td>\n",
              "      <td>mlyzmhmf</td>\n",
              "      <td>MSA, Not Principle  City</td>\n",
              "      <td>1.0</td>\n",
              "      <td>0.0</td>\n",
              "      <td>atmlpfrs</td>\n",
              "      <td>hfxkjkmi</td>\n",
              "    </tr>\n",
              "    <tr>\n",
              "      <th>1</th>\n",
              "      <td>1.0</td>\n",
              "      <td>1.0</td>\n",
              "      <td>0.0</td>\n",
              "      <td>0.0</td>\n",
              "      <td>0.0</td>\n",
              "      <td>0.0</td>\n",
              "      <td>0.0</td>\n",
              "      <td>0.0</td>\n",
              "      <td>0.0</td>\n",
              "      <td>0.0</td>\n",
              "      <td>0.0</td>\n",
              "      <td>0.0</td>\n",
              "      <td>0.0</td>\n",
              "      <td>0.0</td>\n",
              "      <td>0.0</td>\n",
              "      <td>4.0</td>\n",
              "      <td>1.0</td>\n",
              "      <td>1.0</td>\n",
              "      <td>4.0</td>\n",
              "      <td>1.0</td>\n",
              "      <td>1.0</td>\n",
              "      <td>18 - 34 Years</td>\n",
              "      <td>12 Years</td>\n",
              "      <td>White</td>\n",
              "      <td>Male</td>\n",
              "      <td>Below Poverty</td>\n",
              "      <td>Not Married</td>\n",
              "      <td>Rent</td>\n",
              "      <td>Employed</td>\n",
              "      <td>bhuqouqj</td>\n",
              "      <td>Non-MSA</td>\n",
              "      <td>3.0</td>\n",
              "      <td>0.0</td>\n",
              "      <td>atmlpfrs</td>\n",
              "      <td>xqwwgdyp</td>\n",
              "    </tr>\n",
              "    <tr>\n",
              "      <th>2</th>\n",
              "      <td>2.0</td>\n",
              "      <td>2.0</td>\n",
              "      <td>0.0</td>\n",
              "      <td>0.0</td>\n",
              "      <td>1.0</td>\n",
              "      <td>1.0</td>\n",
              "      <td>1.0</td>\n",
              "      <td>1.0</td>\n",
              "      <td>1.0</td>\n",
              "      <td>0.0</td>\n",
              "      <td>0.0</td>\n",
              "      <td>0.0</td>\n",
              "      <td>0.0</td>\n",
              "      <td>0.0</td>\n",
              "      <td>NaN</td>\n",
              "      <td>5.0</td>\n",
              "      <td>4.0</td>\n",
              "      <td>2.0</td>\n",
              "      <td>5.0</td>\n",
              "      <td>4.0</td>\n",
              "      <td>4.0</td>\n",
              "      <td>55 - 64 Years</td>\n",
              "      <td>College Graduate</td>\n",
              "      <td>White</td>\n",
              "      <td>Male</td>\n",
              "      <td>&gt; $75,000</td>\n",
              "      <td>Married</td>\n",
              "      <td>Own</td>\n",
              "      <td>Employed</td>\n",
              "      <td>lrircsnp</td>\n",
              "      <td>Non-MSA</td>\n",
              "      <td>1.0</td>\n",
              "      <td>0.0</td>\n",
              "      <td>nduyfdeo</td>\n",
              "      <td>pvmttkik</td>\n",
              "    </tr>\n",
              "    <tr>\n",
              "      <th>3</th>\n",
              "      <td>1.0</td>\n",
              "      <td>1.0</td>\n",
              "      <td>0.0</td>\n",
              "      <td>0.0</td>\n",
              "      <td>0.0</td>\n",
              "      <td>0.0</td>\n",
              "      <td>0.0</td>\n",
              "      <td>0.0</td>\n",
              "      <td>0.0</td>\n",
              "      <td>1.0</td>\n",
              "      <td>1.0</td>\n",
              "      <td>1.0</td>\n",
              "      <td>0.0</td>\n",
              "      <td>0.0</td>\n",
              "      <td>1.0</td>\n",
              "      <td>4.0</td>\n",
              "      <td>2.0</td>\n",
              "      <td>2.0</td>\n",
              "      <td>4.0</td>\n",
              "      <td>4.0</td>\n",
              "      <td>2.0</td>\n",
              "      <td>65+ Years</td>\n",
              "      <td>12 Years</td>\n",
              "      <td>White</td>\n",
              "      <td>Female</td>\n",
              "      <td>&lt;= $75,000, Above Poverty</td>\n",
              "      <td>Married</td>\n",
              "      <td>Own</td>\n",
              "      <td>Not in Labor Force</td>\n",
              "      <td>lrircsnp</td>\n",
              "      <td>MSA, Not Principle  City</td>\n",
              "      <td>1.0</td>\n",
              "      <td>0.0</td>\n",
              "      <td>NaN</td>\n",
              "      <td>NaN</td>\n",
              "    </tr>\n",
              "    <tr>\n",
              "      <th>4</th>\n",
              "      <td>3.0</td>\n",
              "      <td>1.0</td>\n",
              "      <td>1.0</td>\n",
              "      <td>1.0</td>\n",
              "      <td>0.0</td>\n",
              "      <td>1.0</td>\n",
              "      <td>1.0</td>\n",
              "      <td>1.0</td>\n",
              "      <td>1.0</td>\n",
              "      <td>0.0</td>\n",
              "      <td>0.0</td>\n",
              "      <td>0.0</td>\n",
              "      <td>0.0</td>\n",
              "      <td>1.0</td>\n",
              "      <td>1.0</td>\n",
              "      <td>5.0</td>\n",
              "      <td>2.0</td>\n",
              "      <td>4.0</td>\n",
              "      <td>4.0</td>\n",
              "      <td>4.0</td>\n",
              "      <td>2.0</td>\n",
              "      <td>35 - 44 Years</td>\n",
              "      <td>12 Years</td>\n",
              "      <td>Black</td>\n",
              "      <td>Female</td>\n",
              "      <td>&lt;= $75,000, Above Poverty</td>\n",
              "      <td>Not Married</td>\n",
              "      <td>Own</td>\n",
              "      <td>Employed</td>\n",
              "      <td>lzgpxyit</td>\n",
              "      <td>Non-MSA</td>\n",
              "      <td>0.0</td>\n",
              "      <td>1.0</td>\n",
              "      <td>fcxhlnwr</td>\n",
              "      <td>mxkfnird</td>\n",
              "    </tr>\n",
              "  </tbody>\n",
              "</table>\n",
              "</div>"
            ],
            "text/plain": [
              "   h1n1_concern  h1n1_knowledge  ...  employment_industry  employment_occupation\n",
              "0           2.0             2.0  ...             atmlpfrs               hfxkjkmi\n",
              "1           1.0             1.0  ...             atmlpfrs               xqwwgdyp\n",
              "2           2.0             2.0  ...             nduyfdeo               pvmttkik\n",
              "3           1.0             1.0  ...                  NaN                    NaN\n",
              "4           3.0             1.0  ...             fcxhlnwr               mxkfnird\n",
              "\n",
              "[5 rows x 35 columns]"
            ]
          },
          "metadata": {},
          "execution_count": 14
        }
      ]
    },
    {
      "cell_type": "code",
      "metadata": {
        "id": "WR4OR8mzm3kJ"
      },
      "source": [
        "target_features=['h1n1_vaccine', 'seasonal_vaccine']\n",
        "float_features=['h1n1_concern', 'h1n1_knowledge', 'behavioral_antiviral_meds',\n",
        "       'behavioral_avoidance', 'behavioral_face_mask', 'behavioral_wash_hands',\n",
        "       'behavioral_large_gatherings', 'behavioral_outside_home',\n",
        "       'behavioral_touch_face', 'doctor_recc_h1n1', 'doctor_recc_seasonal',\n",
        "       'chronic_med_condition', 'child_under_6_months', 'health_worker',\n",
        "       'health_insurance', 'opinion_h1n1_vacc_effective', 'opinion_h1n1_risk',\n",
        "       'opinion_h1n1_sick_from_vacc', 'opinion_seas_vacc_effective',\n",
        "       'opinion_seas_risk', 'opinion_seas_sick_from_vacc', 'household_adults', 'household_children']\n",
        "character_features=['age_group',\t'education',\t'race',\t'sex',\t'income_poverty',\t'marital_status',\t'rent_or_own',\t'employment_status',\t'hhs_geo_region',\t'census_msa', 'employment_industry',\t'employment_occupation']"
      ],
      "execution_count": null,
      "outputs": []
    },
    {
      "cell_type": "markdown",
      "metadata": {
        "id": "4UnUawUAxRqZ"
      },
      "source": [
        "## 1. fill missing values"
      ]
    },
    {
      "cell_type": "code",
      "metadata": {
        "id": "PKswNvqhPQ35"
      },
      "source": [
        "# fill missing value (float features missing value -> -999, character features missing value -> 'unknown')\n",
        "def fill_missing_value(df):\n",
        "    df[character_features]=df[character_features].fillna('unknown')\n",
        "    df[float_features]=df[float_features].fillna(-999)\n",
        "    return df"
      ],
      "execution_count": null,
      "outputs": []
    },
    {
      "cell_type": "code",
      "metadata": {
        "id": "96AMBOQ3AYoh"
      },
      "source": [
        "# # fill missing value (float features missing value -> mod character features missing value -> Mod)\n",
        "# def fill_missing_value(df):\n",
        "#   list_float=[]\n",
        "#   list_char=[]\n",
        "#   for i in range(len(float_features)):\n",
        "#     flo=df[[float_features[i]]].fillna(df[float_features[i]].mode()[0])\n",
        "#     list_float.append(flo)\n",
        "\n",
        "#   for i in range(len(character_features)):\n",
        "#     char=df[[character_features[i]]].fillna(df[character_features[i]].mode()[0])\n",
        "#     list_char.append(char)\n",
        "\n",
        "#   df1=pd.concat(list_float, axis=1)\n",
        "#   df2=pd.concat(list_char, axis=1)\n",
        "#   df=pd.concat([df1,df2],axis=1)\n",
        "#   return df"
      ],
      "execution_count": null,
      "outputs": []
    },
    {
      "cell_type": "code",
      "metadata": {
        "colab": {
          "base_uri": "https://localhost:8080/"
        },
        "id": "hJCtpw2pxRyJ",
        "outputId": "fa175c38-d266-45a7-f474-1a6361e7d756"
      },
      "source": [
        "train_features=fill_missing_value(train_features)\n",
        "train_features.info()"
      ],
      "execution_count": null,
      "outputs": [
        {
          "output_type": "stream",
          "name": "stdout",
          "text": [
            "<class 'pandas.core.frame.DataFrame'>\n",
            "RangeIndex: 26707 entries, 0 to 26706\n",
            "Data columns (total 35 columns):\n",
            " #   Column                       Non-Null Count  Dtype  \n",
            "---  ------                       --------------  -----  \n",
            " 0   h1n1_concern                 26707 non-null  float64\n",
            " 1   h1n1_knowledge               26707 non-null  float64\n",
            " 2   behavioral_antiviral_meds    26707 non-null  float64\n",
            " 3   behavioral_avoidance         26707 non-null  float64\n",
            " 4   behavioral_face_mask         26707 non-null  float64\n",
            " 5   behavioral_wash_hands        26707 non-null  float64\n",
            " 6   behavioral_large_gatherings  26707 non-null  float64\n",
            " 7   behavioral_outside_home      26707 non-null  float64\n",
            " 8   behavioral_touch_face        26707 non-null  float64\n",
            " 9   doctor_recc_h1n1             26707 non-null  float64\n",
            " 10  doctor_recc_seasonal         26707 non-null  float64\n",
            " 11  chronic_med_condition        26707 non-null  float64\n",
            " 12  child_under_6_months         26707 non-null  float64\n",
            " 13  health_worker                26707 non-null  float64\n",
            " 14  health_insurance             26707 non-null  float64\n",
            " 15  opinion_h1n1_vacc_effective  26707 non-null  float64\n",
            " 16  opinion_h1n1_risk            26707 non-null  float64\n",
            " 17  opinion_h1n1_sick_from_vacc  26707 non-null  float64\n",
            " 18  opinion_seas_vacc_effective  26707 non-null  float64\n",
            " 19  opinion_seas_risk            26707 non-null  float64\n",
            " 20  opinion_seas_sick_from_vacc  26707 non-null  float64\n",
            " 21  age_group                    26707 non-null  object \n",
            " 22  education                    26707 non-null  object \n",
            " 23  race                         26707 non-null  object \n",
            " 24  sex                          26707 non-null  object \n",
            " 25  income_poverty               26707 non-null  object \n",
            " 26  marital_status               26707 non-null  object \n",
            " 27  rent_or_own                  26707 non-null  object \n",
            " 28  employment_status            26707 non-null  object \n",
            " 29  hhs_geo_region               26707 non-null  object \n",
            " 30  census_msa                   26707 non-null  object \n",
            " 31  household_adults             26707 non-null  float64\n",
            " 32  household_children           26707 non-null  float64\n",
            " 33  employment_industry          26707 non-null  object \n",
            " 34  employment_occupation        26707 non-null  object \n",
            "dtypes: float64(23), object(12)\n",
            "memory usage: 7.1+ MB\n"
          ]
        }
      ]
    },
    {
      "cell_type": "code",
      "metadata": {
        "colab": {
          "base_uri": "https://localhost:8080/"
        },
        "id": "mwwwmSWmxR4o",
        "outputId": "afdb91ba-55e0-4118-dccf-ef7911faba08"
      },
      "source": [
        "test_features=fill_missing_value(test_features)\n",
        "test_features.info()"
      ],
      "execution_count": null,
      "outputs": [
        {
          "output_type": "stream",
          "name": "stdout",
          "text": [
            "<class 'pandas.core.frame.DataFrame'>\n",
            "RangeIndex: 26708 entries, 0 to 26707\n",
            "Data columns (total 35 columns):\n",
            " #   Column                       Non-Null Count  Dtype  \n",
            "---  ------                       --------------  -----  \n",
            " 0   h1n1_concern                 26708 non-null  float64\n",
            " 1   h1n1_knowledge               26708 non-null  float64\n",
            " 2   behavioral_antiviral_meds    26708 non-null  float64\n",
            " 3   behavioral_avoidance         26708 non-null  float64\n",
            " 4   behavioral_face_mask         26708 non-null  float64\n",
            " 5   behavioral_wash_hands        26708 non-null  float64\n",
            " 6   behavioral_large_gatherings  26708 non-null  float64\n",
            " 7   behavioral_outside_home      26708 non-null  float64\n",
            " 8   behavioral_touch_face        26708 non-null  float64\n",
            " 9   doctor_recc_h1n1             26708 non-null  float64\n",
            " 10  doctor_recc_seasonal         26708 non-null  float64\n",
            " 11  chronic_med_condition        26708 non-null  float64\n",
            " 12  child_under_6_months         26708 non-null  float64\n",
            " 13  health_worker                26708 non-null  float64\n",
            " 14  health_insurance             26708 non-null  float64\n",
            " 15  opinion_h1n1_vacc_effective  26708 non-null  float64\n",
            " 16  opinion_h1n1_risk            26708 non-null  float64\n",
            " 17  opinion_h1n1_sick_from_vacc  26708 non-null  float64\n",
            " 18  opinion_seas_vacc_effective  26708 non-null  float64\n",
            " 19  opinion_seas_risk            26708 non-null  float64\n",
            " 20  opinion_seas_sick_from_vacc  26708 non-null  float64\n",
            " 21  age_group                    26708 non-null  object \n",
            " 22  education                    26708 non-null  object \n",
            " 23  race                         26708 non-null  object \n",
            " 24  sex                          26708 non-null  object \n",
            " 25  income_poverty               26708 non-null  object \n",
            " 26  marital_status               26708 non-null  object \n",
            " 27  rent_or_own                  26708 non-null  object \n",
            " 28  employment_status            26708 non-null  object \n",
            " 29  hhs_geo_region               26708 non-null  object \n",
            " 30  census_msa                   26708 non-null  object \n",
            " 31  household_adults             26708 non-null  float64\n",
            " 32  household_children           26708 non-null  float64\n",
            " 33  employment_industry          26708 non-null  object \n",
            " 34  employment_occupation        26708 non-null  object \n",
            "dtypes: float64(23), object(12)\n",
            "memory usage: 7.1+ MB\n"
          ]
        }
      ]
    },
    {
      "cell_type": "markdown",
      "metadata": {
        "id": "Gk_A2hmUyZTY"
      },
      "source": [
        "## 2. create features"
      ]
    },
    {
      "cell_type": "markdown",
      "metadata": {
        "id": "pi2NL2UZBFe4"
      },
      "source": [
        "### 1. add clustering features"
      ]
    },
    {
      "cell_type": "code",
      "metadata": {
        "id": "XHLeIxKQB6oG"
      },
      "source": [
        "# clf_col = np.where(train_features.dtypes != object)[0]\n",
        "# clf_feat = [train_features.columns[x] for x in clf_col]"
      ],
      "execution_count": null,
      "outputs": []
    },
    {
      "cell_type": "code",
      "metadata": {
        "id": "ZqoozDIXB6oG"
      },
      "source": [
        "# kmeans = KMeans(4,random_state=42)\n",
        "# kmeans.fit(train_features[clf_feat])\n",
        "# train_features['clusters'] = kmeans.predict(train_features[clf_feat])\n",
        "# test_features['clusters']  = kmeans.predict(test_features[clf_feat])"
      ],
      "execution_count": null,
      "outputs": []
    },
    {
      "cell_type": "code",
      "metadata": {
        "id": "7CkrdcAiB6oG"
      },
      "source": [
        "# train_features['clusters'].value_counts()"
      ],
      "execution_count": null,
      "outputs": []
    },
    {
      "cell_type": "code",
      "metadata": {
        "id": "KI-KozDpB6oG"
      },
      "source": [
        "# test_features['clusters'].value_counts()"
      ],
      "execution_count": null,
      "outputs": []
    },
    {
      "cell_type": "code",
      "metadata": {
        "id": "l458FzQXB6oG"
      },
      "source": [
        "# target_mean_train_y1 = pd.concat([train_features, train_labels],axis=1).groupby(['clusters']).mean()[['h1n1_vaccine']]\n",
        "# target_mean_train_y2 = pd.concat([train_features, train_labels],axis=1).groupby(['clusters']).mean()[['seasonal_vaccine']]"
      ],
      "execution_count": null,
      "outputs": []
    },
    {
      "cell_type": "code",
      "metadata": {
        "id": "zS62_crqB6oG"
      },
      "source": [
        "# for i in list(target_mean_train_y1.columns):\n",
        "#   target_mean_train_y1.rename({i:i+\"_mean\"},axis=1,inplace=True)\n",
        "\n",
        "# for i in list(target_mean_train_y2.columns):\n",
        "#   target_mean_train_y2.rename({i:i+\"_mean\"},axis=1,inplace=True)"
      ],
      "execution_count": null,
      "outputs": []
    },
    {
      "cell_type": "code",
      "metadata": {
        "id": "kdJJWwu5B6oH"
      },
      "source": [
        "# train_features = train_features.merge(target_mean_train_y1,how='left',on='clusters')\n",
        "# test_features = test_features.merge(target_mean_train_y1,how=\"left\",on='clusters')"
      ],
      "execution_count": null,
      "outputs": []
    },
    {
      "cell_type": "code",
      "metadata": {
        "id": "iJOCCSziB6oH"
      },
      "source": [
        "# train_features = train_features.merge(target_mean_train_y2,how='left',on='clusters')\n",
        "# test_features = test_features.merge(target_mean_train_y2,how=\"left\",on='clusters')"
      ],
      "execution_count": null,
      "outputs": []
    },
    {
      "cell_type": "markdown",
      "metadata": {
        "id": "u2qFVZRCBFUg"
      },
      "source": [
        "### 2. create and drop features"
      ]
    },
    {
      "cell_type": "code",
      "metadata": {
        "id": "GVmVivM8CVX2"
      },
      "source": [
        "def feature_engineering(df):\n",
        "\n",
        "    behaviorals = [col for col in df.columns if 'behavioral' in col]\n",
        "    df['behaviorals'] = df[behaviorals].sum(axis=1)\n",
        "\n",
        "    opinion_h1n1 = [col for col in df.columns if 'opinion_h1n1' in col]\n",
        "    df['opinion_h1n1'] = df[opinion_h1n1].sum(axis=1)\n",
        "\n",
        "    opinion_seasonal = [col for col in df.columns if 'opinion_seasonal' in col]\n",
        "    df['opinion_seasonal'] = df[opinion_seasonal].sum(axis=1)\n",
        "\n",
        "    # # total_persons = 'household_adults' + 'household_children'\n",
        "    # df['total_persons'] = df['household_adults']+df['household_children']\n",
        "\n",
        "    # # 'face_mask_wash_hand' = 'behavioral_face_mask' + 'behavioral_wash_hands'\n",
        "    # # 'face_mask_touch_face' = 'behavioral_face_mask' + 'behavioral_touch_face'\n",
        "    # # 'wash_hands_touch_face' = 'behavioral_wash_hands' + 'behavioral_touch_face'\n",
        "    # df['face_mask_wash_hand'] = df['behavioral_face_mask']+df['behavioral_wash_hands']\n",
        "    # df['face_mask_touch_face'] = df['behavioral_face_mask'] + df['behavioral_touch_face']\n",
        "    # df['wash_hands_touch_face'] = df['behavioral_wash_hands']+df['behavioral_touch_face']\n",
        "\n",
        "    # # 'opinion_seas_vacc_eff_risk' = 'opinion_seas_vacc_effective' + 'opinion_seas_risk'\n",
        "    # # 'opinion_seas_vacc_eff_sick' = 'opinion_seas_vacc_effective' + 'opinion_seas_sick_from_vacc'\n",
        "    # # 'opinion_seas_risk_sick' = 'opinion_seas_risk' + 'opinion_seas_sick_from_vacc'\n",
        "    # df['opinion_seas_vacc_eff_risk'] = df['opinion_seas_vacc_effective']+df['opinion_seas_risk']\n",
        "    # df['opinion_seas_vacc_eff_sick'] = df['opinion_seas_vacc_effective'] + df['opinion_seas_sick_from_vacc']\n",
        "    # df['opinion_seas_risk_sick']  = df['opinion_seas_risk']+df['opinion_seas_sick_from_vacc']\n",
        "\n",
        "    # # 'opinion_h1n1_vacc_eff_risk' = 'opinion_h1n1_vacc_effective' + 'opinion_h1n1_risk'\n",
        "    # # 'opinion_h1n1_vacc_eff_sick' = 'opinion_h1n1_vacc_effective' + 'opinion_h1n1_sick_from_vacc'\n",
        "    # # 'opinion_h1n1_risk_sick' = 'opinion_h1n1_risk' + 'opinion_h1n1_sick_from_vacc'\n",
        "    # df['opinion_h1n1_eff_risk'] = df['opinion_h1n1_vacc_effective']+df['opinion_h1n1_risk']\n",
        "    # df['opinion_h1n1_vacc_eff_sick'] = df['opinion_h1n1_vacc_effective']+df['opinion_h1n1_sick_from_vacc']\n",
        "    # df['opinion_h1n1_risk_sick']  = df['opinion_h1n1_risk']+df['opinion_h1n1_sick_from_vacc']\n",
        "\n",
        "    # # 'h1n1_concern_knowledge' = 'h1n1_concern' + 'h1n1_knowledge'\n",
        "    # df['h1n1_concern_knowledge']   = df['h1n1_concern'] + df['h1n1_knowledge']\n",
        "\n",
        "    # # 'behavior_large_gath_outside_home' = 'behavioral_large_gatherings' + 'behavioral_outside_home'\n",
        "    # df['behavior_large_gath_outside_home']  = df['behavioral_large_gatherings'] + df['behavioral_outside_home']\n",
        "\n",
        "    # # drop features\n",
        "    # drop_cols = ['behavioral_face_mask','behavioral_wash_hands','behavioral_touch_face','opinion_seas_vacc_effective',\n",
        "    #        'opinion_seas_risk','opinion_h1n1_vacc_effective','opinion_h1n1_risk','opinion_seas_vacc_effective',\n",
        "    #        'opinion_seas_sick_from_vacc','opinion_h1n1_vacc_effective','opinion_h1n1_sick_from_vacc','h1n1_concern',\n",
        "    #        'h1n1_knowledge','behavioral_large_gatherings','behavioral_outside_home','household_adults','household_children']\n",
        "\n",
        "    # df.drop(drop_cols, axis=1, inplace=True)\n",
        "    return df\n"
      ],
      "execution_count": null,
      "outputs": []
    },
    {
      "cell_type": "code",
      "metadata": {
        "id": "0l0oOb0eD9Ft"
      },
      "source": [
        "train_features=feature_engineering(train_features)\n",
        "test_features=feature_engineering(test_features)"
      ],
      "execution_count": null,
      "outputs": []
    },
    {
      "cell_type": "code",
      "metadata": {
        "colab": {
          "base_uri": "https://localhost:8080/"
        },
        "id": "l59pz887zeOA",
        "outputId": "03a099b0-8e57-4eb4-e035-23f19bce659b"
      },
      "source": [
        "train_features.info()"
      ],
      "execution_count": null,
      "outputs": [
        {
          "output_type": "stream",
          "name": "stdout",
          "text": [
            "<class 'pandas.core.frame.DataFrame'>\n",
            "RangeIndex: 26707 entries, 0 to 26706\n",
            "Data columns (total 38 columns):\n",
            " #   Column                       Non-Null Count  Dtype  \n",
            "---  ------                       --------------  -----  \n",
            " 0   h1n1_concern                 26707 non-null  float64\n",
            " 1   h1n1_knowledge               26707 non-null  float64\n",
            " 2   behavioral_antiviral_meds    26707 non-null  float64\n",
            " 3   behavioral_avoidance         26707 non-null  float64\n",
            " 4   behavioral_face_mask         26707 non-null  float64\n",
            " 5   behavioral_wash_hands        26707 non-null  float64\n",
            " 6   behavioral_large_gatherings  26707 non-null  float64\n",
            " 7   behavioral_outside_home      26707 non-null  float64\n",
            " 8   behavioral_touch_face        26707 non-null  float64\n",
            " 9   doctor_recc_h1n1             26707 non-null  float64\n",
            " 10  doctor_recc_seasonal         26707 non-null  float64\n",
            " 11  chronic_med_condition        26707 non-null  float64\n",
            " 12  child_under_6_months         26707 non-null  float64\n",
            " 13  health_worker                26707 non-null  float64\n",
            " 14  health_insurance             26707 non-null  float64\n",
            " 15  opinion_h1n1_vacc_effective  26707 non-null  float64\n",
            " 16  opinion_h1n1_risk            26707 non-null  float64\n",
            " 17  opinion_h1n1_sick_from_vacc  26707 non-null  float64\n",
            " 18  opinion_seas_vacc_effective  26707 non-null  float64\n",
            " 19  opinion_seas_risk            26707 non-null  float64\n",
            " 20  opinion_seas_sick_from_vacc  26707 non-null  float64\n",
            " 21  age_group                    26707 non-null  object \n",
            " 22  education                    26707 non-null  object \n",
            " 23  race                         26707 non-null  object \n",
            " 24  sex                          26707 non-null  object \n",
            " 25  income_poverty               26707 non-null  object \n",
            " 26  marital_status               26707 non-null  object \n",
            " 27  rent_or_own                  26707 non-null  object \n",
            " 28  employment_status            26707 non-null  object \n",
            " 29  hhs_geo_region               26707 non-null  object \n",
            " 30  census_msa                   26707 non-null  object \n",
            " 31  household_adults             26707 non-null  float64\n",
            " 32  household_children           26707 non-null  float64\n",
            " 33  employment_industry          26707 non-null  object \n",
            " 34  employment_occupation        26707 non-null  object \n",
            " 35  behaviorals                  26707 non-null  float64\n",
            " 36  opinion_h1n1                 26707 non-null  float64\n",
            " 37  opinion_seasonal             26707 non-null  float64\n",
            "dtypes: float64(26), object(12)\n",
            "memory usage: 7.7+ MB\n"
          ]
        }
      ]
    },
    {
      "cell_type": "code",
      "metadata": {
        "colab": {
          "base_uri": "https://localhost:8080/"
        },
        "id": "eRv6nWA8EGjg",
        "outputId": "7886dcfc-e4e9-42f9-df59-3412679f9007"
      },
      "source": [
        "test_features.info()"
      ],
      "execution_count": null,
      "outputs": [
        {
          "output_type": "stream",
          "name": "stdout",
          "text": [
            "<class 'pandas.core.frame.DataFrame'>\n",
            "RangeIndex: 26708 entries, 0 to 26707\n",
            "Data columns (total 38 columns):\n",
            " #   Column                       Non-Null Count  Dtype  \n",
            "---  ------                       --------------  -----  \n",
            " 0   h1n1_concern                 26708 non-null  float64\n",
            " 1   h1n1_knowledge               26708 non-null  float64\n",
            " 2   behavioral_antiviral_meds    26708 non-null  float64\n",
            " 3   behavioral_avoidance         26708 non-null  float64\n",
            " 4   behavioral_face_mask         26708 non-null  float64\n",
            " 5   behavioral_wash_hands        26708 non-null  float64\n",
            " 6   behavioral_large_gatherings  26708 non-null  float64\n",
            " 7   behavioral_outside_home      26708 non-null  float64\n",
            " 8   behavioral_touch_face        26708 non-null  float64\n",
            " 9   doctor_recc_h1n1             26708 non-null  float64\n",
            " 10  doctor_recc_seasonal         26708 non-null  float64\n",
            " 11  chronic_med_condition        26708 non-null  float64\n",
            " 12  child_under_6_months         26708 non-null  float64\n",
            " 13  health_worker                26708 non-null  float64\n",
            " 14  health_insurance             26708 non-null  float64\n",
            " 15  opinion_h1n1_vacc_effective  26708 non-null  float64\n",
            " 16  opinion_h1n1_risk            26708 non-null  float64\n",
            " 17  opinion_h1n1_sick_from_vacc  26708 non-null  float64\n",
            " 18  opinion_seas_vacc_effective  26708 non-null  float64\n",
            " 19  opinion_seas_risk            26708 non-null  float64\n",
            " 20  opinion_seas_sick_from_vacc  26708 non-null  float64\n",
            " 21  age_group                    26708 non-null  object \n",
            " 22  education                    26708 non-null  object \n",
            " 23  race                         26708 non-null  object \n",
            " 24  sex                          26708 non-null  object \n",
            " 25  income_poverty               26708 non-null  object \n",
            " 26  marital_status               26708 non-null  object \n",
            " 27  rent_or_own                  26708 non-null  object \n",
            " 28  employment_status            26708 non-null  object \n",
            " 29  hhs_geo_region               26708 non-null  object \n",
            " 30  census_msa                   26708 non-null  object \n",
            " 31  household_adults             26708 non-null  float64\n",
            " 32  household_children           26708 non-null  float64\n",
            " 33  employment_industry          26708 non-null  object \n",
            " 34  employment_occupation        26708 non-null  object \n",
            " 35  behaviorals                  26708 non-null  float64\n",
            " 36  opinion_h1n1                 26708 non-null  float64\n",
            " 37  opinion_seasonal             26708 non-null  float64\n",
            "dtypes: float64(26), object(12)\n",
            "memory usage: 7.7+ MB\n"
          ]
        }
      ]
    },
    {
      "cell_type": "markdown",
      "metadata": {
        "id": "RUCzOPaBmLpC"
      },
      "source": [
        "## 3. encoding"
      ]
    },
    {
      "cell_type": "code",
      "metadata": {
        "id": "e-ZFBgOa-A7F"
      },
      "source": [
        "float_cols=[train_features.columns[x] for x in np.where(train_features.dtypes != object)[0]]\n",
        "for col in float_cols:\n",
        "    train_features[col] = train_features[col].apply(str)\n",
        "    test_features[col] = test_features[col].apply(str)"
      ],
      "execution_count": null,
      "outputs": []
    },
    {
      "cell_type": "code",
      "metadata": {
        "id": "FGqueWDgmL4t"
      },
      "source": [
        "from sklearn import preprocessing\n",
        "label_encoder=preprocessing.LabelEncoder()"
      ],
      "execution_count": null,
      "outputs": []
    },
    {
      "cell_type": "code",
      "metadata": {
        "id": "w-jFB7DEmvmb"
      },
      "source": [
        "#encoding 함수\n",
        "def encoding(df):\n",
        "  ## label encoding\n",
        "  df['age_group']=label_encoder.fit_transform(df['age_group'])\n",
        "  df['education']=label_encoder.fit_transform(df['education'])\n",
        "  df['income_poverty']=label_encoder.fit_transform(df['income_poverty'])\n",
        "\n",
        "  df['employment_occupation']=label_encoder.fit_transform(df['employment_occupation'])\n",
        "  df['hhs_geo_region']=label_encoder.fit_transform(df['hhs_geo_region'])\n",
        "  df['employment_industry']=label_encoder.fit_transform(df['employment_industry'])\n",
        "\n",
        "  df_onehot=pd.get_dummies(df[['sex','rent_or_own','marital_status','employment_status','race','census_msa']])\n",
        "  df_encoding=pd.concat([df, df_onehot ], axis = 1)\n",
        "  #df_onehot = pd.concat([df, sex_onehot,rent_onehot,marital_onehot,em_sta_onehot,race_onehot, census_onehot ], axis = 1)\n",
        "  df_encoding =  df_encoding.drop(columns = ['sex','rent_or_own','marital_status','employment_status','race','census_msa'])\n",
        "\n",
        "  return df_encoding"
      ],
      "execution_count": null,
      "outputs": []
    },
    {
      "cell_type": "code",
      "metadata": {
        "id": "C39UoeqNmvrR"
      },
      "source": [
        "train_features_final=encoding(train_features)\n",
        "test_features_final=encoding(test_features)"
      ],
      "execution_count": null,
      "outputs": []
    },
    {
      "cell_type": "code",
      "metadata": {
        "id": "UvtR13vemvw-",
        "colab": {
          "base_uri": "https://localhost:8080/"
        },
        "outputId": "7a3184b6-fb6f-4dcf-ecd7-e392cdaef27f"
      },
      "source": [
        "train_features_final.info()"
      ],
      "execution_count": null,
      "outputs": [
        {
          "output_type": "stream",
          "name": "stdout",
          "text": [
            "<class 'pandas.core.frame.DataFrame'>\n",
            "RangeIndex: 26707 entries, 0 to 26706\n",
            "Data columns (total 51 columns):\n",
            " #   Column                                Non-Null Count  Dtype \n",
            "---  ------                                --------------  ----- \n",
            " 0   h1n1_concern                          26707 non-null  object\n",
            " 1   h1n1_knowledge                        26707 non-null  object\n",
            " 2   behavioral_antiviral_meds             26707 non-null  object\n",
            " 3   behavioral_avoidance                  26707 non-null  object\n",
            " 4   behavioral_face_mask                  26707 non-null  object\n",
            " 5   behavioral_wash_hands                 26707 non-null  object\n",
            " 6   behavioral_large_gatherings           26707 non-null  object\n",
            " 7   behavioral_outside_home               26707 non-null  object\n",
            " 8   behavioral_touch_face                 26707 non-null  object\n",
            " 9   doctor_recc_h1n1                      26707 non-null  object\n",
            " 10  doctor_recc_seasonal                  26707 non-null  object\n",
            " 11  chronic_med_condition                 26707 non-null  object\n",
            " 12  child_under_6_months                  26707 non-null  object\n",
            " 13  health_worker                         26707 non-null  object\n",
            " 14  health_insurance                      26707 non-null  object\n",
            " 15  opinion_h1n1_vacc_effective           26707 non-null  object\n",
            " 16  opinion_h1n1_risk                     26707 non-null  object\n",
            " 17  opinion_h1n1_sick_from_vacc           26707 non-null  object\n",
            " 18  opinion_seas_vacc_effective           26707 non-null  object\n",
            " 19  opinion_seas_risk                     26707 non-null  object\n",
            " 20  opinion_seas_sick_from_vacc           26707 non-null  object\n",
            " 21  age_group                             26707 non-null  int64 \n",
            " 22  education                             26707 non-null  int64 \n",
            " 23  income_poverty                        26707 non-null  int64 \n",
            " 24  hhs_geo_region                        26707 non-null  int64 \n",
            " 25  household_adults                      26707 non-null  object\n",
            " 26  household_children                    26707 non-null  object\n",
            " 27  employment_industry                   26707 non-null  int64 \n",
            " 28  employment_occupation                 26707 non-null  int64 \n",
            " 29  behaviorals                           26707 non-null  object\n",
            " 30  opinion_h1n1                          26707 non-null  object\n",
            " 31  opinion_seasonal                      26707 non-null  object\n",
            " 32  sex_Female                            26707 non-null  uint8 \n",
            " 33  sex_Male                              26707 non-null  uint8 \n",
            " 34  rent_or_own_Own                       26707 non-null  uint8 \n",
            " 35  rent_or_own_Rent                      26707 non-null  uint8 \n",
            " 36  rent_or_own_unknown                   26707 non-null  uint8 \n",
            " 37  marital_status_Married                26707 non-null  uint8 \n",
            " 38  marital_status_Not Married            26707 non-null  uint8 \n",
            " 39  marital_status_unknown                26707 non-null  uint8 \n",
            " 40  employment_status_Employed            26707 non-null  uint8 \n",
            " 41  employment_status_Not in Labor Force  26707 non-null  uint8 \n",
            " 42  employment_status_Unemployed          26707 non-null  uint8 \n",
            " 43  employment_status_unknown             26707 non-null  uint8 \n",
            " 44  race_Black                            26707 non-null  uint8 \n",
            " 45  race_Hispanic                         26707 non-null  uint8 \n",
            " 46  race_Other or Multiple                26707 non-null  uint8 \n",
            " 47  race_White                            26707 non-null  uint8 \n",
            " 48  census_msa_MSA, Not Principle  City   26707 non-null  uint8 \n",
            " 49  census_msa_MSA, Principle City        26707 non-null  uint8 \n",
            " 50  census_msa_Non-MSA                    26707 non-null  uint8 \n",
            "dtypes: int64(6), object(26), uint8(19)\n",
            "memory usage: 7.0+ MB\n"
          ]
        }
      ]
    },
    {
      "cell_type": "code",
      "metadata": {
        "id": "5JD8WZJHjo8f",
        "colab": {
          "base_uri": "https://localhost:8080/"
        },
        "outputId": "3125a14d-9977-4d22-fdd5-680b15ec1235"
      },
      "source": [
        "test_features_final.info()"
      ],
      "execution_count": null,
      "outputs": [
        {
          "output_type": "stream",
          "name": "stdout",
          "text": [
            "<class 'pandas.core.frame.DataFrame'>\n",
            "RangeIndex: 26708 entries, 0 to 26707\n",
            "Data columns (total 51 columns):\n",
            " #   Column                                Non-Null Count  Dtype \n",
            "---  ------                                --------------  ----- \n",
            " 0   h1n1_concern                          26708 non-null  object\n",
            " 1   h1n1_knowledge                        26708 non-null  object\n",
            " 2   behavioral_antiviral_meds             26708 non-null  object\n",
            " 3   behavioral_avoidance                  26708 non-null  object\n",
            " 4   behavioral_face_mask                  26708 non-null  object\n",
            " 5   behavioral_wash_hands                 26708 non-null  object\n",
            " 6   behavioral_large_gatherings           26708 non-null  object\n",
            " 7   behavioral_outside_home               26708 non-null  object\n",
            " 8   behavioral_touch_face                 26708 non-null  object\n",
            " 9   doctor_recc_h1n1                      26708 non-null  object\n",
            " 10  doctor_recc_seasonal                  26708 non-null  object\n",
            " 11  chronic_med_condition                 26708 non-null  object\n",
            " 12  child_under_6_months                  26708 non-null  object\n",
            " 13  health_worker                         26708 non-null  object\n",
            " 14  health_insurance                      26708 non-null  object\n",
            " 15  opinion_h1n1_vacc_effective           26708 non-null  object\n",
            " 16  opinion_h1n1_risk                     26708 non-null  object\n",
            " 17  opinion_h1n1_sick_from_vacc           26708 non-null  object\n",
            " 18  opinion_seas_vacc_effective           26708 non-null  object\n",
            " 19  opinion_seas_risk                     26708 non-null  object\n",
            " 20  opinion_seas_sick_from_vacc           26708 non-null  object\n",
            " 21  age_group                             26708 non-null  int64 \n",
            " 22  education                             26708 non-null  int64 \n",
            " 23  income_poverty                        26708 non-null  int64 \n",
            " 24  hhs_geo_region                        26708 non-null  int64 \n",
            " 25  household_adults                      26708 non-null  object\n",
            " 26  household_children                    26708 non-null  object\n",
            " 27  employment_industry                   26708 non-null  int64 \n",
            " 28  employment_occupation                 26708 non-null  int64 \n",
            " 29  behaviorals                           26708 non-null  object\n",
            " 30  opinion_h1n1                          26708 non-null  object\n",
            " 31  opinion_seasonal                      26708 non-null  object\n",
            " 32  sex_Female                            26708 non-null  uint8 \n",
            " 33  sex_Male                              26708 non-null  uint8 \n",
            " 34  rent_or_own_Own                       26708 non-null  uint8 \n",
            " 35  rent_or_own_Rent                      26708 non-null  uint8 \n",
            " 36  rent_or_own_unknown                   26708 non-null  uint8 \n",
            " 37  marital_status_Married                26708 non-null  uint8 \n",
            " 38  marital_status_Not Married            26708 non-null  uint8 \n",
            " 39  marital_status_unknown                26708 non-null  uint8 \n",
            " 40  employment_status_Employed            26708 non-null  uint8 \n",
            " 41  employment_status_Not in Labor Force  26708 non-null  uint8 \n",
            " 42  employment_status_Unemployed          26708 non-null  uint8 \n",
            " 43  employment_status_unknown             26708 non-null  uint8 \n",
            " 44  race_Black                            26708 non-null  uint8 \n",
            " 45  race_Hispanic                         26708 non-null  uint8 \n",
            " 46  race_Other or Multiple                26708 non-null  uint8 \n",
            " 47  race_White                            26708 non-null  uint8 \n",
            " 48  census_msa_MSA, Not Principle  City   26708 non-null  uint8 \n",
            " 49  census_msa_MSA, Principle City        26708 non-null  uint8 \n",
            " 50  census_msa_Non-MSA                    26708 non-null  uint8 \n",
            "dtypes: int64(6), object(26), uint8(19)\n",
            "memory usage: 7.0+ MB\n"
          ]
        }
      ]
    },
    {
      "cell_type": "markdown",
      "metadata": {
        "id": "p9ONd3CKkwDY"
      },
      "source": [
        "## 4. finalize data\n"
      ]
    },
    {
      "cell_type": "code",
      "metadata": {
        "id": "BKSgpYS4BXZ1"
      },
      "source": [
        "train_x=train_features_final\n",
        "test_x=test_features_final\n",
        "train_y1=train_labels['h1n1_vaccine']\n",
        "train_y2=train_labels['seasonal_vaccine']"
      ],
      "execution_count": null,
      "outputs": []
    },
    {
      "cell_type": "markdown",
      "metadata": {
        "id": "DVnhPx2PBvUd"
      },
      "source": [
        "# Modeling"
      ]
    },
    {
      "cell_type": "code",
      "metadata": {
        "id": "0B2S_bJo9QB3"
      },
      "source": [
        "# ! pip install --upgrade numpy"
      ],
      "execution_count": null,
      "outputs": []
    },
    {
      "cell_type": "code",
      "metadata": {
        "id": "zKREriNpdkwX"
      },
      "source": [
        "from pycaret import *\n",
        "from sklearn.neural_network import MLPClassifier\n",
        "from sklearn.model_selection import cross_val_score\n",
        "from setuptools import find_packages, setup"
      ],
      "execution_count": null,
      "outputs": []
    },
    {
      "cell_type": "markdown",
      "metadata": {
        "id": "xzKrXnBLdfOI"
      },
      "source": [
        "## 1. h1n1"
      ]
    },
    {
      "cell_type": "markdown",
      "metadata": {
        "id": "ZPpfAPrBDBqu"
      },
      "source": [
        "### automl (pycaret)"
      ]
    },
    {
      "cell_type": "code",
      "metadata": {
        "id": "1M3XKDfwNir8"
      },
      "source": [
        "# !pip uninstall pandas\n",
        "# !pip install pandas\n",
        "# !pip uninstall Scikit-Learn\n",
        "# !pip install Scikit-Learn"
      ],
      "execution_count": null,
      "outputs": []
    },
    {
      "cell_type": "code",
      "metadata": {
        "id": "S9ChXHMtEkl8",
        "colab": {
          "base_uri": "https://localhost:8080/"
        },
        "outputId": "53e62735-90b6-40b7-bd3f-af73e43b12e0"
      },
      "source": [
        "from pycaret.classification import *"
      ],
      "execution_count": null,
      "outputs": [
        {
          "output_type": "stream",
          "name": "stderr",
          "text": [
            "/usr/local/lib/python3.7/dist-packages/distributed/config.py:20: YAMLLoadWarning: calling yaml.load() without Loader=... is deprecated, as the default Loader is unsafe. Please read https://msg.pyyaml.org/load for full details.\n",
            "  defaults = yaml.load(f)\n"
          ]
        }
      ]
    },
    {
      "cell_type": "code",
      "source": [
        "# ! pip install scikit-learn==0.23.2"
      ],
      "metadata": {
        "id": "_QgQUAVDF_h8"
      },
      "execution_count": null,
      "outputs": []
    },
    {
      "cell_type": "code",
      "metadata": {
        "colab": {
          "base_uri": "https://localhost:8080/",
          "height": 1000,
          "referenced_widgets": [
            "0c0bb8f1699348179c779dd12da82dfb",
            "1e4ead8e329c475ba6ae465047399628",
            "250a2059905c4e50aaf473cc3a2a8b51"
          ]
        },
        "id": "TqXFVK0BD_Xd",
        "outputId": "fb7a88e9-4411-4d04-aa52-f0ce9bd85e04"
      },
      "source": [
        "clf1=setup(data=pd.concat([train_features,train_y1], axis=1), target='h1n1_vaccine', train_size=0.8,  session_id=20, fold=5,verbose=False)"
      ],
      "execution_count": null,
      "outputs": [
        {
          "output_type": "display_data",
          "data": {
            "application/vnd.jupyter.widget-view+json": {
              "model_id": "0c0bb8f1699348179c779dd12da82dfb",
              "version_minor": 0,
              "version_major": 2
            },
            "text/plain": [
              "Text(value=\"Following data types have been inferred automatically, if they are correct press enter to continue…"
            ]
          },
          "metadata": {}
        },
        {
          "output_type": "display_data",
          "data": {
            "text/html": [
              "<div>\n",
              "<style scoped>\n",
              "    .dataframe tbody tr th:only-of-type {\n",
              "        vertical-align: middle;\n",
              "    }\n",
              "\n",
              "    .dataframe tbody tr th {\n",
              "        vertical-align: top;\n",
              "    }\n",
              "\n",
              "    .dataframe thead th {\n",
              "        text-align: right;\n",
              "    }\n",
              "</style>\n",
              "<table border=\"1\" class=\"dataframe\">\n",
              "  <thead>\n",
              "    <tr style=\"text-align: right;\">\n",
              "      <th></th>\n",
              "      <th>Data Type</th>\n",
              "    </tr>\n",
              "  </thead>\n",
              "  <tbody>\n",
              "    <tr>\n",
              "      <th>h1n1_concern</th>\n",
              "      <td>Categorical</td>\n",
              "    </tr>\n",
              "    <tr>\n",
              "      <th>h1n1_knowledge</th>\n",
              "      <td>Categorical</td>\n",
              "    </tr>\n",
              "    <tr>\n",
              "      <th>behavioral_antiviral_meds</th>\n",
              "      <td>Categorical</td>\n",
              "    </tr>\n",
              "    <tr>\n",
              "      <th>behavioral_avoidance</th>\n",
              "      <td>Categorical</td>\n",
              "    </tr>\n",
              "    <tr>\n",
              "      <th>behavioral_face_mask</th>\n",
              "      <td>Categorical</td>\n",
              "    </tr>\n",
              "    <tr>\n",
              "      <th>behavioral_wash_hands</th>\n",
              "      <td>Categorical</td>\n",
              "    </tr>\n",
              "    <tr>\n",
              "      <th>behavioral_large_gatherings</th>\n",
              "      <td>Categorical</td>\n",
              "    </tr>\n",
              "    <tr>\n",
              "      <th>behavioral_outside_home</th>\n",
              "      <td>Categorical</td>\n",
              "    </tr>\n",
              "    <tr>\n",
              "      <th>behavioral_touch_face</th>\n",
              "      <td>Categorical</td>\n",
              "    </tr>\n",
              "    <tr>\n",
              "      <th>doctor_recc_h1n1</th>\n",
              "      <td>Categorical</td>\n",
              "    </tr>\n",
              "    <tr>\n",
              "      <th>doctor_recc_seasonal</th>\n",
              "      <td>Categorical</td>\n",
              "    </tr>\n",
              "    <tr>\n",
              "      <th>chronic_med_condition</th>\n",
              "      <td>Categorical</td>\n",
              "    </tr>\n",
              "    <tr>\n",
              "      <th>child_under_6_months</th>\n",
              "      <td>Categorical</td>\n",
              "    </tr>\n",
              "    <tr>\n",
              "      <th>health_worker</th>\n",
              "      <td>Categorical</td>\n",
              "    </tr>\n",
              "    <tr>\n",
              "      <th>health_insurance</th>\n",
              "      <td>Categorical</td>\n",
              "    </tr>\n",
              "    <tr>\n",
              "      <th>opinion_h1n1_vacc_effective</th>\n",
              "      <td>Categorical</td>\n",
              "    </tr>\n",
              "    <tr>\n",
              "      <th>opinion_h1n1_risk</th>\n",
              "      <td>Categorical</td>\n",
              "    </tr>\n",
              "    <tr>\n",
              "      <th>opinion_h1n1_sick_from_vacc</th>\n",
              "      <td>Categorical</td>\n",
              "    </tr>\n",
              "    <tr>\n",
              "      <th>opinion_seas_vacc_effective</th>\n",
              "      <td>Categorical</td>\n",
              "    </tr>\n",
              "    <tr>\n",
              "      <th>opinion_seas_risk</th>\n",
              "      <td>Categorical</td>\n",
              "    </tr>\n",
              "    <tr>\n",
              "      <th>opinion_seas_sick_from_vacc</th>\n",
              "      <td>Categorical</td>\n",
              "    </tr>\n",
              "    <tr>\n",
              "      <th>age_group</th>\n",
              "      <td>Categorical</td>\n",
              "    </tr>\n",
              "    <tr>\n",
              "      <th>education</th>\n",
              "      <td>Categorical</td>\n",
              "    </tr>\n",
              "    <tr>\n",
              "      <th>race</th>\n",
              "      <td>Categorical</td>\n",
              "    </tr>\n",
              "    <tr>\n",
              "      <th>sex</th>\n",
              "      <td>Categorical</td>\n",
              "    </tr>\n",
              "    <tr>\n",
              "      <th>income_poverty</th>\n",
              "      <td>Categorical</td>\n",
              "    </tr>\n",
              "    <tr>\n",
              "      <th>marital_status</th>\n",
              "      <td>Categorical</td>\n",
              "    </tr>\n",
              "    <tr>\n",
              "      <th>rent_or_own</th>\n",
              "      <td>Categorical</td>\n",
              "    </tr>\n",
              "    <tr>\n",
              "      <th>employment_status</th>\n",
              "      <td>Categorical</td>\n",
              "    </tr>\n",
              "    <tr>\n",
              "      <th>hhs_geo_region</th>\n",
              "      <td>Categorical</td>\n",
              "    </tr>\n",
              "    <tr>\n",
              "      <th>census_msa</th>\n",
              "      <td>Categorical</td>\n",
              "    </tr>\n",
              "    <tr>\n",
              "      <th>household_adults</th>\n",
              "      <td>Categorical</td>\n",
              "    </tr>\n",
              "    <tr>\n",
              "      <th>household_children</th>\n",
              "      <td>Categorical</td>\n",
              "    </tr>\n",
              "    <tr>\n",
              "      <th>employment_industry</th>\n",
              "      <td>Numeric</td>\n",
              "    </tr>\n",
              "    <tr>\n",
              "      <th>employment_occupation</th>\n",
              "      <td>Numeric</td>\n",
              "    </tr>\n",
              "    <tr>\n",
              "      <th>behaviorals</th>\n",
              "      <td>Categorical</td>\n",
              "    </tr>\n",
              "    <tr>\n",
              "      <th>opinion_h1n1</th>\n",
              "      <td>Categorical</td>\n",
              "    </tr>\n",
              "    <tr>\n",
              "      <th>opinion_seasonal</th>\n",
              "      <td>Categorical</td>\n",
              "    </tr>\n",
              "    <tr>\n",
              "      <th>h1n1_vaccine</th>\n",
              "      <td>Label</td>\n",
              "    </tr>\n",
              "  </tbody>\n",
              "</table>\n",
              "</div>"
            ],
            "text/plain": [
              "                               Data Type\n",
              "h1n1_concern                 Categorical\n",
              "h1n1_knowledge               Categorical\n",
              "behavioral_antiviral_meds    Categorical\n",
              "behavioral_avoidance         Categorical\n",
              "behavioral_face_mask         Categorical\n",
              "behavioral_wash_hands        Categorical\n",
              "behavioral_large_gatherings  Categorical\n",
              "behavioral_outside_home      Categorical\n",
              "behavioral_touch_face        Categorical\n",
              "doctor_recc_h1n1             Categorical\n",
              "doctor_recc_seasonal         Categorical\n",
              "chronic_med_condition        Categorical\n",
              "child_under_6_months         Categorical\n",
              "health_worker                Categorical\n",
              "health_insurance             Categorical\n",
              "opinion_h1n1_vacc_effective  Categorical\n",
              "opinion_h1n1_risk            Categorical\n",
              "opinion_h1n1_sick_from_vacc  Categorical\n",
              "opinion_seas_vacc_effective  Categorical\n",
              "opinion_seas_risk            Categorical\n",
              "opinion_seas_sick_from_vacc  Categorical\n",
              "age_group                    Categorical\n",
              "education                    Categorical\n",
              "race                         Categorical\n",
              "sex                          Categorical\n",
              "income_poverty               Categorical\n",
              "marital_status               Categorical\n",
              "rent_or_own                  Categorical\n",
              "employment_status            Categorical\n",
              "hhs_geo_region               Categorical\n",
              "census_msa                   Categorical\n",
              "household_adults             Categorical\n",
              "household_children           Categorical\n",
              "employment_industry              Numeric\n",
              "employment_occupation            Numeric\n",
              "behaviorals                  Categorical\n",
              "opinion_h1n1                 Categorical\n",
              "opinion_seasonal             Categorical\n",
              "h1n1_vaccine                       Label"
            ]
          },
          "metadata": {}
        },
        {
          "name": "stdout",
          "output_type": "stream",
          "text": [
            "\n"
          ]
        }
      ]
    },
    {
      "cell_type": "code",
      "metadata": {
        "colab": {
          "base_uri": "https://localhost:8080/",
          "height": 143,
          "referenced_widgets": [
            "37ab7fd0d2ca46569792ef8a4a0999fe",
            "0bd2af8e5a61462d8d96f5b4f1af061d",
            "83bdc8bff630489b89dfb0720764c3a4"
          ]
        },
        "id": "sNGyQz3JFSiM",
        "outputId": "8af00af2-c0e1-4e74-c96a-1f1cf0057828"
      },
      "source": [
        "best1 = compare_models(sort = 'AUC', exclude=['ridge','qda','gpc','svm','rbfsvm','lr','ada','lda','xgboost','rf','et','knn','dt','nb','dummy'], n_select=3)"
      ],
      "execution_count": null,
      "outputs": [
        {
          "output_type": "display_data",
          "data": {
            "text/html": [
              "<div>\n",
              "<style scoped>\n",
              "    .dataframe tbody tr th:only-of-type {\n",
              "        vertical-align: middle;\n",
              "    }\n",
              "\n",
              "    .dataframe tbody tr th {\n",
              "        vertical-align: top;\n",
              "    }\n",
              "\n",
              "    .dataframe thead th {\n",
              "        text-align: right;\n",
              "    }\n",
              "</style>\n",
              "<table border=\"1\" class=\"dataframe\">\n",
              "  <thead>\n",
              "    <tr style=\"text-align: right;\">\n",
              "      <th></th>\n",
              "      <th>Model</th>\n",
              "      <th>Accuracy</th>\n",
              "      <th>AUC</th>\n",
              "      <th>Recall</th>\n",
              "      <th>Prec.</th>\n",
              "      <th>F1</th>\n",
              "      <th>Kappa</th>\n",
              "      <th>MCC</th>\n",
              "      <th>TT (Sec)</th>\n",
              "    </tr>\n",
              "  </thead>\n",
              "  <tbody>\n",
              "    <tr>\n",
              "      <th>catboost</th>\n",
              "      <td>CatBoost Classifier</td>\n",
              "      <td>0.8527</td>\n",
              "      <td>0.8642</td>\n",
              "      <td>0.5026</td>\n",
              "      <td>0.7245</td>\n",
              "      <td>0.5934</td>\n",
              "      <td>0.5070</td>\n",
              "      <td>0.5197</td>\n",
              "      <td>10.772</td>\n",
              "    </tr>\n",
              "    <tr>\n",
              "      <th>lightgbm</th>\n",
              "      <td>Light Gradient Boosting Machine</td>\n",
              "      <td>0.8509</td>\n",
              "      <td>0.8629</td>\n",
              "      <td>0.5028</td>\n",
              "      <td>0.7148</td>\n",
              "      <td>0.5903</td>\n",
              "      <td>0.5025</td>\n",
              "      <td>0.5142</td>\n",
              "      <td>0.592</td>\n",
              "    </tr>\n",
              "    <tr>\n",
              "      <th>gbc</th>\n",
              "      <td>Gradient Boosting Classifier</td>\n",
              "      <td>0.8524</td>\n",
              "      <td>0.8626</td>\n",
              "      <td>0.4844</td>\n",
              "      <td>0.7345</td>\n",
              "      <td>0.5837</td>\n",
              "      <td>0.4986</td>\n",
              "      <td>0.5146</td>\n",
              "      <td>6.868</td>\n",
              "    </tr>\n",
              "  </tbody>\n",
              "</table>\n",
              "</div>"
            ],
            "text/plain": [
              "                                    Model  Accuracy     AUC  Recall   Prec.  \\\n",
              "catboost              CatBoost Classifier    0.8527  0.8642  0.5026  0.7245   \n",
              "lightgbm  Light Gradient Boosting Machine    0.8509  0.8629  0.5028  0.7148   \n",
              "gbc          Gradient Boosting Classifier    0.8524  0.8626  0.4844  0.7345   \n",
              "\n",
              "              F1   Kappa     MCC  TT (Sec)  \n",
              "catboost  0.5934  0.5070  0.5197    10.772  \n",
              "lightgbm  0.5903  0.5025  0.5142     0.592  \n",
              "gbc       0.5837  0.4986  0.5146     6.868  "
            ]
          },
          "metadata": {}
        }
      ]
    },
    {
      "cell_type": "markdown",
      "metadata": {
        "id": "IVEOabHjE-d1"
      },
      "source": [
        "#### 1. hyperparameter tuning"
      ]
    },
    {
      "cell_type": "code",
      "source": [
        "params_cat = {'depth': 1, 'l2_leaf_reg': 3, 'border_count': 254, 'verbose': False,\n",
        "              'random_strength': 0.1, 'task_type': 'CPU', 'n_estimators': 170, 'random_state': 20, 'eta': 0.15\n",
        "              }"
      ],
      "metadata": {
        "id": "gIwtNYJ8SIKB"
      },
      "execution_count": null,
      "outputs": []
    },
    {
      "cell_type": "code",
      "source": [
        "from catboost import CatBoostClassifier\n"
      ],
      "metadata": {
        "id": "bTZ80Ez8Sp3k"
      },
      "execution_count": null,
      "outputs": []
    },
    {
      "cell_type": "code",
      "source": [
        "# cat_model = CatBoostClassifier(**params_cat)"
      ],
      "metadata": {
        "id": "gqpNLtopRyNw"
      },
      "execution_count": null,
      "outputs": []
    },
    {
      "cell_type": "code",
      "metadata": {
        "colab": {
          "base_uri": "https://localhost:8080/",
          "height": 516,
          "referenced_widgets": [
            "e4dafc5c31d8438a9d24de07782461d1",
            "46e52d482c9f4b0ba45a0429bf3e81a3",
            "a68389b597e046abb641b45b434f98d5"
          ]
        },
        "id": "EVYMbYvgeQOZ",
        "outputId": "7c780082-4d78-4c5f-fecf-1eaecb9dbde5"
      },
      "source": [
        "tuned_cat1=tune_model(best1[0], custom_grid={'depth': 1, 'l2_leaf_reg': 3, 'border_count': 254, 'verbose': False,\n",
        "                                             'random_strength': 0.1, 'task_type': 'CPU', 'n_estimators': 170, 'random_state': 20, 'eta': 0.15} )"
      ],
      "execution_count": null,
      "outputs": [
        {
          "output_type": "display_data",
          "data": {
            "application/vnd.jupyter.widget-view+json": {
              "model_id": "e4dafc5c31d8438a9d24de07782461d1",
              "version_minor": 0,
              "version_major": 2
            },
            "text/plain": [
              "IntProgress(value=0, description='Processing: ', max=7)"
            ]
          },
          "metadata": {}
        },
        {
          "output_type": "display_data",
          "data": {
            "text/html": [
              "<div>\n",
              "<style scoped>\n",
              "    .dataframe tbody tr th:only-of-type {\n",
              "        vertical-align: middle;\n",
              "    }\n",
              "\n",
              "    .dataframe tbody tr th {\n",
              "        vertical-align: top;\n",
              "    }\n",
              "\n",
              "    .dataframe thead th {\n",
              "        text-align: right;\n",
              "    }\n",
              "</style>\n",
              "<table border=\"1\" class=\"dataframe\">\n",
              "  <thead>\n",
              "    <tr style=\"text-align: right;\">\n",
              "      <th></th>\n",
              "      <th></th>\n",
              "      <th></th>\n",
              "    </tr>\n",
              "    <tr>\n",
              "      <th></th>\n",
              "      <th></th>\n",
              "      <th></th>\n",
              "    </tr>\n",
              "  </thead>\n",
              "  <tbody>\n",
              "    <tr>\n",
              "      <th>Initiated</th>\n",
              "      <td>. . . . . . . . . . . . . . . . . .</td>\n",
              "      <td>12:00:13</td>\n",
              "    </tr>\n",
              "    <tr>\n",
              "      <th>Status</th>\n",
              "      <td>. . . . . . . . . . . . . . . . . .</td>\n",
              "      <td>Searching Hyperparameters</td>\n",
              "    </tr>\n",
              "    <tr>\n",
              "      <th>Estimator</th>\n",
              "      <td>. . . . . . . . . . . . . . . . . .</td>\n",
              "      <td>CatBoost Classifier</td>\n",
              "    </tr>\n",
              "  </tbody>\n",
              "</table>\n",
              "</div>"
            ],
            "text/plain": [
              "                                                                         \n",
              "                                                                         \n",
              "Initiated  . . . . . . . . . . . . . . . . . .                   12:00:13\n",
              "Status     . . . . . . . . . . . . . . . . . .  Searching Hyperparameters\n",
              "Estimator  . . . . . . . . . . . . . . . . . .        CatBoost Classifier"
            ]
          },
          "metadata": {}
        },
        {
          "output_type": "display_data",
          "data": {
            "text/html": [
              "<div>\n",
              "<style scoped>\n",
              "    .dataframe tbody tr th:only-of-type {\n",
              "        vertical-align: middle;\n",
              "    }\n",
              "\n",
              "    .dataframe tbody tr th {\n",
              "        vertical-align: top;\n",
              "    }\n",
              "\n",
              "    .dataframe thead th {\n",
              "        text-align: right;\n",
              "    }\n",
              "</style>\n",
              "<table border=\"1\" class=\"dataframe\">\n",
              "  <thead>\n",
              "    <tr style=\"text-align: right;\">\n",
              "      <th></th>\n",
              "      <th>Accuracy</th>\n",
              "      <th>AUC</th>\n",
              "      <th>Recall</th>\n",
              "      <th>Prec.</th>\n",
              "      <th>F1</th>\n",
              "      <th>Kappa</th>\n",
              "      <th>MCC</th>\n",
              "    </tr>\n",
              "  </thead>\n",
              "  <tbody>\n",
              "  </tbody>\n",
              "</table>\n",
              "</div>"
            ],
            "text/plain": [
              "Empty DataFrame\n",
              "Columns: [Accuracy, AUC, Recall, Prec., F1, Kappa, MCC]\n",
              "Index: []"
            ]
          },
          "metadata": {}
        },
        {
          "output_type": "error",
          "ename": "TypeError",
          "evalue": "ignored",
          "traceback": [
            "\u001b[0;31m---------------------------------------------------------------------------\u001b[0m",
            "\u001b[0;31mTypeError\u001b[0m                                 Traceback (most recent call last)",
            "\u001b[0;32m/tmp/ipykernel_667/2881969534.py\u001b[0m in \u001b[0;36m<module>\u001b[0;34m\u001b[0m\n\u001b[1;32m      1\u001b[0m tuned_cat1=tune_model(best1[0], custom_grid={'depth': 1, 'l2_leaf_reg': 3, 'border_count': 254, 'verbose': False, \n\u001b[0;32m----> 2\u001b[0;31m                                              'random_strength': 0.1, 'task_type': 'CPU', 'n_estimators': 170, 'random_state': 20, 'eta': 0.15} )\n\u001b[0m",
            "\u001b[0;32m/usr/local/lib/python3.7/dist-packages/pycaret/classification.py\u001b[0m in \u001b[0;36mtune_model\u001b[0;34m(estimator, fold, round, n_iter, custom_grid, optimize, custom_scorer, search_library, search_algorithm, early_stopping, early_stopping_max_iters, choose_better, fit_kwargs, groups, return_tuner, verbose, tuner_verbose, **kwargs)\u001b[0m\n\u001b[1;32m   1117\u001b[0m         \u001b[0mverbose\u001b[0m\u001b[0;34m=\u001b[0m\u001b[0mverbose\u001b[0m\u001b[0;34m,\u001b[0m\u001b[0;34m\u001b[0m\u001b[0;34m\u001b[0m\u001b[0m\n\u001b[1;32m   1118\u001b[0m         \u001b[0mtuner_verbose\u001b[0m\u001b[0;34m=\u001b[0m\u001b[0mtuner_verbose\u001b[0m\u001b[0;34m,\u001b[0m\u001b[0;34m\u001b[0m\u001b[0;34m\u001b[0m\u001b[0m\n\u001b[0;32m-> 1119\u001b[0;31m         \u001b[0;34m**\u001b[0m\u001b[0mkwargs\u001b[0m\u001b[0;34m,\u001b[0m\u001b[0;34m\u001b[0m\u001b[0;34m\u001b[0m\u001b[0m\n\u001b[0m\u001b[1;32m   1120\u001b[0m     )\n\u001b[1;32m   1121\u001b[0m \u001b[0;34m\u001b[0m\u001b[0m\n",
            "\u001b[0;32m/usr/local/lib/python3.7/dist-packages/pycaret/internal/tabular.py\u001b[0m in \u001b[0;36mtune_model_supervised\u001b[0;34m(estimator, fold, round, n_iter, custom_grid, optimize, custom_scorer, search_library, search_algorithm, early_stopping, early_stopping_max_iters, choose_better, fit_kwargs, groups, return_tuner, verbose, tuner_verbose, display, **kwargs)\u001b[0m\n\u001b[1;32m   4554\u001b[0m                 \u001b[0mpycaret\u001b[0m\u001b[0;34m.\u001b[0m\u001b[0minternal\u001b[0m\u001b[0;34m.\u001b[0m\u001b[0mpatches\u001b[0m\u001b[0;34m.\u001b[0m\u001b[0msklearn\u001b[0m\u001b[0;34m.\u001b[0m\u001b[0m_mp_ParameterGrid_getitem\u001b[0m\u001b[0;34m,\u001b[0m\u001b[0;34m\u001b[0m\u001b[0;34m\u001b[0m\u001b[0m\n\u001b[1;32m   4555\u001b[0m             ):\n\u001b[0;32m-> 4556\u001b[0;31m                 \u001b[0mmodel_grid\u001b[0m\u001b[0;34m.\u001b[0m\u001b[0mfit\u001b[0m\u001b[0;34m(\u001b[0m\u001b[0mX_train\u001b[0m\u001b[0;34m,\u001b[0m \u001b[0my_train\u001b[0m\u001b[0;34m,\u001b[0m \u001b[0mgroups\u001b[0m\u001b[0;34m=\u001b[0m\u001b[0mgroups\u001b[0m\u001b[0;34m,\u001b[0m \u001b[0;34m**\u001b[0m\u001b[0mfit_kwargs\u001b[0m\u001b[0;34m)\u001b[0m\u001b[0;34m\u001b[0m\u001b[0;34m\u001b[0m\u001b[0m\n\u001b[0m\u001b[1;32m   4557\u001b[0m         \u001b[0;32melse\u001b[0m\u001b[0;34m:\u001b[0m\u001b[0;34m\u001b[0m\u001b[0;34m\u001b[0m\u001b[0m\n\u001b[1;32m   4558\u001b[0m             \u001b[0mmodel_grid\u001b[0m\u001b[0;34m.\u001b[0m\u001b[0mfit\u001b[0m\u001b[0;34m(\u001b[0m\u001b[0mX_train\u001b[0m\u001b[0;34m,\u001b[0m \u001b[0my_train\u001b[0m\u001b[0;34m,\u001b[0m \u001b[0mgroups\u001b[0m\u001b[0;34m=\u001b[0m\u001b[0mgroups\u001b[0m\u001b[0;34m,\u001b[0m \u001b[0;34m**\u001b[0m\u001b[0mfit_kwargs\u001b[0m\u001b[0;34m)\u001b[0m\u001b[0;34m\u001b[0m\u001b[0;34m\u001b[0m\u001b[0m\n",
            "\u001b[0;32m/usr/local/lib/python3.7/dist-packages/sklearn/utils/validation.py\u001b[0m in \u001b[0;36minner_f\u001b[0;34m(*args, **kwargs)\u001b[0m\n\u001b[1;32m     70\u001b[0m                           FutureWarning)\n\u001b[1;32m     71\u001b[0m         \u001b[0mkwargs\u001b[0m\u001b[0;34m.\u001b[0m\u001b[0mupdate\u001b[0m\u001b[0;34m(\u001b[0m\u001b[0;34m{\u001b[0m\u001b[0mk\u001b[0m\u001b[0;34m:\u001b[0m \u001b[0marg\u001b[0m \u001b[0;32mfor\u001b[0m \u001b[0mk\u001b[0m\u001b[0;34m,\u001b[0m \u001b[0marg\u001b[0m \u001b[0;32min\u001b[0m \u001b[0mzip\u001b[0m\u001b[0;34m(\u001b[0m\u001b[0msig\u001b[0m\u001b[0;34m.\u001b[0m\u001b[0mparameters\u001b[0m\u001b[0;34m,\u001b[0m \u001b[0margs\u001b[0m\u001b[0;34m)\u001b[0m\u001b[0;34m}\u001b[0m\u001b[0;34m)\u001b[0m\u001b[0;34m\u001b[0m\u001b[0;34m\u001b[0m\u001b[0m\n\u001b[0;32m---> 72\u001b[0;31m         \u001b[0;32mreturn\u001b[0m \u001b[0mf\u001b[0m\u001b[0;34m(\u001b[0m\u001b[0;34m**\u001b[0m\u001b[0mkwargs\u001b[0m\u001b[0;34m)\u001b[0m\u001b[0;34m\u001b[0m\u001b[0;34m\u001b[0m\u001b[0m\n\u001b[0m\u001b[1;32m     73\u001b[0m     \u001b[0;32mreturn\u001b[0m \u001b[0minner_f\u001b[0m\u001b[0;34m\u001b[0m\u001b[0;34m\u001b[0m\u001b[0m\n\u001b[1;32m     74\u001b[0m \u001b[0;34m\u001b[0m\u001b[0m\n",
            "\u001b[0;32m/usr/local/lib/python3.7/dist-packages/sklearn/model_selection/_search.py\u001b[0m in \u001b[0;36mfit\u001b[0;34m(self, X, y, groups, **fit_params)\u001b[0m\n\u001b[1;32m    734\u001b[0m                 \u001b[0;32mreturn\u001b[0m \u001b[0mresults\u001b[0m\u001b[0;34m\u001b[0m\u001b[0;34m\u001b[0m\u001b[0m\n\u001b[1;32m    735\u001b[0m \u001b[0;34m\u001b[0m\u001b[0m\n\u001b[0;32m--> 736\u001b[0;31m             \u001b[0mself\u001b[0m\u001b[0;34m.\u001b[0m\u001b[0m_run_search\u001b[0m\u001b[0;34m(\u001b[0m\u001b[0mevaluate_candidates\u001b[0m\u001b[0;34m)\u001b[0m\u001b[0;34m\u001b[0m\u001b[0;34m\u001b[0m\u001b[0m\n\u001b[0m\u001b[1;32m    737\u001b[0m \u001b[0;34m\u001b[0m\u001b[0m\n\u001b[1;32m    738\u001b[0m         \u001b[0;31m# For multi-metric evaluation, store the best_index_, best_params_ and\u001b[0m\u001b[0;34m\u001b[0m\u001b[0;34m\u001b[0m\u001b[0;34m\u001b[0m\u001b[0m\n",
            "\u001b[0;32m/usr/local/lib/python3.7/dist-packages/sklearn/model_selection/_search.py\u001b[0m in \u001b[0;36m_run_search\u001b[0;34m(self, evaluate_candidates)\u001b[0m\n\u001b[1;32m   1529\u001b[0m         evaluate_candidates(ParameterSampler(\n\u001b[1;32m   1530\u001b[0m             \u001b[0mself\u001b[0m\u001b[0;34m.\u001b[0m\u001b[0mparam_distributions\u001b[0m\u001b[0;34m,\u001b[0m \u001b[0mself\u001b[0m\u001b[0;34m.\u001b[0m\u001b[0mn_iter\u001b[0m\u001b[0;34m,\u001b[0m\u001b[0;34m\u001b[0m\u001b[0;34m\u001b[0m\u001b[0m\n\u001b[0;32m-> 1531\u001b[0;31m             random_state=self.random_state))\n\u001b[0m",
            "\u001b[0;32m/usr/local/lib/python3.7/dist-packages/sklearn/utils/validation.py\u001b[0m in \u001b[0;36minner_f\u001b[0;34m(*args, **kwargs)\u001b[0m\n\u001b[1;32m     70\u001b[0m                           FutureWarning)\n\u001b[1;32m     71\u001b[0m         \u001b[0mkwargs\u001b[0m\u001b[0;34m.\u001b[0m\u001b[0mupdate\u001b[0m\u001b[0;34m(\u001b[0m\u001b[0;34m{\u001b[0m\u001b[0mk\u001b[0m\u001b[0;34m:\u001b[0m \u001b[0marg\u001b[0m \u001b[0;32mfor\u001b[0m \u001b[0mk\u001b[0m\u001b[0;34m,\u001b[0m \u001b[0marg\u001b[0m \u001b[0;32min\u001b[0m \u001b[0mzip\u001b[0m\u001b[0;34m(\u001b[0m\u001b[0msig\u001b[0m\u001b[0;34m.\u001b[0m\u001b[0mparameters\u001b[0m\u001b[0;34m,\u001b[0m \u001b[0margs\u001b[0m\u001b[0;34m)\u001b[0m\u001b[0;34m}\u001b[0m\u001b[0;34m)\u001b[0m\u001b[0;34m\u001b[0m\u001b[0;34m\u001b[0m\u001b[0m\n\u001b[0;32m---> 72\u001b[0;31m         \u001b[0;32mreturn\u001b[0m \u001b[0mf\u001b[0m\u001b[0;34m(\u001b[0m\u001b[0;34m**\u001b[0m\u001b[0mkwargs\u001b[0m\u001b[0;34m)\u001b[0m\u001b[0;34m\u001b[0m\u001b[0;34m\u001b[0m\u001b[0m\n\u001b[0m\u001b[1;32m     73\u001b[0m     \u001b[0;32mreturn\u001b[0m \u001b[0minner_f\u001b[0m\u001b[0;34m\u001b[0m\u001b[0;34m\u001b[0m\u001b[0m\n\u001b[1;32m     74\u001b[0m \u001b[0;34m\u001b[0m\u001b[0m\n",
            "\u001b[0;32m/usr/local/lib/python3.7/dist-packages/sklearn/model_selection/_search.py\u001b[0m in \u001b[0;36m__init__\u001b[0;34m(self, param_distributions, n_iter, random_state)\u001b[0m\n\u001b[1;32m    256\u001b[0m                     raise TypeError('Parameter value is not iterable '\n\u001b[1;32m    257\u001b[0m                                     \u001b[0;34m'or distribution (key={!r}, value={!r})'\u001b[0m\u001b[0;34m\u001b[0m\u001b[0;34m\u001b[0m\u001b[0m\n\u001b[0;32m--> 258\u001b[0;31m                                     .format(key, dist[key]))\n\u001b[0m\u001b[1;32m    259\u001b[0m         \u001b[0mself\u001b[0m\u001b[0;34m.\u001b[0m\u001b[0mn_iter\u001b[0m \u001b[0;34m=\u001b[0m \u001b[0mn_iter\u001b[0m\u001b[0;34m\u001b[0m\u001b[0;34m\u001b[0m\u001b[0m\n\u001b[1;32m    260\u001b[0m         \u001b[0mself\u001b[0m\u001b[0;34m.\u001b[0m\u001b[0mrandom_state\u001b[0m \u001b[0;34m=\u001b[0m \u001b[0mrandom_state\u001b[0m\u001b[0;34m\u001b[0m\u001b[0;34m\u001b[0m\u001b[0m\n",
            "\u001b[0;31mTypeError\u001b[0m: Parameter value is not iterable or distribution (key='actual_estimator__depth', value=1)"
          ]
        }
      ]
    },
    {
      "cell_type": "code",
      "metadata": {
        "colab": {
          "base_uri": "https://localhost:8080/",
          "height": 269,
          "referenced_widgets": [
            "ff7e271ba91b4636b03e549be42b4d0f",
            "d09692647e884431bef879c5d339c82b",
            "2584ec06282942aebb6feffd4b65a6ad"
          ]
        },
        "id": "5EfxN8zpfwYg",
        "outputId": "7de53be7-e77f-431f-e57c-cd11360fdb3d"
      },
      "source": [
        "tuned_lgbm1=tune_model(best1[1], optimize='AUC',n_iter=5)"
      ],
      "execution_count": null,
      "outputs": [
        {
          "output_type": "display_data",
          "data": {
            "text/html": [
              "<div>\n",
              "<style scoped>\n",
              "    .dataframe tbody tr th:only-of-type {\n",
              "        vertical-align: middle;\n",
              "    }\n",
              "\n",
              "    .dataframe tbody tr th {\n",
              "        vertical-align: top;\n",
              "    }\n",
              "\n",
              "    .dataframe thead th {\n",
              "        text-align: right;\n",
              "    }\n",
              "</style>\n",
              "<table border=\"1\" class=\"dataframe\">\n",
              "  <thead>\n",
              "    <tr style=\"text-align: right;\">\n",
              "      <th></th>\n",
              "      <th>Accuracy</th>\n",
              "      <th>AUC</th>\n",
              "      <th>Recall</th>\n",
              "      <th>Prec.</th>\n",
              "      <th>F1</th>\n",
              "      <th>Kappa</th>\n",
              "      <th>MCC</th>\n",
              "    </tr>\n",
              "  </thead>\n",
              "  <tbody>\n",
              "    <tr>\n",
              "      <th>0</th>\n",
              "      <td>0.8476</td>\n",
              "      <td>0.8629</td>\n",
              "      <td>0.4984</td>\n",
              "      <td>0.7022</td>\n",
              "      <td>0.5830</td>\n",
              "      <td>0.4930</td>\n",
              "      <td>0.5039</td>\n",
              "    </tr>\n",
              "    <tr>\n",
              "      <th>1</th>\n",
              "      <td>0.8467</td>\n",
              "      <td>0.8612</td>\n",
              "      <td>0.5049</td>\n",
              "      <td>0.6943</td>\n",
              "      <td>0.5847</td>\n",
              "      <td>0.4935</td>\n",
              "      <td>0.5029</td>\n",
              "    </tr>\n",
              "    <tr>\n",
              "      <th>2</th>\n",
              "      <td>0.8605</td>\n",
              "      <td>0.8765</td>\n",
              "      <td>0.5449</td>\n",
              "      <td>0.7345</td>\n",
              "      <td>0.6256</td>\n",
              "      <td>0.5422</td>\n",
              "      <td>0.5514</td>\n",
              "    </tr>\n",
              "    <tr>\n",
              "      <th>3</th>\n",
              "      <td>0.8565</td>\n",
              "      <td>0.8662</td>\n",
              "      <td>0.5241</td>\n",
              "      <td>0.7291</td>\n",
              "      <td>0.6098</td>\n",
              "      <td>0.5248</td>\n",
              "      <td>0.5355</td>\n",
              "    </tr>\n",
              "    <tr>\n",
              "      <th>4</th>\n",
              "      <td>0.8498</td>\n",
              "      <td>0.8539</td>\n",
              "      <td>0.4945</td>\n",
              "      <td>0.7152</td>\n",
              "      <td>0.5847</td>\n",
              "      <td>0.4967</td>\n",
              "      <td>0.5093</td>\n",
              "    </tr>\n",
              "    <tr>\n",
              "      <th>Mean</th>\n",
              "      <td>0.8522</td>\n",
              "      <td>0.8641</td>\n",
              "      <td>0.5133</td>\n",
              "      <td>0.7150</td>\n",
              "      <td>0.5976</td>\n",
              "      <td>0.5101</td>\n",
              "      <td>0.5206</td>\n",
              "    </tr>\n",
              "    <tr>\n",
              "      <th>SD</th>\n",
              "      <td>0.0054</td>\n",
              "      <td>0.0074</td>\n",
              "      <td>0.0187</td>\n",
              "      <td>0.0153</td>\n",
              "      <td>0.0172</td>\n",
              "      <td>0.0200</td>\n",
              "      <td>0.0194</td>\n",
              "    </tr>\n",
              "  </tbody>\n",
              "</table>\n",
              "</div>"
            ],
            "text/plain": [
              "      Accuracy     AUC  Recall   Prec.      F1   Kappa     MCC\n",
              "0       0.8476  0.8629  0.4984  0.7022  0.5830  0.4930  0.5039\n",
              "1       0.8467  0.8612  0.5049  0.6943  0.5847  0.4935  0.5029\n",
              "2       0.8605  0.8765  0.5449  0.7345  0.6256  0.5422  0.5514\n",
              "3       0.8565  0.8662  0.5241  0.7291  0.6098  0.5248  0.5355\n",
              "4       0.8498  0.8539  0.4945  0.7152  0.5847  0.4967  0.5093\n",
              "Mean    0.8522  0.8641  0.5133  0.7150  0.5976  0.5101  0.5206\n",
              "SD      0.0054  0.0074  0.0187  0.0153  0.0172  0.0200  0.0194"
            ]
          },
          "metadata": {}
        }
      ]
    },
    {
      "cell_type": "code",
      "metadata": {
        "colab": {
          "base_uri": "https://localhost:8080/",
          "height": 269,
          "referenced_widgets": [
            "fd3f8b47e908472fa4ce9a18e1c8b404",
            "1f29e022e62843df93eb54b43f855e3e",
            "333a1cc43e3848e1b8ab399512d5ede5"
          ]
        },
        "id": "juBIZ_1ef21X",
        "outputId": "38e64e93-1d1b-481c-f25d-e3bd4299320d"
      },
      "source": [
        "tuned_gbc1=tune_model(best1[2], optimize='AUC',n_iter=5)"
      ],
      "execution_count": null,
      "outputs": [
        {
          "output_type": "display_data",
          "data": {
            "text/html": [
              "<div>\n",
              "<style scoped>\n",
              "    .dataframe tbody tr th:only-of-type {\n",
              "        vertical-align: middle;\n",
              "    }\n",
              "\n",
              "    .dataframe tbody tr th {\n",
              "        vertical-align: top;\n",
              "    }\n",
              "\n",
              "    .dataframe thead th {\n",
              "        text-align: right;\n",
              "    }\n",
              "</style>\n",
              "<table border=\"1\" class=\"dataframe\">\n",
              "  <thead>\n",
              "    <tr style=\"text-align: right;\">\n",
              "      <th></th>\n",
              "      <th>Accuracy</th>\n",
              "      <th>AUC</th>\n",
              "      <th>Recall</th>\n",
              "      <th>Prec.</th>\n",
              "      <th>F1</th>\n",
              "      <th>Kappa</th>\n",
              "      <th>MCC</th>\n",
              "    </tr>\n",
              "  </thead>\n",
              "  <tbody>\n",
              "    <tr>\n",
              "      <th>0</th>\n",
              "      <td>0.8472</td>\n",
              "      <td>0.8466</td>\n",
              "      <td>0.4995</td>\n",
              "      <td>0.6994</td>\n",
              "      <td>0.5827</td>\n",
              "      <td>0.4924</td>\n",
              "      <td>0.5028</td>\n",
              "    </tr>\n",
              "    <tr>\n",
              "      <th>1</th>\n",
              "      <td>0.8385</td>\n",
              "      <td>0.8487</td>\n",
              "      <td>0.5027</td>\n",
              "      <td>0.6604</td>\n",
              "      <td>0.5709</td>\n",
              "      <td>0.4737</td>\n",
              "      <td>0.4804</td>\n",
              "    </tr>\n",
              "    <tr>\n",
              "      <th>2</th>\n",
              "      <td>0.8498</td>\n",
              "      <td>0.8689</td>\n",
              "      <td>0.5263</td>\n",
              "      <td>0.6971</td>\n",
              "      <td>0.5998</td>\n",
              "      <td>0.5095</td>\n",
              "      <td>0.5171</td>\n",
              "    </tr>\n",
              "    <tr>\n",
              "      <th>3</th>\n",
              "      <td>0.8514</td>\n",
              "      <td>0.8598</td>\n",
              "      <td>0.5241</td>\n",
              "      <td>0.7054</td>\n",
              "      <td>0.6014</td>\n",
              "      <td>0.5125</td>\n",
              "      <td>0.5210</td>\n",
              "    </tr>\n",
              "    <tr>\n",
              "      <th>4</th>\n",
              "      <td>0.8406</td>\n",
              "      <td>0.8438</td>\n",
              "      <td>0.5033</td>\n",
              "      <td>0.6696</td>\n",
              "      <td>0.5746</td>\n",
              "      <td>0.4790</td>\n",
              "      <td>0.4864</td>\n",
              "    </tr>\n",
              "    <tr>\n",
              "      <th>Mean</th>\n",
              "      <td>0.8455</td>\n",
              "      <td>0.8536</td>\n",
              "      <td>0.5112</td>\n",
              "      <td>0.6864</td>\n",
              "      <td>0.5859</td>\n",
              "      <td>0.4934</td>\n",
              "      <td>0.5015</td>\n",
              "    </tr>\n",
              "    <tr>\n",
              "      <th>SD</th>\n",
              "      <td>0.0051</td>\n",
              "      <td>0.0094</td>\n",
              "      <td>0.0115</td>\n",
              "      <td>0.0179</td>\n",
              "      <td>0.0126</td>\n",
              "      <td>0.0156</td>\n",
              "      <td>0.0161</td>\n",
              "    </tr>\n",
              "  </tbody>\n",
              "</table>\n",
              "</div>"
            ],
            "text/plain": [
              "      Accuracy     AUC  Recall   Prec.      F1   Kappa     MCC\n",
              "0       0.8472  0.8466  0.4995  0.6994  0.5827  0.4924  0.5028\n",
              "1       0.8385  0.8487  0.5027  0.6604  0.5709  0.4737  0.4804\n",
              "2       0.8498  0.8689  0.5263  0.6971  0.5998  0.5095  0.5171\n",
              "3       0.8514  0.8598  0.5241  0.7054  0.6014  0.5125  0.5210\n",
              "4       0.8406  0.8438  0.5033  0.6696  0.5746  0.4790  0.4864\n",
              "Mean    0.8455  0.8536  0.5112  0.6864  0.5859  0.4934  0.5015\n",
              "SD      0.0051  0.0094  0.0115  0.0179  0.0126  0.0156  0.0161"
            ]
          },
          "metadata": {}
        }
      ]
    },
    {
      "cell_type": "markdown",
      "metadata": {
        "id": "09EmwUURgCUs"
      },
      "source": [
        "#### 2. visualization models"
      ]
    },
    {
      "cell_type": "code",
      "metadata": {
        "colab": {
          "base_uri": "https://localhost:8080/",
          "height": 376,
          "referenced_widgets": [
            "c9563d7a3d6448ebbb3aac6c66e52f36"
          ]
        },
        "id": "IiEdpg3babKZ",
        "outputId": "136db042-631e-40cc-ca80-61f3f831edde"
      },
      "source": [
        "plot_model(tuned_cat1, plot = 'auc')"
      ],
      "execution_count": null,
      "outputs": [
        {
          "output_type": "display_data",
          "data": {
            "image/png": "[encoded data removed]",
            "text/plain": [
              "<Figure size 576x396 with 1 Axes>"
            ]
          },
          "metadata": {}
        }
      ]
    },
    {
      "cell_type": "code",
      "metadata": {
        "colab": {
          "base_uri": "https://localhost:8080/",
          "height": 478
        },
        "id": "yeKwCkanabRo",
        "outputId": "ac63fd07-67c4-4ebb-c5c1-6c1b2acfc48b"
      },
      "source": [
        "plot_model(tuned_cat1, plot = 'feature')"
      ],
      "execution_count": null,
      "outputs": [
        {
          "output_type": "display_data",
          "data": {
            "image/png": "[encoded data removed]",
            "text/plain": [
              "<Figure size 800x500 with 1 Axes>"
            ]
          },
          "metadata": {}
        }
      ]
    },
    {
      "cell_type": "code",
      "metadata": {
        "colab": {
          "base_uri": "https://localhost:8080/",
          "height": 376
        },
        "id": "RG1uYwWdabYQ",
        "outputId": "c2a6f0a7-56ee-49fb-c822-2344ac0a96a8"
      },
      "source": [
        "plot_model(tuned_lgbm1, plot = 'auc')"
      ],
      "execution_count": null,
      "outputs": [
        {
          "output_type": "display_data",
          "data": {
            "image/png": "[encoded data removed]",
            "text/plain": [
              "<Figure size 576x396 with 1 Axes>"
            ]
          },
          "metadata": {}
        }
      ]
    },
    {
      "cell_type": "code",
      "metadata": {
        "colab": {
          "base_uri": "https://localhost:8080/",
          "height": 478
        },
        "id": "9jHezdsFiSXm",
        "outputId": "d3dc9794-a494-40e9-da3e-cebae800ffec"
      },
      "source": [
        "plot_model(tuned_lgbm1, plot = 'feature')"
      ],
      "execution_count": null,
      "outputs": [
        {
          "output_type": "display_data",
          "data": {
            "image/png": "[encoded data removed]",
            "text/plain": [
              "<Figure size 800x500 with 1 Axes>"
            ]
          },
          "metadata": {}
        }
      ]
    },
    {
      "cell_type": "code",
      "metadata": {
        "colab": {
          "base_uri": "https://localhost:8080/",
          "height": 376
        },
        "id": "rEmB5SvniSbO",
        "outputId": "177954c1-0bc6-4bf2-886a-b68496621cc0"
      },
      "source": [
        "plot_model(tuned_gbc1, plot = 'auc')"
      ],
      "execution_count": null,
      "outputs": [
        {
          "output_type": "display_data",
          "data": {
            "image/png": "[encoded data removed]",
            "text/plain": [
              "<Figure size 576x396 with 1 Axes>"
            ]
          },
          "metadata": {}
        }
      ]
    },
    {
      "cell_type": "code",
      "metadata": {
        "colab": {
          "base_uri": "https://localhost:8080/",
          "height": 478
        },
        "id": "odHAt4sziSeJ",
        "outputId": "fa5bb1f4-55ff-4ade-ed5d-faceb9153036"
      },
      "source": [
        "plot_model(tuned_gbc1, plot = 'feature')"
      ],
      "execution_count": null,
      "outputs": [
        {
          "output_type": "display_data",
          "data": {
            "image/png": "[encoded data removed]",
            "text/plain": [
              "<Figure size 800x500 with 1 Axes>"
            ]
          },
          "metadata": {}
        }
      ]
    },
    {
      "cell_type": "markdown",
      "metadata": {
        "id": "9AVJDHotFPBN"
      },
      "source": [
        "#### 3. finalize model"
      ]
    },
    {
      "cell_type": "code",
      "metadata": {
        "id": "nw4ZZJklF4sD"
      },
      "source": [
        "sample=pd.read_csv(path+'submission_format.csv')"
      ],
      "execution_count": null,
      "outputs": []
    },
    {
      "cell_type": "code",
      "metadata": {
        "id": "-PVNZV2hiSo-"
      },
      "source": [
        "# final_model1=finalize_model(tuned_cat1)"
      ],
      "execution_count": null,
      "outputs": []
    },
    {
      "cell_type": "code",
      "metadata": {
        "id": "Xt5LU83qaInQ"
      },
      "source": [
        "# prediction1=predict_model(final_model1, data = test_features, raw_score=True)"
      ],
      "execution_count": null,
      "outputs": []
    },
    {
      "cell_type": "code",
      "metadata": {
        "id": "D-z0dHxUjCuv"
      },
      "source": [
        "# sample['h1n1_vaccine']=prediction1['Score_1']"
      ],
      "execution_count": null,
      "outputs": []
    },
    {
      "cell_type": "code",
      "source": [
        "#blend the model: cat 파라미터 재조정\n",
        "blender = blend_models(estimator_list= [cat_model, tuned_gbc1, tuned_lgbm1], optimize='AUC')\n",
        "final_model1=finalize_model(blender)\n",
        "prediction1=predict_model(final_model1, data = test_features, raw_score=True)\n",
        "sample['h1n1_vaccine']=prediction1['Score_1']"
      ],
      "metadata": {
        "colab": {
          "base_uri": "https://localhost:8080/",
          "height": 529,
          "referenced_widgets": [
            "9a07f37fb82a4571bbcd45b31f0767ba",
            "b8a39149fd5f4cc2bfcae2b1468bdd6b",
            "5d38132b800d465db8837bac596d8a39"
          ]
        },
        "id": "1aDrQqzHS0Z8",
        "outputId": "0e49293d-b182-4d15-997e-db4e232c4f9a"
      },
      "execution_count": null,
      "outputs": [
        {
          "output_type": "display_data",
          "data": {
            "text/html": [
              "<div>\n",
              "<style scoped>\n",
              "    .dataframe tbody tr th:only-of-type {\n",
              "        vertical-align: middle;\n",
              "    }\n",
              "\n",
              "    .dataframe tbody tr th {\n",
              "        vertical-align: top;\n",
              "    }\n",
              "\n",
              "    .dataframe thead th {\n",
              "        text-align: right;\n",
              "    }\n",
              "</style>\n",
              "<table border=\"1\" class=\"dataframe\">\n",
              "  <thead>\n",
              "    <tr style=\"text-align: right;\">\n",
              "      <th></th>\n",
              "      <th>Accuracy</th>\n",
              "      <th>AUC</th>\n",
              "      <th>Recall</th>\n",
              "      <th>Prec.</th>\n",
              "      <th>F1</th>\n",
              "      <th>Kappa</th>\n",
              "      <th>MCC</th>\n",
              "    </tr>\n",
              "  </thead>\n",
              "  <tbody>\n",
              "    <tr>\n",
              "      <th>0</th>\n",
              "      <td>0.7938</td>\n",
              "      <td>0.8682</td>\n",
              "      <td>0.7694</td>\n",
              "      <td>0.7848</td>\n",
              "      <td>0.7770</td>\n",
              "      <td>0.5853</td>\n",
              "      <td>0.5854</td>\n",
              "    </tr>\n",
              "    <tr>\n",
              "      <th>1</th>\n",
              "      <td>0.7767</td>\n",
              "      <td>0.8513</td>\n",
              "      <td>0.7409</td>\n",
              "      <td>0.7718</td>\n",
              "      <td>0.7560</td>\n",
              "      <td>0.5504</td>\n",
              "      <td>0.5508</td>\n",
              "    </tr>\n",
              "    <tr>\n",
              "      <th>2</th>\n",
              "      <td>0.7765</td>\n",
              "      <td>0.8535</td>\n",
              "      <td>0.7429</td>\n",
              "      <td>0.7703</td>\n",
              "      <td>0.7563</td>\n",
              "      <td>0.5500</td>\n",
              "      <td>0.5504</td>\n",
              "    </tr>\n",
              "    <tr>\n",
              "      <th>3</th>\n",
              "      <td>0.7917</td>\n",
              "      <td>0.8689</td>\n",
              "      <td>0.7604</td>\n",
              "      <td>0.7864</td>\n",
              "      <td>0.7732</td>\n",
              "      <td>0.5807</td>\n",
              "      <td>0.5810</td>\n",
              "    </tr>\n",
              "    <tr>\n",
              "      <th>4</th>\n",
              "      <td>0.7910</td>\n",
              "      <td>0.8680</td>\n",
              "      <td>0.7624</td>\n",
              "      <td>0.7840</td>\n",
              "      <td>0.7731</td>\n",
              "      <td>0.5795</td>\n",
              "      <td>0.5797</td>\n",
              "    </tr>\n",
              "    <tr>\n",
              "      <th>Mean</th>\n",
              "      <td>0.7860</td>\n",
              "      <td>0.8620</td>\n",
              "      <td>0.7552</td>\n",
              "      <td>0.7795</td>\n",
              "      <td>0.7671</td>\n",
              "      <td>0.5692</td>\n",
              "      <td>0.5694</td>\n",
              "    </tr>\n",
              "    <tr>\n",
              "      <th>SD</th>\n",
              "      <td>0.0077</td>\n",
              "      <td>0.0079</td>\n",
              "      <td>0.0113</td>\n",
              "      <td>0.0069</td>\n",
              "      <td>0.0091</td>\n",
              "      <td>0.0156</td>\n",
              "      <td>0.0155</td>\n",
              "    </tr>\n",
              "  </tbody>\n",
              "</table>\n",
              "</div>"
            ],
            "text/plain": [
              "      Accuracy     AUC  Recall   Prec.      F1   Kappa     MCC\n",
              "0       0.7938  0.8682  0.7694  0.7848  0.7770  0.5853  0.5854\n",
              "1       0.7767  0.8513  0.7409  0.7718  0.7560  0.5504  0.5508\n",
              "2       0.7765  0.8535  0.7429  0.7703  0.7563  0.5500  0.5504\n",
              "3       0.7917  0.8689  0.7604  0.7864  0.7732  0.5807  0.5810\n",
              "4       0.7910  0.8680  0.7624  0.7840  0.7731  0.5795  0.5797\n",
              "Mean    0.7860  0.8620  0.7552  0.7795  0.7671  0.5692  0.5694\n",
              "SD      0.0077  0.0079  0.0113  0.0069  0.0091  0.0156  0.0155"
            ]
          },
          "metadata": {}
        },
        {
          "output_type": "stream",
          "name": "stdout",
          "text": [
            "[LightGBM] [Warning] feature_fraction is set=0.9, colsample_bytree=1.0 will be ignored. Current value: feature_fraction=0.9\n",
            "[LightGBM] [Warning] bagging_fraction is set=0.5, subsample=1.0 will be ignored. Current value: bagging_fraction=0.5\n",
            "[LightGBM] [Warning] bagging_freq is set=6, subsample_freq=0 will be ignored. Current value: bagging_freq=6\n",
            "[LightGBM] [Warning] feature_fraction is set=0.9, colsample_bytree=1.0 will be ignored. Current value: feature_fraction=0.9\n",
            "[LightGBM] [Warning] bagging_fraction is set=0.5, subsample=1.0 will be ignored. Current value: bagging_fraction=0.5\n",
            "[LightGBM] [Warning] bagging_freq is set=6, subsample_freq=0 will be ignored. Current value: bagging_freq=6\n",
            "[LightGBM] [Warning] feature_fraction is set=0.9, colsample_bytree=1.0 will be ignored. Current value: feature_fraction=0.9\n",
            "[LightGBM] [Warning] bagging_fraction is set=0.5, subsample=1.0 will be ignored. Current value: bagging_fraction=0.5\n",
            "[LightGBM] [Warning] bagging_freq is set=6, subsample_freq=0 will be ignored. Current value: bagging_freq=6\n",
            "[LightGBM] [Warning] feature_fraction is set=0.9, colsample_bytree=1.0 will be ignored. Current value: feature_fraction=0.9\n",
            "[LightGBM] [Warning] bagging_fraction is set=0.5, subsample=1.0 will be ignored. Current value: bagging_fraction=0.5\n",
            "[LightGBM] [Warning] bagging_freq is set=6, subsample_freq=0 will be ignored. Current value: bagging_freq=6\n",
            "[LightGBM] [Warning] feature_fraction is set=0.9, colsample_bytree=1.0 will be ignored. Current value: feature_fraction=0.9\n",
            "[LightGBM] [Warning] bagging_fraction is set=0.5, subsample=1.0 will be ignored. Current value: bagging_fraction=0.5\n",
            "[LightGBM] [Warning] bagging_freq is set=6, subsample_freq=0 will be ignored. Current value: bagging_freq=6\n"
          ]
        }
      ]
    },
    {
      "cell_type": "code",
      "metadata": {
        "colab": {
          "base_uri": "https://localhost:8080/",
          "height": 529,
          "referenced_widgets": [
            "1524c4131b49428fb55e60341c49277e",
            "83b26e3c8aca4356b8bc3247c550d081",
            "6afa3743797d401fb8b552e605dca621"
          ]
        },
        "id": "751XkOTJI1Bj",
        "outputId": "926628ab-b366-4110-b2da-3aedabb09b94"
      },
      "source": [
        "#blend the model\n",
        "blender = blend_models(estimator_list= [tuned_cat1, tuned_gbc1, tuned_lgbm1], optimize='AUC')\n",
        "final_model1=finalize_model(blender)\n",
        "prediction1=predict_model(final_model1, data = test_features, raw_score=True)\n",
        "sample['h1n1_vaccine']=prediction1['Score_1']"
      ],
      "execution_count": null,
      "outputs": [
        {
          "output_type": "display_data",
          "data": {
            "text/html": [
              "<div>\n",
              "<style scoped>\n",
              "    .dataframe tbody tr th:only-of-type {\n",
              "        vertical-align: middle;\n",
              "    }\n",
              "\n",
              "    .dataframe tbody tr th {\n",
              "        vertical-align: top;\n",
              "    }\n",
              "\n",
              "    .dataframe thead th {\n",
              "        text-align: right;\n",
              "    }\n",
              "</style>\n",
              "<table border=\"1\" class=\"dataframe\">\n",
              "  <thead>\n",
              "    <tr style=\"text-align: right;\">\n",
              "      <th></th>\n",
              "      <th>Accuracy</th>\n",
              "      <th>AUC</th>\n",
              "      <th>Recall</th>\n",
              "      <th>Prec.</th>\n",
              "      <th>F1</th>\n",
              "      <th>Kappa</th>\n",
              "      <th>MCC</th>\n",
              "    </tr>\n",
              "  </thead>\n",
              "  <tbody>\n",
              "    <tr>\n",
              "      <th>0</th>\n",
              "      <td>0.7938</td>\n",
              "      <td>0.8682</td>\n",
              "      <td>0.7694</td>\n",
              "      <td>0.7848</td>\n",
              "      <td>0.7770</td>\n",
              "      <td>0.5853</td>\n",
              "      <td>0.5854</td>\n",
              "    </tr>\n",
              "    <tr>\n",
              "      <th>1</th>\n",
              "      <td>0.7767</td>\n",
              "      <td>0.8513</td>\n",
              "      <td>0.7409</td>\n",
              "      <td>0.7718</td>\n",
              "      <td>0.7560</td>\n",
              "      <td>0.5504</td>\n",
              "      <td>0.5508</td>\n",
              "    </tr>\n",
              "    <tr>\n",
              "      <th>2</th>\n",
              "      <td>0.7765</td>\n",
              "      <td>0.8535</td>\n",
              "      <td>0.7429</td>\n",
              "      <td>0.7703</td>\n",
              "      <td>0.7563</td>\n",
              "      <td>0.5500</td>\n",
              "      <td>0.5504</td>\n",
              "    </tr>\n",
              "    <tr>\n",
              "      <th>3</th>\n",
              "      <td>0.7917</td>\n",
              "      <td>0.8689</td>\n",
              "      <td>0.7604</td>\n",
              "      <td>0.7864</td>\n",
              "      <td>0.7732</td>\n",
              "      <td>0.5807</td>\n",
              "      <td>0.5810</td>\n",
              "    </tr>\n",
              "    <tr>\n",
              "      <th>4</th>\n",
              "      <td>0.7910</td>\n",
              "      <td>0.8680</td>\n",
              "      <td>0.7624</td>\n",
              "      <td>0.7840</td>\n",
              "      <td>0.7731</td>\n",
              "      <td>0.5795</td>\n",
              "      <td>0.5797</td>\n",
              "    </tr>\n",
              "    <tr>\n",
              "      <th>Mean</th>\n",
              "      <td>0.7860</td>\n",
              "      <td>0.8620</td>\n",
              "      <td>0.7552</td>\n",
              "      <td>0.7795</td>\n",
              "      <td>0.7671</td>\n",
              "      <td>0.5692</td>\n",
              "      <td>0.5694</td>\n",
              "    </tr>\n",
              "    <tr>\n",
              "      <th>SD</th>\n",
              "      <td>0.0077</td>\n",
              "      <td>0.0079</td>\n",
              "      <td>0.0113</td>\n",
              "      <td>0.0069</td>\n",
              "      <td>0.0091</td>\n",
              "      <td>0.0156</td>\n",
              "      <td>0.0155</td>\n",
              "    </tr>\n",
              "  </tbody>\n",
              "</table>\n",
              "</div>"
            ],
            "text/plain": [
              "      Accuracy     AUC  Recall   Prec.      F1   Kappa     MCC\n",
              "0       0.7938  0.8682  0.7694  0.7848  0.7770  0.5853  0.5854\n",
              "1       0.7767  0.8513  0.7409  0.7718  0.7560  0.5504  0.5508\n",
              "2       0.7765  0.8535  0.7429  0.7703  0.7563  0.5500  0.5504\n",
              "3       0.7917  0.8689  0.7604  0.7864  0.7732  0.5807  0.5810\n",
              "4       0.7910  0.8680  0.7624  0.7840  0.7731  0.5795  0.5797\n",
              "Mean    0.7860  0.8620  0.7552  0.7795  0.7671  0.5692  0.5694\n",
              "SD      0.0077  0.0079  0.0113  0.0069  0.0091  0.0156  0.0155"
            ]
          },
          "metadata": {}
        },
        {
          "output_type": "stream",
          "name": "stdout",
          "text": [
            "[LightGBM] [Warning] feature_fraction is set=0.9, colsample_bytree=1.0 will be ignored. Current value: feature_fraction=0.9\n",
            "[LightGBM] [Warning] bagging_fraction is set=0.5, subsample=1.0 will be ignored. Current value: bagging_fraction=0.5\n",
            "[LightGBM] [Warning] bagging_freq is set=6, subsample_freq=0 will be ignored. Current value: bagging_freq=6\n",
            "[LightGBM] [Warning] feature_fraction is set=0.9, colsample_bytree=1.0 will be ignored. Current value: feature_fraction=0.9\n",
            "[LightGBM] [Warning] bagging_fraction is set=0.5, subsample=1.0 will be ignored. Current value: bagging_fraction=0.5\n",
            "[LightGBM] [Warning] bagging_freq is set=6, subsample_freq=0 will be ignored. Current value: bagging_freq=6\n",
            "[LightGBM] [Warning] feature_fraction is set=0.9, colsample_bytree=1.0 will be ignored. Current value: feature_fraction=0.9\n",
            "[LightGBM] [Warning] bagging_fraction is set=0.5, subsample=1.0 will be ignored. Current value: bagging_fraction=0.5\n",
            "[LightGBM] [Warning] bagging_freq is set=6, subsample_freq=0 will be ignored. Current value: bagging_freq=6\n",
            "[LightGBM] [Warning] feature_fraction is set=0.9, colsample_bytree=1.0 will be ignored. Current value: feature_fraction=0.9\n",
            "[LightGBM] [Warning] bagging_fraction is set=0.5, subsample=1.0 will be ignored. Current value: bagging_fraction=0.5\n",
            "[LightGBM] [Warning] bagging_freq is set=6, subsample_freq=0 will be ignored. Current value: bagging_freq=6\n",
            "[LightGBM] [Warning] feature_fraction is set=0.9, colsample_bytree=1.0 will be ignored. Current value: feature_fraction=0.9\n",
            "[LightGBM] [Warning] bagging_fraction is set=0.5, subsample=1.0 will be ignored. Current value: bagging_fraction=0.5\n",
            "[LightGBM] [Warning] bagging_freq is set=6, subsample_freq=0 will be ignored. Current value: bagging_freq=6\n"
          ]
        }
      ]
    },
    {
      "cell_type": "code",
      "metadata": {
        "id": "eEKvJ1rvKtAp"
      },
      "source": [
        "# stacker1 = stack_models(estimator_list= [tuned_cat1, tuned_gbc1, tuned_lgbm1], optimize='AUC')\n",
        "# final_model1=finalize_model(stacker1)\n",
        "# prediction1=predict_model(final_model1, data = test_features, raw_score=True)\n",
        "# sample['h1n1_vaccine']=prediction1['Score_1']"
      ],
      "execution_count": null,
      "outputs": []
    },
    {
      "cell_type": "markdown",
      "metadata": {
        "id": "HjmQLMg5aIr_"
      },
      "source": [
        "### neural network"
      ]
    },
    {
      "cell_type": "code",
      "metadata": {
        "id": "eAI0ggKvdIL2"
      },
      "source": [
        "# mlp_clf1 = MLPClassifier(random_state=1, max_iter=300)\n",
        "# np.mean(cross_val_score(mlp_clf1, train_x.drop(['seasonal_vaccine_mean'],axis=1), train_y1, cv=5, scoring='roc_auc'))\n",
        "# np.mean(cross_val_score(mlp_clf1, train_x, train_y1, cv=5, scoring='roc_auc'))\n"
      ],
      "execution_count": null,
      "outputs": []
    },
    {
      "cell_type": "markdown",
      "metadata": {
        "id": "j7REpaF4dR-Y"
      },
      "source": [
        "## 2. seasonal"
      ]
    },
    {
      "cell_type": "markdown",
      "metadata": {
        "id": "G9tDP4Kad2RY"
      },
      "source": [
        "### automl (pycaret)"
      ]
    },
    {
      "cell_type": "code",
      "metadata": {
        "colab": {
          "base_uri": "https://localhost:8080/",
          "height": 1000,
          "referenced_widgets": [
            "b7fc800460624be69140e7fae5641b8a",
            "113a02e0b1594bbfb1fa223f3bc2649d",
            "6f9e6a9fdd3c4dbaa37039a02bd2ded0"
          ]
        },
        "id": "E_vLVT9zdSCX",
        "outputId": "1d170e9b-a93c-4a75-af02-46dcdccf9a7e"
      },
      "source": [
        "# clf2 = setup(data=pd.concat([train_features,train_y2], axis=1), target='seasonal_vaccine', train_size=0.8,  session_id=20, fold=5,verbose=False,ignore_features=['h1n1_vaccine_mean'])\n",
        "clf2 = setup(data=pd.concat([train_features,train_y2], axis=1), target='seasonal_vaccine', train_size=0.8,  session_id=20, fold=5,verbose=False)"
      ],
      "execution_count": null,
      "outputs": [
        {
          "output_type": "display_data",
          "data": {
            "application/vnd.jupyter.widget-view+json": {
              "model_id": "b7fc800460624be69140e7fae5641b8a",
              "version_minor": 0,
              "version_major": 2
            },
            "text/plain": [
              "Text(value=\"Following data types have been inferred automatically, if they are correct press enter to continue…"
            ]
          },
          "metadata": {}
        },
        {
          "output_type": "display_data",
          "data": {
            "text/html": [
              "<div>\n",
              "<style scoped>\n",
              "    .dataframe tbody tr th:only-of-type {\n",
              "        vertical-align: middle;\n",
              "    }\n",
              "\n",
              "    .dataframe tbody tr th {\n",
              "        vertical-align: top;\n",
              "    }\n",
              "\n",
              "    .dataframe thead th {\n",
              "        text-align: right;\n",
              "    }\n",
              "</style>\n",
              "<table border=\"1\" class=\"dataframe\">\n",
              "  <thead>\n",
              "    <tr style=\"text-align: right;\">\n",
              "      <th></th>\n",
              "      <th>Data Type</th>\n",
              "    </tr>\n",
              "  </thead>\n",
              "  <tbody>\n",
              "    <tr>\n",
              "      <th>h1n1_concern</th>\n",
              "      <td>Categorical</td>\n",
              "    </tr>\n",
              "    <tr>\n",
              "      <th>h1n1_knowledge</th>\n",
              "      <td>Categorical</td>\n",
              "    </tr>\n",
              "    <tr>\n",
              "      <th>behavioral_antiviral_meds</th>\n",
              "      <td>Categorical</td>\n",
              "    </tr>\n",
              "    <tr>\n",
              "      <th>behavioral_avoidance</th>\n",
              "      <td>Categorical</td>\n",
              "    </tr>\n",
              "    <tr>\n",
              "      <th>behavioral_face_mask</th>\n",
              "      <td>Categorical</td>\n",
              "    </tr>\n",
              "    <tr>\n",
              "      <th>behavioral_wash_hands</th>\n",
              "      <td>Categorical</td>\n",
              "    </tr>\n",
              "    <tr>\n",
              "      <th>behavioral_large_gatherings</th>\n",
              "      <td>Categorical</td>\n",
              "    </tr>\n",
              "    <tr>\n",
              "      <th>behavioral_outside_home</th>\n",
              "      <td>Categorical</td>\n",
              "    </tr>\n",
              "    <tr>\n",
              "      <th>behavioral_touch_face</th>\n",
              "      <td>Categorical</td>\n",
              "    </tr>\n",
              "    <tr>\n",
              "      <th>doctor_recc_h1n1</th>\n",
              "      <td>Categorical</td>\n",
              "    </tr>\n",
              "    <tr>\n",
              "      <th>doctor_recc_seasonal</th>\n",
              "      <td>Categorical</td>\n",
              "    </tr>\n",
              "    <tr>\n",
              "      <th>chronic_med_condition</th>\n",
              "      <td>Categorical</td>\n",
              "    </tr>\n",
              "    <tr>\n",
              "      <th>child_under_6_months</th>\n",
              "      <td>Categorical</td>\n",
              "    </tr>\n",
              "    <tr>\n",
              "      <th>health_worker</th>\n",
              "      <td>Categorical</td>\n",
              "    </tr>\n",
              "    <tr>\n",
              "      <th>health_insurance</th>\n",
              "      <td>Categorical</td>\n",
              "    </tr>\n",
              "    <tr>\n",
              "      <th>opinion_h1n1_vacc_effective</th>\n",
              "      <td>Categorical</td>\n",
              "    </tr>\n",
              "    <tr>\n",
              "      <th>opinion_h1n1_risk</th>\n",
              "      <td>Categorical</td>\n",
              "    </tr>\n",
              "    <tr>\n",
              "      <th>opinion_h1n1_sick_from_vacc</th>\n",
              "      <td>Categorical</td>\n",
              "    </tr>\n",
              "    <tr>\n",
              "      <th>opinion_seas_vacc_effective</th>\n",
              "      <td>Categorical</td>\n",
              "    </tr>\n",
              "    <tr>\n",
              "      <th>opinion_seas_risk</th>\n",
              "      <td>Categorical</td>\n",
              "    </tr>\n",
              "    <tr>\n",
              "      <th>opinion_seas_sick_from_vacc</th>\n",
              "      <td>Categorical</td>\n",
              "    </tr>\n",
              "    <tr>\n",
              "      <th>age_group</th>\n",
              "      <td>Categorical</td>\n",
              "    </tr>\n",
              "    <tr>\n",
              "      <th>education</th>\n",
              "      <td>Categorical</td>\n",
              "    </tr>\n",
              "    <tr>\n",
              "      <th>race</th>\n",
              "      <td>Categorical</td>\n",
              "    </tr>\n",
              "    <tr>\n",
              "      <th>sex</th>\n",
              "      <td>Categorical</td>\n",
              "    </tr>\n",
              "    <tr>\n",
              "      <th>income_poverty</th>\n",
              "      <td>Categorical</td>\n",
              "    </tr>\n",
              "    <tr>\n",
              "      <th>marital_status</th>\n",
              "      <td>Categorical</td>\n",
              "    </tr>\n",
              "    <tr>\n",
              "      <th>rent_or_own</th>\n",
              "      <td>Categorical</td>\n",
              "    </tr>\n",
              "    <tr>\n",
              "      <th>employment_status</th>\n",
              "      <td>Categorical</td>\n",
              "    </tr>\n",
              "    <tr>\n",
              "      <th>hhs_geo_region</th>\n",
              "      <td>Categorical</td>\n",
              "    </tr>\n",
              "    <tr>\n",
              "      <th>census_msa</th>\n",
              "      <td>Categorical</td>\n",
              "    </tr>\n",
              "    <tr>\n",
              "      <th>household_adults</th>\n",
              "      <td>Categorical</td>\n",
              "    </tr>\n",
              "    <tr>\n",
              "      <th>household_children</th>\n",
              "      <td>Categorical</td>\n",
              "    </tr>\n",
              "    <tr>\n",
              "      <th>employment_industry</th>\n",
              "      <td>Numeric</td>\n",
              "    </tr>\n",
              "    <tr>\n",
              "      <th>employment_occupation</th>\n",
              "      <td>Numeric</td>\n",
              "    </tr>\n",
              "    <tr>\n",
              "      <th>behaviorals</th>\n",
              "      <td>Categorical</td>\n",
              "    </tr>\n",
              "    <tr>\n",
              "      <th>opinion_h1n1</th>\n",
              "      <td>Categorical</td>\n",
              "    </tr>\n",
              "    <tr>\n",
              "      <th>opinion_seasonal</th>\n",
              "      <td>Categorical</td>\n",
              "    </tr>\n",
              "    <tr>\n",
              "      <th>seasonal_vaccine</th>\n",
              "      <td>Label</td>\n",
              "    </tr>\n",
              "  </tbody>\n",
              "</table>\n",
              "</div>"
            ],
            "text/plain": [
              "                               Data Type\n",
              "h1n1_concern                 Categorical\n",
              "h1n1_knowledge               Categorical\n",
              "behavioral_antiviral_meds    Categorical\n",
              "behavioral_avoidance         Categorical\n",
              "behavioral_face_mask         Categorical\n",
              "behavioral_wash_hands        Categorical\n",
              "behavioral_large_gatherings  Categorical\n",
              "behavioral_outside_home      Categorical\n",
              "behavioral_touch_face        Categorical\n",
              "doctor_recc_h1n1             Categorical\n",
              "doctor_recc_seasonal         Categorical\n",
              "chronic_med_condition        Categorical\n",
              "child_under_6_months         Categorical\n",
              "health_worker                Categorical\n",
              "health_insurance             Categorical\n",
              "opinion_h1n1_vacc_effective  Categorical\n",
              "opinion_h1n1_risk            Categorical\n",
              "opinion_h1n1_sick_from_vacc  Categorical\n",
              "opinion_seas_vacc_effective  Categorical\n",
              "opinion_seas_risk            Categorical\n",
              "opinion_seas_sick_from_vacc  Categorical\n",
              "age_group                    Categorical\n",
              "education                    Categorical\n",
              "race                         Categorical\n",
              "sex                          Categorical\n",
              "income_poverty               Categorical\n",
              "marital_status               Categorical\n",
              "rent_or_own                  Categorical\n",
              "employment_status            Categorical\n",
              "hhs_geo_region               Categorical\n",
              "census_msa                   Categorical\n",
              "household_adults             Categorical\n",
              "household_children           Categorical\n",
              "employment_industry              Numeric\n",
              "employment_occupation            Numeric\n",
              "behaviorals                  Categorical\n",
              "opinion_h1n1                 Categorical\n",
              "opinion_seasonal             Categorical\n",
              "seasonal_vaccine                   Label"
            ]
          },
          "metadata": {}
        },
        {
          "name": "stdout",
          "output_type": "stream",
          "text": [
            "\n"
          ]
        }
      ]
    },
    {
      "cell_type": "code",
      "metadata": {
        "colab": {
          "base_uri": "https://localhost:8080/",
          "height": 143,
          "referenced_widgets": [
            "eed2d4e60a80460f806dc47454fd754e",
            "c94aeebdaf744d67bc6713f66d47c9d6",
            "2dbd1f6587574cdc956ebc2036b2b29e"
          ]
        },
        "id": "beCyIQbrd6ub",
        "outputId": "7e1e8614-0dee-4dee-f721-1f2a884147aa"
      },
      "source": [
        "best2 = compare_models(sort = 'AUC', exclude=['ridge','qda','gpc','svm','rbfsvm','lr','ada','lda','xgboost','rf','et','knn','dt','nb','dummy'], n_select=3)"
      ],
      "execution_count": null,
      "outputs": [
        {
          "output_type": "display_data",
          "data": {
            "text/html": [
              "<div>\n",
              "<style scoped>\n",
              "    .dataframe tbody tr th:only-of-type {\n",
              "        vertical-align: middle;\n",
              "    }\n",
              "\n",
              "    .dataframe tbody tr th {\n",
              "        vertical-align: top;\n",
              "    }\n",
              "\n",
              "    .dataframe thead th {\n",
              "        text-align: right;\n",
              "    }\n",
              "</style>\n",
              "<table border=\"1\" class=\"dataframe\">\n",
              "  <thead>\n",
              "    <tr style=\"text-align: right;\">\n",
              "      <th></th>\n",
              "      <th>Model</th>\n",
              "      <th>Accuracy</th>\n",
              "      <th>AUC</th>\n",
              "      <th>Recall</th>\n",
              "      <th>Prec.</th>\n",
              "      <th>F1</th>\n",
              "      <th>Kappa</th>\n",
              "      <th>MCC</th>\n",
              "      <th>TT (Sec)</th>\n",
              "    </tr>\n",
              "  </thead>\n",
              "  <tbody>\n",
              "    <tr>\n",
              "      <th>catboost</th>\n",
              "      <td>CatBoost Classifier</td>\n",
              "      <td>0.7857</td>\n",
              "      <td>0.8622</td>\n",
              "      <td>0.7534</td>\n",
              "      <td>0.7800</td>\n",
              "      <td>0.7664</td>\n",
              "      <td>0.5685</td>\n",
              "      <td>0.5689</td>\n",
              "      <td>11.268</td>\n",
              "    </tr>\n",
              "    <tr>\n",
              "      <th>lightgbm</th>\n",
              "      <td>Light Gradient Boosting Machine</td>\n",
              "      <td>0.7868</td>\n",
              "      <td>0.8610</td>\n",
              "      <td>0.7623</td>\n",
              "      <td>0.7769</td>\n",
              "      <td>0.7695</td>\n",
              "      <td>0.5712</td>\n",
              "      <td>0.5713</td>\n",
              "      <td>0.560</td>\n",
              "    </tr>\n",
              "    <tr>\n",
              "      <th>gbc</th>\n",
              "      <td>Gradient Boosting Classifier</td>\n",
              "      <td>0.7871</td>\n",
              "      <td>0.8605</td>\n",
              "      <td>0.7591</td>\n",
              "      <td>0.7791</td>\n",
              "      <td>0.7689</td>\n",
              "      <td>0.5716</td>\n",
              "      <td>0.5718</td>\n",
              "      <td>6.500</td>\n",
              "    </tr>\n",
              "  </tbody>\n",
              "</table>\n",
              "</div>"
            ],
            "text/plain": [
              "                                    Model  Accuracy     AUC  Recall   Prec.  \\\n",
              "catboost              CatBoost Classifier    0.7857  0.8622  0.7534  0.7800   \n",
              "lightgbm  Light Gradient Boosting Machine    0.7868  0.8610  0.7623  0.7769   \n",
              "gbc          Gradient Boosting Classifier    0.7871  0.8605  0.7591  0.7791   \n",
              "\n",
              "              F1   Kappa     MCC  TT (Sec)  \n",
              "catboost  0.7664  0.5685  0.5689    11.268  \n",
              "lightgbm  0.7695  0.5712  0.5713     0.560  \n",
              "gbc       0.7689  0.5716  0.5718     6.500  "
            ]
          },
          "metadata": {}
        }
      ]
    },
    {
      "cell_type": "markdown",
      "metadata": {
        "id": "Hnvy1Cc1d62A"
      },
      "source": [
        "#### 1. hyperparameter tuning"
      ]
    },
    {
      "cell_type": "code",
      "metadata": {
        "colab": {
          "base_uri": "https://localhost:8080/",
          "height": 269,
          "referenced_widgets": [
            "79f2cc68524f4355b6a2accf5addff50",
            "56e783fb025a42098da03a55dc1f9e7b",
            "884e55b90fa349bf89c717b43bceb017"
          ]
        },
        "id": "uYvWgwaHobPt",
        "outputId": "420cad76-2c9f-45e8-ecd8-93480f402e36"
      },
      "source": [
        "tuned_cat2=tune_model(best2[0], optimize='AUC',n_iter=5)"
      ],
      "execution_count": null,
      "outputs": [
        {
          "output_type": "display_data",
          "data": {
            "text/html": [
              "<div>\n",
              "<style scoped>\n",
              "    .dataframe tbody tr th:only-of-type {\n",
              "        vertical-align: middle;\n",
              "    }\n",
              "\n",
              "    .dataframe tbody tr th {\n",
              "        vertical-align: top;\n",
              "    }\n",
              "\n",
              "    .dataframe thead th {\n",
              "        text-align: right;\n",
              "    }\n",
              "</style>\n",
              "<table border=\"1\" class=\"dataframe\">\n",
              "  <thead>\n",
              "    <tr style=\"text-align: right;\">\n",
              "      <th></th>\n",
              "      <th>Accuracy</th>\n",
              "      <th>AUC</th>\n",
              "      <th>Recall</th>\n",
              "      <th>Prec.</th>\n",
              "      <th>F1</th>\n",
              "      <th>Kappa</th>\n",
              "      <th>MCC</th>\n",
              "    </tr>\n",
              "  </thead>\n",
              "  <tbody>\n",
              "    <tr>\n",
              "      <th>0</th>\n",
              "      <td>0.7795</td>\n",
              "      <td>0.8572</td>\n",
              "      <td>0.7373</td>\n",
              "      <td>0.7787</td>\n",
              "      <td>0.7575</td>\n",
              "      <td>0.5557</td>\n",
              "      <td>0.5564</td>\n",
              "    </tr>\n",
              "    <tr>\n",
              "      <th>1</th>\n",
              "      <td>0.7700</td>\n",
              "      <td>0.8431</td>\n",
              "      <td>0.7163</td>\n",
              "      <td>0.7741</td>\n",
              "      <td>0.7441</td>\n",
              "      <td>0.5357</td>\n",
              "      <td>0.5371</td>\n",
              "    </tr>\n",
              "    <tr>\n",
              "      <th>2</th>\n",
              "      <td>0.7697</td>\n",
              "      <td>0.8470</td>\n",
              "      <td>0.7133</td>\n",
              "      <td>0.7755</td>\n",
              "      <td>0.7431</td>\n",
              "      <td>0.5351</td>\n",
              "      <td>0.5366</td>\n",
              "    </tr>\n",
              "    <tr>\n",
              "      <th>3</th>\n",
              "      <td>0.7861</td>\n",
              "      <td>0.8633</td>\n",
              "      <td>0.7378</td>\n",
              "      <td>0.7901</td>\n",
              "      <td>0.7631</td>\n",
              "      <td>0.5685</td>\n",
              "      <td>0.5696</td>\n",
              "    </tr>\n",
              "    <tr>\n",
              "      <th>4</th>\n",
              "      <td>0.7779</td>\n",
              "      <td>0.8580</td>\n",
              "      <td>0.7303</td>\n",
              "      <td>0.7800</td>\n",
              "      <td>0.7543</td>\n",
              "      <td>0.5521</td>\n",
              "      <td>0.5531</td>\n",
              "    </tr>\n",
              "    <tr>\n",
              "      <th>Mean</th>\n",
              "      <td>0.7766</td>\n",
              "      <td>0.8537</td>\n",
              "      <td>0.7270</td>\n",
              "      <td>0.7797</td>\n",
              "      <td>0.7524</td>\n",
              "      <td>0.5494</td>\n",
              "      <td>0.5506</td>\n",
              "    </tr>\n",
              "    <tr>\n",
              "      <th>SD</th>\n",
              "      <td>0.0062</td>\n",
              "      <td>0.0075</td>\n",
              "      <td>0.0104</td>\n",
              "      <td>0.0056</td>\n",
              "      <td>0.0077</td>\n",
              "      <td>0.0127</td>\n",
              "      <td>0.0125</td>\n",
              "    </tr>\n",
              "  </tbody>\n",
              "</table>\n",
              "</div>"
            ],
            "text/plain": [
              "      Accuracy     AUC  Recall   Prec.      F1   Kappa     MCC\n",
              "0       0.7795  0.8572  0.7373  0.7787  0.7575  0.5557  0.5564\n",
              "1       0.7700  0.8431  0.7163  0.7741  0.7441  0.5357  0.5371\n",
              "2       0.7697  0.8470  0.7133  0.7755  0.7431  0.5351  0.5366\n",
              "3       0.7861  0.8633  0.7378  0.7901  0.7631  0.5685  0.5696\n",
              "4       0.7779  0.8580  0.7303  0.7800  0.7543  0.5521  0.5531\n",
              "Mean    0.7766  0.8537  0.7270  0.7797  0.7524  0.5494  0.5506\n",
              "SD      0.0062  0.0075  0.0104  0.0056  0.0077  0.0127  0.0125"
            ]
          },
          "metadata": {}
        }
      ]
    },
    {
      "cell_type": "code",
      "metadata": {
        "colab": {
          "base_uri": "https://localhost:8080/",
          "height": 269,
          "referenced_widgets": [
            "f3b277a33c81417fbc8b5082e4cca88c",
            "9ae5809d7aa344e598426407f38edf69",
            "05db4cf1d4e441a5a4727e09f5a0f517"
          ]
        },
        "id": "wavsx5DJobP1",
        "outputId": "cf43e959-91fa-4d2c-e814-8a8d42a40d8a"
      },
      "source": [
        "tuned_lgbm2=tune_model(best2[1], optimize='AUC',n_iter=5)"
      ],
      "execution_count": null,
      "outputs": [
        {
          "output_type": "display_data",
          "data": {
            "text/html": [
              "<div>\n",
              "<style scoped>\n",
              "    .dataframe tbody tr th:only-of-type {\n",
              "        vertical-align: middle;\n",
              "    }\n",
              "\n",
              "    .dataframe tbody tr th {\n",
              "        vertical-align: top;\n",
              "    }\n",
              "\n",
              "    .dataframe thead th {\n",
              "        text-align: right;\n",
              "    }\n",
              "</style>\n",
              "<table border=\"1\" class=\"dataframe\">\n",
              "  <thead>\n",
              "    <tr style=\"text-align: right;\">\n",
              "      <th></th>\n",
              "      <th>Accuracy</th>\n",
              "      <th>AUC</th>\n",
              "      <th>Recall</th>\n",
              "      <th>Prec.</th>\n",
              "      <th>F1</th>\n",
              "      <th>Kappa</th>\n",
              "      <th>MCC</th>\n",
              "    </tr>\n",
              "  </thead>\n",
              "  <tbody>\n",
              "    <tr>\n",
              "      <th>0</th>\n",
              "      <td>0.7915</td>\n",
              "      <td>0.8675</td>\n",
              "      <td>0.7739</td>\n",
              "      <td>0.7782</td>\n",
              "      <td>0.7761</td>\n",
              "      <td>0.5810</td>\n",
              "      <td>0.5810</td>\n",
              "    </tr>\n",
              "    <tr>\n",
              "      <th>1</th>\n",
              "      <td>0.7774</td>\n",
              "      <td>0.8484</td>\n",
              "      <td>0.7414</td>\n",
              "      <td>0.7727</td>\n",
              "      <td>0.7567</td>\n",
              "      <td>0.5518</td>\n",
              "      <td>0.5522</td>\n",
              "    </tr>\n",
              "    <tr>\n",
              "      <th>2</th>\n",
              "      <td>0.7814</td>\n",
              "      <td>0.8556</td>\n",
              "      <td>0.7544</td>\n",
              "      <td>0.7722</td>\n",
              "      <td>0.7632</td>\n",
              "      <td>0.5603</td>\n",
              "      <td>0.5604</td>\n",
              "    </tr>\n",
              "    <tr>\n",
              "      <th>3</th>\n",
              "      <td>0.7938</td>\n",
              "      <td>0.8670</td>\n",
              "      <td>0.7714</td>\n",
              "      <td>0.7836</td>\n",
              "      <td>0.7775</td>\n",
              "      <td>0.5854</td>\n",
              "      <td>0.5855</td>\n",
              "    </tr>\n",
              "    <tr>\n",
              "      <th>4</th>\n",
              "      <td>0.7840</td>\n",
              "      <td>0.8643</td>\n",
              "      <td>0.7639</td>\n",
              "      <td>0.7713</td>\n",
              "      <td>0.7676</td>\n",
              "      <td>0.5658</td>\n",
              "      <td>0.5658</td>\n",
              "    </tr>\n",
              "    <tr>\n",
              "      <th>Mean</th>\n",
              "      <td>0.7856</td>\n",
              "      <td>0.8606</td>\n",
              "      <td>0.7610</td>\n",
              "      <td>0.7756</td>\n",
              "      <td>0.7682</td>\n",
              "      <td>0.5689</td>\n",
              "      <td>0.5690</td>\n",
              "    </tr>\n",
              "    <tr>\n",
              "      <th>SD</th>\n",
              "      <td>0.0061</td>\n",
              "      <td>0.0074</td>\n",
              "      <td>0.0120</td>\n",
              "      <td>0.0047</td>\n",
              "      <td>0.0078</td>\n",
              "      <td>0.0126</td>\n",
              "      <td>0.0125</td>\n",
              "    </tr>\n",
              "  </tbody>\n",
              "</table>\n",
              "</div>"
            ],
            "text/plain": [
              "      Accuracy     AUC  Recall   Prec.      F1   Kappa     MCC\n",
              "0       0.7915  0.8675  0.7739  0.7782  0.7761  0.5810  0.5810\n",
              "1       0.7774  0.8484  0.7414  0.7727  0.7567  0.5518  0.5522\n",
              "2       0.7814  0.8556  0.7544  0.7722  0.7632  0.5603  0.5604\n",
              "3       0.7938  0.8670  0.7714  0.7836  0.7775  0.5854  0.5855\n",
              "4       0.7840  0.8643  0.7639  0.7713  0.7676  0.5658  0.5658\n",
              "Mean    0.7856  0.8606  0.7610  0.7756  0.7682  0.5689  0.5690\n",
              "SD      0.0061  0.0074  0.0120  0.0047  0.0078  0.0126  0.0125"
            ]
          },
          "metadata": {}
        }
      ]
    },
    {
      "cell_type": "code",
      "metadata": {
        "colab": {
          "base_uri": "https://localhost:8080/",
          "height": 269,
          "referenced_widgets": [
            "a174fd2ba67943eba7bc4562a090f69a",
            "be50030792fa4920a4517224d1ce7538",
            "c6cfa59077c649a8b224b35bdd58b8f6"
          ]
        },
        "id": "PyweagunobP2",
        "outputId": "02f3eb3e-ded2-426d-dc6b-dd002ee91ea4"
      },
      "source": [
        "tuned_gbc2=tune_model(best2[2], optimize='AUC',n_iter=5)"
      ],
      "execution_count": null,
      "outputs": [
        {
          "output_type": "display_data",
          "data": {
            "text/html": [
              "<div>\n",
              "<style scoped>\n",
              "    .dataframe tbody tr th:only-of-type {\n",
              "        vertical-align: middle;\n",
              "    }\n",
              "\n",
              "    .dataframe tbody tr th {\n",
              "        vertical-align: top;\n",
              "    }\n",
              "\n",
              "    .dataframe thead th {\n",
              "        text-align: right;\n",
              "    }\n",
              "</style>\n",
              "<table border=\"1\" class=\"dataframe\">\n",
              "  <thead>\n",
              "    <tr style=\"text-align: right;\">\n",
              "      <th></th>\n",
              "      <th>Accuracy</th>\n",
              "      <th>AUC</th>\n",
              "      <th>Recall</th>\n",
              "      <th>Prec.</th>\n",
              "      <th>F1</th>\n",
              "      <th>Kappa</th>\n",
              "      <th>MCC</th>\n",
              "    </tr>\n",
              "  </thead>\n",
              "  <tbody>\n",
              "    <tr>\n",
              "      <th>0</th>\n",
              "      <td>0.7922</td>\n",
              "      <td>0.8634</td>\n",
              "      <td>0.7794</td>\n",
              "      <td>0.7763</td>\n",
              "      <td>0.7779</td>\n",
              "      <td>0.5826</td>\n",
              "      <td>0.5826</td>\n",
              "    </tr>\n",
              "    <tr>\n",
              "      <th>1</th>\n",
              "      <td>0.7709</td>\n",
              "      <td>0.8455</td>\n",
              "      <td>0.7398</td>\n",
              "      <td>0.7624</td>\n",
              "      <td>0.7510</td>\n",
              "      <td>0.5389</td>\n",
              "      <td>0.5391</td>\n",
              "    </tr>\n",
              "    <tr>\n",
              "      <th>2</th>\n",
              "      <td>0.7692</td>\n",
              "      <td>0.8435</td>\n",
              "      <td>0.7409</td>\n",
              "      <td>0.7591</td>\n",
              "      <td>0.7499</td>\n",
              "      <td>0.5358</td>\n",
              "      <td>0.5359</td>\n",
              "    </tr>\n",
              "    <tr>\n",
              "      <th>3</th>\n",
              "      <td>0.7866</td>\n",
              "      <td>0.8609</td>\n",
              "      <td>0.7584</td>\n",
              "      <td>0.7787</td>\n",
              "      <td>0.7684</td>\n",
              "      <td>0.5706</td>\n",
              "      <td>0.5707</td>\n",
              "    </tr>\n",
              "    <tr>\n",
              "      <th>4</th>\n",
              "      <td>0.7831</td>\n",
              "      <td>0.8602</td>\n",
              "      <td>0.7539</td>\n",
              "      <td>0.7753</td>\n",
              "      <td>0.7644</td>\n",
              "      <td>0.5635</td>\n",
              "      <td>0.5636</td>\n",
              "    </tr>\n",
              "    <tr>\n",
              "      <th>Mean</th>\n",
              "      <td>0.7804</td>\n",
              "      <td>0.8547</td>\n",
              "      <td>0.7545</td>\n",
              "      <td>0.7704</td>\n",
              "      <td>0.7623</td>\n",
              "      <td>0.5583</td>\n",
              "      <td>0.5584</td>\n",
              "    </tr>\n",
              "    <tr>\n",
              "      <th>SD</th>\n",
              "      <td>0.0089</td>\n",
              "      <td>0.0084</td>\n",
              "      <td>0.0144</td>\n",
              "      <td>0.0080</td>\n",
              "      <td>0.0107</td>\n",
              "      <td>0.0182</td>\n",
              "      <td>0.0181</td>\n",
              "    </tr>\n",
              "  </tbody>\n",
              "</table>\n",
              "</div>"
            ],
            "text/plain": [
              "      Accuracy     AUC  Recall   Prec.      F1   Kappa     MCC\n",
              "0       0.7922  0.8634  0.7794  0.7763  0.7779  0.5826  0.5826\n",
              "1       0.7709  0.8455  0.7398  0.7624  0.7510  0.5389  0.5391\n",
              "2       0.7692  0.8435  0.7409  0.7591  0.7499  0.5358  0.5359\n",
              "3       0.7866  0.8609  0.7584  0.7787  0.7684  0.5706  0.5707\n",
              "4       0.7831  0.8602  0.7539  0.7753  0.7644  0.5635  0.5636\n",
              "Mean    0.7804  0.8547  0.7545  0.7704  0.7623  0.5583  0.5584\n",
              "SD      0.0089  0.0084  0.0144  0.0080  0.0107  0.0182  0.0181"
            ]
          },
          "metadata": {}
        }
      ]
    },
    {
      "cell_type": "markdown",
      "metadata": {
        "id": "D87xwRw_obP2"
      },
      "source": [
        "#### 2. visualization models"
      ]
    },
    {
      "cell_type": "code",
      "metadata": {
        "id": "gWSO2XpgobP2"
      },
      "source": [
        "# evaluate_model(tuned_cat1)"
      ],
      "execution_count": null,
      "outputs": []
    },
    {
      "cell_type": "code",
      "metadata": {
        "colab": {
          "base_uri": "https://localhost:8080/",
          "height": 376
        },
        "id": "rBq-QIxEobP3",
        "outputId": "d9d40d8b-2c02-4ba1-e4c9-3f1f70264a4c"
      },
      "source": [
        "plot_model(tuned_cat2, plot = 'auc')"
      ],
      "execution_count": null,
      "outputs": [
        {
          "output_type": "display_data",
          "data": {
            "image/png": "[encoded data removed]",
            "text/plain": [
              "<Figure size 576x396 with 1 Axes>"
            ]
          },
          "metadata": {}
        }
      ]
    },
    {
      "cell_type": "code",
      "metadata": {
        "colab": {
          "base_uri": "https://localhost:8080/",
          "height": 478
        },
        "id": "GgD_ZByQobP3",
        "outputId": "a4e90da3-1bf5-4223-d43a-d8e47a4743f2"
      },
      "source": [
        "plot_model(tuned_cat2, plot = 'feature')"
      ],
      "execution_count": null,
      "outputs": [
        {
          "output_type": "display_data",
          "data": {
            "image/png": "[encoded data removed]",
            "text/plain": [
              "<Figure size 800x500 with 1 Axes>"
            ]
          },
          "metadata": {}
        }
      ]
    },
    {
      "cell_type": "code",
      "metadata": {
        "colab": {
          "base_uri": "https://localhost:8080/",
          "height": 376,
          "referenced_widgets": [
            "d9ca7a2809174ffeb22b929dbd0238e9",
            "5287fcb09dc3468b8aafd832a06cacaa",
            "358835a4c11a42e8a749830b7e8bb1e0"
          ]
        },
        "id": "FhMH0lrzobP3",
        "outputId": "4f521f52-be4c-4881-c89b-fe39ca63cfc2"
      },
      "source": [
        "plot_model(tuned_lgbm2, plot = 'auc')"
      ],
      "execution_count": null,
      "outputs": [
        {
          "output_type": "display_data",
          "data": {
            "image/png": "[encoded data removed]",
            "text/plain": [
              "<Figure size 576x396 with 1 Axes>"
            ]
          },
          "metadata": {}
        }
      ]
    },
    {
      "cell_type": "code",
      "metadata": {
        "colab": {
          "base_uri": "https://localhost:8080/",
          "height": 478
        },
        "id": "yUkkr8BbobP3",
        "outputId": "b592b668-380c-4fec-d95b-2aa3f448e7eb"
      },
      "source": [
        "plot_model(tuned_lgbm2, plot = 'feature')"
      ],
      "execution_count": null,
      "outputs": [
        {
          "output_type": "display_data",
          "data": {
            "image/png": "[encoded data removed]",
            "text/plain": [
              "<Figure size 800x500 with 1 Axes>"
            ]
          },
          "metadata": {}
        }
      ]
    },
    {
      "cell_type": "code",
      "metadata": {
        "colab": {
          "base_uri": "https://localhost:8080/",
          "height": 376
        },
        "id": "lGn8LpZxobP3",
        "outputId": "d2314088-8ab9-4878-ac22-6c329ad48d36"
      },
      "source": [
        "plot_model(tuned_gbc2, plot = 'auc')"
      ],
      "execution_count": null,
      "outputs": [
        {
          "output_type": "display_data",
          "data": {
            "image/png": "[encoded data removed]",
            "text/plain": [
              "<Figure size 576x396 with 1 Axes>"
            ]
          },
          "metadata": {}
        }
      ]
    },
    {
      "cell_type": "code",
      "metadata": {
        "colab": {
          "base_uri": "https://localhost:8080/",
          "height": 478
        },
        "id": "HgBbDASvobP3",
        "outputId": "28808861-b8aa-4165-d63d-946a8e263eca"
      },
      "source": [
        "plot_model(tuned_gbc2, plot = 'feature')"
      ],
      "execution_count": null,
      "outputs": [
        {
          "output_type": "display_data",
          "data": {
            "image/png": "[encoded data removed]",
            "text/plain": [
              "<Figure size 800x500 with 1 Axes>"
            ]
          },
          "metadata": {}
        }
      ]
    },
    {
      "cell_type": "markdown",
      "metadata": {
        "id": "5e2y2u0KF1Uj"
      },
      "source": [
        "#### 3. finalize model"
      ]
    },
    {
      "cell_type": "code",
      "metadata": {
        "id": "sISCrOhQobP3"
      },
      "source": [
        "# final_model2=finalize_model(tuned_cat2)"
      ],
      "execution_count": null,
      "outputs": []
    },
    {
      "cell_type": "code",
      "metadata": {
        "id": "QD_6SwDIobP3"
      },
      "source": [
        "# prediction2=predict_model(final_model2, data = test_features, raw_score=True)"
      ],
      "execution_count": null,
      "outputs": []
    },
    {
      "cell_type": "code",
      "metadata": {
        "id": "mBNZyuNHobP4"
      },
      "source": [
        "# # sample['seasonal_vaccine']=prediction2['Score_1']\n",
        "# sample"
      ],
      "execution_count": null,
      "outputs": []
    },
    {
      "cell_type": "code",
      "source": [
        "#blend the model\n",
        "blender2 = blend_models(estimator_list= [cat_model, tuned_gbc2, tuned_lgbm2], optimize='AUC')\n",
        "final_model2=finalize_model(blender2)\n",
        "prediction2=predict_model(final_model2, data = test_features, raw_score=True)\n",
        "sample['seasonal_vaccine']=prediction2['Score_1']"
      ],
      "metadata": {
        "colab": {
          "base_uri": "https://localhost:8080/",
          "height": 529,
          "referenced_widgets": [
            "2cb76bcab9604687a4db47c0b6e4cb58",
            "c9f0734739364d2b8af991740cc1b785",
            "0d3356e6a6924f1cbedf89e3b86dd681"
          ]
        },
        "id": "U1AXpFMQT0zq",
        "outputId": "f93b6127-4019-4fde-ff75-902ff26f2abf"
      },
      "execution_count": null,
      "outputs": [
        {
          "output_type": "display_data",
          "data": {
            "text/html": [
              "<div>\n",
              "<style scoped>\n",
              "    .dataframe tbody tr th:only-of-type {\n",
              "        vertical-align: middle;\n",
              "    }\n",
              "\n",
              "    .dataframe tbody tr th {\n",
              "        vertical-align: top;\n",
              "    }\n",
              "\n",
              "    .dataframe thead th {\n",
              "        text-align: right;\n",
              "    }\n",
              "</style>\n",
              "<table border=\"1\" class=\"dataframe\">\n",
              "  <thead>\n",
              "    <tr style=\"text-align: right;\">\n",
              "      <th></th>\n",
              "      <th>Accuracy</th>\n",
              "      <th>AUC</th>\n",
              "      <th>Recall</th>\n",
              "      <th>Prec.</th>\n",
              "      <th>F1</th>\n",
              "      <th>Kappa</th>\n",
              "      <th>MCC</th>\n",
              "    </tr>\n",
              "  </thead>\n",
              "  <tbody>\n",
              "    <tr>\n",
              "      <th>0</th>\n",
              "      <td>0.7924</td>\n",
              "      <td>0.8691</td>\n",
              "      <td>0.7709</td>\n",
              "      <td>0.7815</td>\n",
              "      <td>0.7762</td>\n",
              "      <td>0.5827</td>\n",
              "      <td>0.5827</td>\n",
              "    </tr>\n",
              "    <tr>\n",
              "      <th>1</th>\n",
              "      <td>0.7770</td>\n",
              "      <td>0.8511</td>\n",
              "      <td>0.7404</td>\n",
              "      <td>0.7725</td>\n",
              "      <td>0.7561</td>\n",
              "      <td>0.5508</td>\n",
              "      <td>0.5512</td>\n",
              "    </tr>\n",
              "    <tr>\n",
              "      <th>2</th>\n",
              "      <td>0.7800</td>\n",
              "      <td>0.8543</td>\n",
              "      <td>0.7449</td>\n",
              "      <td>0.7752</td>\n",
              "      <td>0.7597</td>\n",
              "      <td>0.5570</td>\n",
              "      <td>0.5574</td>\n",
              "    </tr>\n",
              "    <tr>\n",
              "      <th>3</th>\n",
              "      <td>0.7938</td>\n",
              "      <td>0.8701</td>\n",
              "      <td>0.7644</td>\n",
              "      <td>0.7877</td>\n",
              "      <td>0.7759</td>\n",
              "      <td>0.5851</td>\n",
              "      <td>0.5853</td>\n",
              "    </tr>\n",
              "    <tr>\n",
              "      <th>4</th>\n",
              "      <td>0.7894</td>\n",
              "      <td>0.8672</td>\n",
              "      <td>0.7614</td>\n",
              "      <td>0.7818</td>\n",
              "      <td>0.7715</td>\n",
              "      <td>0.5762</td>\n",
              "      <td>0.5764</td>\n",
              "    </tr>\n",
              "    <tr>\n",
              "      <th>Mean</th>\n",
              "      <td>0.7865</td>\n",
              "      <td>0.8624</td>\n",
              "      <td>0.7564</td>\n",
              "      <td>0.7797</td>\n",
              "      <td>0.7679</td>\n",
              "      <td>0.5704</td>\n",
              "      <td>0.5706</td>\n",
              "    </tr>\n",
              "    <tr>\n",
              "      <th>SD</th>\n",
              "      <td>0.0068</td>\n",
              "      <td>0.0080</td>\n",
              "      <td>0.0118</td>\n",
              "      <td>0.0054</td>\n",
              "      <td>0.0084</td>\n",
              "      <td>0.0139</td>\n",
              "      <td>0.0137</td>\n",
              "    </tr>\n",
              "  </tbody>\n",
              "</table>\n",
              "</div>"
            ],
            "text/plain": [
              "      Accuracy     AUC  Recall   Prec.      F1   Kappa     MCC\n",
              "0       0.7924  0.8691  0.7709  0.7815  0.7762  0.5827  0.5827\n",
              "1       0.7770  0.8511  0.7404  0.7725  0.7561  0.5508  0.5512\n",
              "2       0.7800  0.8543  0.7449  0.7752  0.7597  0.5570  0.5574\n",
              "3       0.7938  0.8701  0.7644  0.7877  0.7759  0.5851  0.5853\n",
              "4       0.7894  0.8672  0.7614  0.7818  0.7715  0.5762  0.5764\n",
              "Mean    0.7865  0.8624  0.7564  0.7797  0.7679  0.5704  0.5706\n",
              "SD      0.0068  0.0080  0.0118  0.0054  0.0084  0.0139  0.0137"
            ]
          },
          "metadata": {}
        },
        {
          "output_type": "stream",
          "name": "stdout",
          "text": [
            "[LightGBM] [Warning] feature_fraction is set=0.9, colsample_bytree=1.0 will be ignored. Current value: feature_fraction=0.9\n",
            "[LightGBM] [Warning] bagging_fraction is set=0.5, subsample=1.0 will be ignored. Current value: bagging_fraction=0.5\n",
            "[LightGBM] [Warning] bagging_freq is set=2, subsample_freq=0 will be ignored. Current value: bagging_freq=2\n",
            "[LightGBM] [Warning] feature_fraction is set=0.9, colsample_bytree=1.0 will be ignored. Current value: feature_fraction=0.9\n",
            "[LightGBM] [Warning] bagging_fraction is set=0.5, subsample=1.0 will be ignored. Current value: bagging_fraction=0.5\n",
            "[LightGBM] [Warning] bagging_freq is set=2, subsample_freq=0 will be ignored. Current value: bagging_freq=2\n",
            "[LightGBM] [Warning] feature_fraction is set=0.9, colsample_bytree=1.0 will be ignored. Current value: feature_fraction=0.9\n",
            "[LightGBM] [Warning] bagging_fraction is set=0.5, subsample=1.0 will be ignored. Current value: bagging_fraction=0.5\n",
            "[LightGBM] [Warning] bagging_freq is set=2, subsample_freq=0 will be ignored. Current value: bagging_freq=2\n",
            "[LightGBM] [Warning] feature_fraction is set=0.9, colsample_bytree=1.0 will be ignored. Current value: feature_fraction=0.9\n",
            "[LightGBM] [Warning] bagging_fraction is set=0.5, subsample=1.0 will be ignored. Current value: bagging_fraction=0.5\n",
            "[LightGBM] [Warning] bagging_freq is set=2, subsample_freq=0 will be ignored. Current value: bagging_freq=2\n",
            "[LightGBM] [Warning] feature_fraction is set=0.9, colsample_bytree=1.0 will be ignored. Current value: feature_fraction=0.9\n",
            "[LightGBM] [Warning] bagging_fraction is set=0.5, subsample=1.0 will be ignored. Current value: bagging_fraction=0.5\n",
            "[LightGBM] [Warning] bagging_freq is set=2, subsample_freq=0 will be ignored. Current value: bagging_freq=2\n"
          ]
        }
      ]
    },
    {
      "cell_type": "code",
      "metadata": {
        "colab": {
          "base_uri": "https://localhost:8080/",
          "height": 529,
          "referenced_widgets": [
            "41bd4bec632445b893666e5fa54eb0d8",
            "fb38eafb012a4d80bf4c29597a200f3b",
            "3a19b7d9018c4f1190053d9763e05bb6"
          ]
        },
        "id": "wx7G2AU_JIWr",
        "outputId": "09db5894-985c-42f8-8123-fca172358237"
      },
      "source": [
        "#blend the model\n",
        "blender2 = blend_models(estimator_list= [tuned_cat2, tuned_gbc2, tuned_lgbm2], optimize='AUC')\n",
        "final_model2=finalize_model(blender2)\n",
        "prediction2=predict_model(final_model2, data = test_features, raw_score=True)\n",
        "sample['seasonal_vaccine']=prediction2['Score_1']"
      ],
      "execution_count": null,
      "outputs": [
        {
          "output_type": "display_data",
          "data": {
            "text/html": [
              "<div>\n",
              "<style scoped>\n",
              "    .dataframe tbody tr th:only-of-type {\n",
              "        vertical-align: middle;\n",
              "    }\n",
              "\n",
              "    .dataframe tbody tr th {\n",
              "        vertical-align: top;\n",
              "    }\n",
              "\n",
              "    .dataframe thead th {\n",
              "        text-align: right;\n",
              "    }\n",
              "</style>\n",
              "<table border=\"1\" class=\"dataframe\">\n",
              "  <thead>\n",
              "    <tr style=\"text-align: right;\">\n",
              "      <th></th>\n",
              "      <th>Accuracy</th>\n",
              "      <th>AUC</th>\n",
              "      <th>Recall</th>\n",
              "      <th>Prec.</th>\n",
              "      <th>F1</th>\n",
              "      <th>Kappa</th>\n",
              "      <th>MCC</th>\n",
              "    </tr>\n",
              "  </thead>\n",
              "  <tbody>\n",
              "    <tr>\n",
              "      <th>0</th>\n",
              "      <td>0.7924</td>\n",
              "      <td>0.8691</td>\n",
              "      <td>0.7709</td>\n",
              "      <td>0.7815</td>\n",
              "      <td>0.7762</td>\n",
              "      <td>0.5827</td>\n",
              "      <td>0.5827</td>\n",
              "    </tr>\n",
              "    <tr>\n",
              "      <th>1</th>\n",
              "      <td>0.7770</td>\n",
              "      <td>0.8511</td>\n",
              "      <td>0.7404</td>\n",
              "      <td>0.7725</td>\n",
              "      <td>0.7561</td>\n",
              "      <td>0.5508</td>\n",
              "      <td>0.5512</td>\n",
              "    </tr>\n",
              "    <tr>\n",
              "      <th>2</th>\n",
              "      <td>0.7800</td>\n",
              "      <td>0.8543</td>\n",
              "      <td>0.7449</td>\n",
              "      <td>0.7752</td>\n",
              "      <td>0.7597</td>\n",
              "      <td>0.5570</td>\n",
              "      <td>0.5574</td>\n",
              "    </tr>\n",
              "    <tr>\n",
              "      <th>3</th>\n",
              "      <td>0.7938</td>\n",
              "      <td>0.8701</td>\n",
              "      <td>0.7644</td>\n",
              "      <td>0.7877</td>\n",
              "      <td>0.7759</td>\n",
              "      <td>0.5851</td>\n",
              "      <td>0.5853</td>\n",
              "    </tr>\n",
              "    <tr>\n",
              "      <th>4</th>\n",
              "      <td>0.7894</td>\n",
              "      <td>0.8672</td>\n",
              "      <td>0.7614</td>\n",
              "      <td>0.7818</td>\n",
              "      <td>0.7715</td>\n",
              "      <td>0.5762</td>\n",
              "      <td>0.5764</td>\n",
              "    </tr>\n",
              "    <tr>\n",
              "      <th>Mean</th>\n",
              "      <td>0.7865</td>\n",
              "      <td>0.8624</td>\n",
              "      <td>0.7564</td>\n",
              "      <td>0.7797</td>\n",
              "      <td>0.7679</td>\n",
              "      <td>0.5704</td>\n",
              "      <td>0.5706</td>\n",
              "    </tr>\n",
              "    <tr>\n",
              "      <th>SD</th>\n",
              "      <td>0.0068</td>\n",
              "      <td>0.0080</td>\n",
              "      <td>0.0118</td>\n",
              "      <td>0.0054</td>\n",
              "      <td>0.0084</td>\n",
              "      <td>0.0139</td>\n",
              "      <td>0.0137</td>\n",
              "    </tr>\n",
              "  </tbody>\n",
              "</table>\n",
              "</div>"
            ],
            "text/plain": [
              "      Accuracy     AUC  Recall   Prec.      F1   Kappa     MCC\n",
              "0       0.7924  0.8691  0.7709  0.7815  0.7762  0.5827  0.5827\n",
              "1       0.7770  0.8511  0.7404  0.7725  0.7561  0.5508  0.5512\n",
              "2       0.7800  0.8543  0.7449  0.7752  0.7597  0.5570  0.5574\n",
              "3       0.7938  0.8701  0.7644  0.7877  0.7759  0.5851  0.5853\n",
              "4       0.7894  0.8672  0.7614  0.7818  0.7715  0.5762  0.5764\n",
              "Mean    0.7865  0.8624  0.7564  0.7797  0.7679  0.5704  0.5706\n",
              "SD      0.0068  0.0080  0.0118  0.0054  0.0084  0.0139  0.0137"
            ]
          },
          "metadata": {}
        },
        {
          "output_type": "stream",
          "name": "stdout",
          "text": [
            "[LightGBM] [Warning] feature_fraction is set=0.9, colsample_bytree=1.0 will be ignored. Current value: feature_fraction=0.9\n",
            "[LightGBM] [Warning] bagging_fraction is set=0.5, subsample=1.0 will be ignored. Current value: bagging_fraction=0.5\n",
            "[LightGBM] [Warning] bagging_freq is set=2, subsample_freq=0 will be ignored. Current value: bagging_freq=2\n",
            "[LightGBM] [Warning] feature_fraction is set=0.9, colsample_bytree=1.0 will be ignored. Current value: feature_fraction=0.9\n",
            "[LightGBM] [Warning] bagging_fraction is set=0.5, subsample=1.0 will be ignored. Current value: bagging_fraction=0.5\n",
            "[LightGBM] [Warning] bagging_freq is set=2, subsample_freq=0 will be ignored. Current value: bagging_freq=2\n",
            "[LightGBM] [Warning] feature_fraction is set=0.9, colsample_bytree=1.0 will be ignored. Current value: feature_fraction=0.9\n",
            "[LightGBM] [Warning] bagging_fraction is set=0.5, subsample=1.0 will be ignored. Current value: bagging_fraction=0.5\n",
            "[LightGBM] [Warning] bagging_freq is set=2, subsample_freq=0 will be ignored. Current value: bagging_freq=2\n",
            "[LightGBM] [Warning] feature_fraction is set=0.9, colsample_bytree=1.0 will be ignored. Current value: feature_fraction=0.9\n",
            "[LightGBM] [Warning] bagging_fraction is set=0.5, subsample=1.0 will be ignored. Current value: bagging_fraction=0.5\n",
            "[LightGBM] [Warning] bagging_freq is set=2, subsample_freq=0 will be ignored. Current value: bagging_freq=2\n",
            "[LightGBM] [Warning] feature_fraction is set=0.9, colsample_bytree=1.0 will be ignored. Current value: feature_fraction=0.9\n",
            "[LightGBM] [Warning] bagging_fraction is set=0.5, subsample=1.0 will be ignored. Current value: bagging_fraction=0.5\n",
            "[LightGBM] [Warning] bagging_freq is set=2, subsample_freq=0 will be ignored. Current value: bagging_freq=2\n"
          ]
        }
      ]
    },
    {
      "cell_type": "code",
      "metadata": {
        "id": "TzgGosapKmnO"
      },
      "source": [
        "# stacker2 = stack_models(estimator_list= [tuned_cat2, tuned_gbc2, tuned_lgbm2], optimize='AUC')\n",
        "# # final_model2=finalize_model(stacker2)\n",
        "# prediction1=predict_model(final_model2, data = test_features, raw_score=True)\n",
        "# sample['h1n1_vaccine']=prediction1['Score_1']"
      ],
      "execution_count": null,
      "outputs": []
    },
    {
      "cell_type": "markdown",
      "metadata": {
        "id": "c8IK8JX9d68Z"
      },
      "source": [
        "### neural network"
      ]
    },
    {
      "cell_type": "code",
      "metadata": {
        "id": "hHfmr4WWd7B_"
      },
      "source": [
        "# mlp_clf2 = MLPClassifier(random_state=1, max_iter=300)\n",
        "# # np.mean(cross_val_score(mlp_clf2, train_x.drop(['h1n1_vaccine_mean'],axis=1), train_y2, cv=5, scoring='roc_auc'))\n",
        "# np.mean(cross_val_score(mlp_clf2, train_x, train_y2, cv=5, scoring='roc_auc'))"
      ],
      "execution_count": null,
      "outputs": []
    },
    {
      "cell_type": "code",
      "metadata": {
        "id": "7qzj_H9OubAf"
      },
      "source": [],
      "execution_count": null,
      "outputs": []
    },
    {
      "cell_type": "markdown",
      "metadata": {
        "id": "JhQKrdH3ubKv"
      },
      "source": [
        "# Making submission file"
      ]
    },
    {
      "cell_type": "code",
      "metadata": {
        "id": "pb0HuJ1reAHB"
      },
      "source": [
        "sample.set_index('respondent_id', inplace=True)\n",
        "sample.to_csv(path+'result_blend_feature1.csv', sep=',', na_rep='NaN')\n",
        "sample.reset_index(inplace=True)"
      ],
      "execution_count": null,
      "outputs": []
    },
    {
      "cell_type": "code",
      "metadata": {
        "id": "zElGnH1j8MT6"
      },
      "source": [],
      "execution_count": null,
      "outputs": []
    },
    {
      "cell_type": "markdown",
      "metadata": {
        "id": "kUei2BTXFhPQ"
      },
      "source": [
        "tuned_gbc_mod: 0.8393 </br>\n",
        "tuned_lgbm_mod: 0.7859 </br>\n",
        "tuned_cat_mod: 0.7783 </br>\n",
        "tuned_blend_mod: 0.7867 </br>\n",
        "stacking_mod: 0.6060 ㅠㅠ 별로네\n",
        "\n",
        "\n",
        "\n",
        "<strong>blending: 0.8599</br></strong>\n",
        "Stacking: 0.6148"
      ]
    }
  ]
}